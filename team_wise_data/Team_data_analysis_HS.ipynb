{
 "cells": [
  {
   "cell_type": "code",
   "execution_count": 12,
   "metadata": {},
   "outputs": [
    {
     "data": {
      "text/html": [
       "        <script type=\"text/javascript\">\n",
       "        window.PlotlyConfig = {MathJaxConfig: 'local'};\n",
       "        if (window.MathJax) {MathJax.Hub.Config({SVG: {font: \"STIX-Web\"}});}\n",
       "        if (typeof require !== 'undefined') {\n",
       "        require.undef(\"plotly\");\n",
       "        requirejs.config({\n",
       "            paths: {\n",
       "                'plotly': ['https://cdn.plot.ly/plotly-latest.min']\n",
       "            }\n",
       "        });\n",
       "        require(['plotly'], function(Plotly) {\n",
       "            window._Plotly = Plotly;\n",
       "        });\n",
       "        }\n",
       "        </script>\n",
       "        "
      ]
     },
     "metadata": {},
     "output_type": "display_data"
    }
   ],
   "source": [
    "import pandas as pd\n",
    "from pandas import ExcelWriter\n",
    "from pandas import ExcelFile\n",
    "import numpy as np\n",
    "import pandas_profiling\n",
    "import cufflinks as cf\n",
    "cf.set_config_file(offline=True)\n",
    "from sklearn.model_selection import train_test_split\n",
    "from sklearn.linear_model import LinearRegression\n",
    "from sklearn.feature_selection import RFE\n",
    "from sklearn.linear_model import RidgeCV, LassoCV, Ridge, Lasso"
   ]
  },
  {
   "cell_type": "code",
   "execution_count": 13,
   "metadata": {},
   "outputs": [],
   "source": [
    "df = pd.read_csv('hariyana-steelers.csv',index_col=0)"
   ]
  },
  {
   "cell_type": "code",
   "execution_count": 14,
   "metadata": {},
   "outputs": [
    {
     "data": {
      "text/html": [
       "<div>\n",
       "<style scoped>\n",
       "    .dataframe tbody tr th:only-of-type {\n",
       "        vertical-align: middle;\n",
       "    }\n",
       "\n",
       "    .dataframe tbody tr th {\n",
       "        vertical-align: top;\n",
       "    }\n",
       "\n",
       "    .dataframe thead th {\n",
       "        text-align: right;\n",
       "    }\n",
       "</style>\n",
       "<table border=\"1\" class=\"dataframe\">\n",
       "  <thead>\n",
       "    <tr style=\"text-align: right;\">\n",
       "      <th></th>\n",
       "      <th>OVERALL</th>\n",
       "      <th>SEASON 7</th>\n",
       "      <th>SEASON 6</th>\n",
       "      <th>SEASON 5</th>\n",
       "      <th>Team-name</th>\n",
       "    </tr>\n",
       "    <tr>\n",
       "      <th>SEASONS</th>\n",
       "      <th></th>\n",
       "      <th></th>\n",
       "      <th></th>\n",
       "      <th></th>\n",
       "      <th></th>\n",
       "    </tr>\n",
       "  </thead>\n",
       "  <tbody>\n",
       "    <tr>\n",
       "      <th>MATCHES PLAYED</th>\n",
       "      <td>62.0</td>\n",
       "      <td>18.0</td>\n",
       "      <td>22.0</td>\n",
       "      <td>22.0</td>\n",
       "      <td>haryana-steelers</td>\n",
       "    </tr>\n",
       "    <tr>\n",
       "      <th>WINS</th>\n",
       "      <td>14.0</td>\n",
       "      <td>3.0</td>\n",
       "      <td>5.0</td>\n",
       "      <td>6.0</td>\n",
       "      <td>haryana-steelers</td>\n",
       "    </tr>\n",
       "    <tr>\n",
       "      <th>DRAWS</th>\n",
       "      <td>9.0</td>\n",
       "      <td>3.0</td>\n",
       "      <td>4.0</td>\n",
       "      <td>2.0</td>\n",
       "      <td>haryana-steelers</td>\n",
       "    </tr>\n",
       "    <tr>\n",
       "      <th>LOSSES</th>\n",
       "      <td>39.0</td>\n",
       "      <td>12.0</td>\n",
       "      <td>13.0</td>\n",
       "      <td>14.0</td>\n",
       "      <td>haryana-steelers</td>\n",
       "    </tr>\n",
       "    <tr>\n",
       "      <th>FINISHING POSITION</th>\n",
       "      <td>0.0</td>\n",
       "      <td>12.0</td>\n",
       "      <td>6.0</td>\n",
       "      <td>6.0</td>\n",
       "      <td>haryana-steelers</td>\n",
       "    </tr>\n",
       "  </tbody>\n",
       "</table>\n",
       "</div>"
      ],
      "text/plain": [
       "                    OVERALL  SEASON 7  SEASON 6  SEASON 5         Team-name\n",
       "SEASONS                                                                    \n",
       "MATCHES PLAYED         62.0      18.0      22.0      22.0  haryana-steelers\n",
       "WINS                   14.0       3.0       5.0       6.0  haryana-steelers\n",
       "DRAWS                   9.0       3.0       4.0       2.0  haryana-steelers\n",
       "LOSSES                 39.0      12.0      13.0      14.0  haryana-steelers\n",
       "FINISHING POSITION      0.0      12.0       6.0       6.0  haryana-steelers"
      ]
     },
     "execution_count": 14,
     "metadata": {},
     "output_type": "execute_result"
    }
   ],
   "source": [
    "df.head()"
   ]
  },
  {
   "cell_type": "code",
   "execution_count": 15,
   "metadata": {},
   "outputs": [],
   "source": [
    "df1 = df.transpose()"
   ]
  },
  {
   "cell_type": "code",
   "execution_count": 16,
   "metadata": {},
   "outputs": [],
   "source": [
    "df2 = df1.apply(pd.to_numeric, errors='coerce')"
   ]
  },
  {
   "cell_type": "code",
   "execution_count": 17,
   "metadata": {
    "scrolled": false
   },
   "outputs": [
    {
     "data": {
      "text/html": [
       "<div>\n",
       "<style scoped>\n",
       "    .dataframe tbody tr th:only-of-type {\n",
       "        vertical-align: middle;\n",
       "    }\n",
       "\n",
       "    .dataframe tbody tr th {\n",
       "        vertical-align: top;\n",
       "    }\n",
       "\n",
       "    .dataframe thead th {\n",
       "        text-align: right;\n",
       "    }\n",
       "</style>\n",
       "<table border=\"1\" class=\"dataframe\">\n",
       "  <thead>\n",
       "    <tr style=\"text-align: right;\">\n",
       "      <th>SEASONS</th>\n",
       "      <th>MATCHES PLAYED</th>\n",
       "      <th>WINS</th>\n",
       "      <th>DRAWS</th>\n",
       "      <th>LOSSES</th>\n",
       "      <th>FINISHING POSITION</th>\n",
       "      <th>TOTAL RAIDS</th>\n",
       "      <th>SUCCESSFUL RAIDS</th>\n",
       "      <th>UNSUCCESSFUL RAID</th>\n",
       "      <th>EMPTY RAIDS</th>\n",
       "      <th>SUCCESS RAID %</th>\n",
       "      <th>...</th>\n",
       "      <th>RAID BONUS POINTS</th>\n",
       "      <th>TOTAL RAID POINTS</th>\n",
       "      <th>TOTAL TACKLES</th>\n",
       "      <th>SUCCESSFUL TACKLES</th>\n",
       "      <th>UNSUCCESFUL TACKLES</th>\n",
       "      <th>SUCCESSFUL TACKLE %</th>\n",
       "      <th>NO. OF SUPER TACKLES</th>\n",
       "      <th>ALL OUTS INFLICTED</th>\n",
       "      <th>TOTAL ALL OUT POINTS</th>\n",
       "      <th>TOTAL DEFENCE POINTS</th>\n",
       "    </tr>\n",
       "  </thead>\n",
       "  <tbody>\n",
       "    <tr>\n",
       "      <th>OVERALL</th>\n",
       "      <td>62.0</td>\n",
       "      <td>14.0</td>\n",
       "      <td>9.0</td>\n",
       "      <td>39.0</td>\n",
       "      <td>0.0</td>\n",
       "      <td>2697.0</td>\n",
       "      <td>943.0</td>\n",
       "      <td>623.0</td>\n",
       "      <td>1131.0</td>\n",
       "      <td>0.42</td>\n",
       "      <td>...</td>\n",
       "      <td>280.0</td>\n",
       "      <td>1142.0</td>\n",
       "      <td>1415.0</td>\n",
       "      <td>502.0</td>\n",
       "      <td>913.0</td>\n",
       "      <td>0.39</td>\n",
       "      <td>45.0</td>\n",
       "      <td>52.0</td>\n",
       "      <td>104.0</td>\n",
       "      <td>545.0</td>\n",
       "    </tr>\n",
       "    <tr>\n",
       "      <th>SEASON 7</th>\n",
       "      <td>18.0</td>\n",
       "      <td>3.0</td>\n",
       "      <td>3.0</td>\n",
       "      <td>12.0</td>\n",
       "      <td>12.0</td>\n",
       "      <td>750.0</td>\n",
       "      <td>248.0</td>\n",
       "      <td>194.0</td>\n",
       "      <td>308.0</td>\n",
       "      <td>0.42</td>\n",
       "      <td>...</td>\n",
       "      <td>74.0</td>\n",
       "      <td>313.0</td>\n",
       "      <td>400.0</td>\n",
       "      <td>144.0</td>\n",
       "      <td>256.0</td>\n",
       "      <td>0.39</td>\n",
       "      <td>13.0</td>\n",
       "      <td>13.0</td>\n",
       "      <td>26.0</td>\n",
       "      <td>155.0</td>\n",
       "    </tr>\n",
       "    <tr>\n",
       "      <th>SEASON 6</th>\n",
       "      <td>22.0</td>\n",
       "      <td>5.0</td>\n",
       "      <td>4.0</td>\n",
       "      <td>13.0</td>\n",
       "      <td>6.0</td>\n",
       "      <td>925.0</td>\n",
       "      <td>344.0</td>\n",
       "      <td>222.0</td>\n",
       "      <td>359.0</td>\n",
       "      <td>0.45</td>\n",
       "      <td>...</td>\n",
       "      <td>105.0</td>\n",
       "      <td>419.0</td>\n",
       "      <td>498.0</td>\n",
       "      <td>174.0</td>\n",
       "      <td>324.0</td>\n",
       "      <td>0.38</td>\n",
       "      <td>15.0</td>\n",
       "      <td>20.0</td>\n",
       "      <td>40.0</td>\n",
       "      <td>189.0</td>\n",
       "    </tr>\n",
       "    <tr>\n",
       "      <th>SEASON 5</th>\n",
       "      <td>22.0</td>\n",
       "      <td>6.0</td>\n",
       "      <td>2.0</td>\n",
       "      <td>14.0</td>\n",
       "      <td>6.0</td>\n",
       "      <td>1022.0</td>\n",
       "      <td>351.0</td>\n",
       "      <td>207.0</td>\n",
       "      <td>464.0</td>\n",
       "      <td>0.40</td>\n",
       "      <td>...</td>\n",
       "      <td>101.0</td>\n",
       "      <td>410.0</td>\n",
       "      <td>517.0</td>\n",
       "      <td>184.0</td>\n",
       "      <td>333.0</td>\n",
       "      <td>0.39</td>\n",
       "      <td>17.0</td>\n",
       "      <td>19.0</td>\n",
       "      <td>38.0</td>\n",
       "      <td>201.0</td>\n",
       "    </tr>\n",
       "    <tr>\n",
       "      <th>Team-name</th>\n",
       "      <td>NaN</td>\n",
       "      <td>NaN</td>\n",
       "      <td>NaN</td>\n",
       "      <td>NaN</td>\n",
       "      <td>NaN</td>\n",
       "      <td>NaN</td>\n",
       "      <td>NaN</td>\n",
       "      <td>NaN</td>\n",
       "      <td>NaN</td>\n",
       "      <td>NaN</td>\n",
       "      <td>...</td>\n",
       "      <td>NaN</td>\n",
       "      <td>NaN</td>\n",
       "      <td>NaN</td>\n",
       "      <td>NaN</td>\n",
       "      <td>NaN</td>\n",
       "      <td>NaN</td>\n",
       "      <td>NaN</td>\n",
       "      <td>NaN</td>\n",
       "      <td>NaN</td>\n",
       "      <td>NaN</td>\n",
       "    </tr>\n",
       "  </tbody>\n",
       "</table>\n",
       "<p>5 rows × 22 columns</p>\n",
       "</div>"
      ],
      "text/plain": [
       "SEASONS    MATCHES PLAYED  WINS  DRAWS  LOSSES  FINISHING POSITION  \\\n",
       "OVERALL              62.0  14.0    9.0    39.0                 0.0   \n",
       "SEASON 7             18.0   3.0    3.0    12.0                12.0   \n",
       "SEASON 6             22.0   5.0    4.0    13.0                 6.0   \n",
       "SEASON 5             22.0   6.0    2.0    14.0                 6.0   \n",
       "Team-name             NaN   NaN    NaN     NaN                 NaN   \n",
       "\n",
       "SEASONS    TOTAL RAIDS  SUCCESSFUL RAIDS  UNSUCCESSFUL RAID  EMPTY RAIDS  \\\n",
       "OVERALL         2697.0             943.0              623.0       1131.0   \n",
       "SEASON 7         750.0             248.0              194.0        308.0   \n",
       "SEASON 6         925.0             344.0              222.0        359.0   \n",
       "SEASON 5        1022.0             351.0              207.0        464.0   \n",
       "Team-name          NaN               NaN                NaN          NaN   \n",
       "\n",
       "SEASONS    SUCCESS RAID %          ...           RAID BONUS POINTS  \\\n",
       "OVERALL              0.42          ...                       280.0   \n",
       "SEASON 7             0.42          ...                        74.0   \n",
       "SEASON 6             0.45          ...                       105.0   \n",
       "SEASON 5             0.40          ...                       101.0   \n",
       "Team-name             NaN          ...                         NaN   \n",
       "\n",
       "SEASONS    TOTAL RAID POINTS  TOTAL TACKLES  SUCCESSFUL TACKLES  \\\n",
       "OVERALL               1142.0         1415.0               502.0   \n",
       "SEASON 7               313.0          400.0               144.0   \n",
       "SEASON 6               419.0          498.0               174.0   \n",
       "SEASON 5               410.0          517.0               184.0   \n",
       "Team-name                NaN            NaN                 NaN   \n",
       "\n",
       "SEASONS    UNSUCCESFUL TACKLES  SUCCESSFUL TACKLE %  NO. OF SUPER TACKLES  \\\n",
       "OVERALL                  913.0                 0.39                  45.0   \n",
       "SEASON 7                 256.0                 0.39                  13.0   \n",
       "SEASON 6                 324.0                 0.38                  15.0   \n",
       "SEASON 5                 333.0                 0.39                  17.0   \n",
       "Team-name                  NaN                  NaN                   NaN   \n",
       "\n",
       "SEASONS    ALL OUTS INFLICTED  TOTAL ALL OUT POINTS  TOTAL DEFENCE POINTS  \n",
       "OVERALL                  52.0                 104.0                 545.0  \n",
       "SEASON 7                 13.0                  26.0                 155.0  \n",
       "SEASON 6                 20.0                  40.0                 189.0  \n",
       "SEASON 5                 19.0                  38.0                 201.0  \n",
       "Team-name                 NaN                   NaN                   NaN  \n",
       "\n",
       "[5 rows x 22 columns]"
      ]
     },
     "execution_count": 17,
     "metadata": {},
     "output_type": "execute_result"
    }
   ],
   "source": [
    "df2"
   ]
  },
  {
   "cell_type": "code",
   "execution_count": 18,
   "metadata": {
    "scrolled": true
   },
   "outputs": [],
   "source": [
    "df2['WIN%'] = df2['WINS']/df2['MATCHES PLAYED']\n",
    "df2['DRAW%'] = df2['DRAWS']/df2['MATCHES PLAYED']\n",
    "df2['LOSS%'] = df2['LOSSES']/df2['MATCHES PLAYED']\n",
    "df2['WIN-LOSS%'] = df2['WINS']/df2['LOSSES']\n"
   ]
  },
  {
   "cell_type": "code",
   "execution_count": 19,
   "metadata": {},
   "outputs": [
    {
     "data": {
      "text/plain": [
       "SEASONS\n",
       "MATCHES PLAYED          float64\n",
       "WINS                    float64\n",
       "DRAWS                   float64\n",
       "LOSSES                  float64\n",
       "FINISHING POSITION      float64\n",
       "TOTAL RAIDS             float64\n",
       "SUCCESSFUL RAIDS        float64\n",
       "UNSUCCESSFUL RAID       float64\n",
       "EMPTY RAIDS             float64\n",
       "SUCCESS RAID %          float64\n",
       "NO. OF SUPER RAIDS      float64\n",
       "RAID TOUCH POINTS       float64\n",
       "RAID BONUS POINTS       float64\n",
       "TOTAL RAID POINTS       float64\n",
       "TOTAL TACKLES           float64\n",
       "SUCCESSFUL TACKLES      float64\n",
       "UNSUCCESFUL TACKLES     float64\n",
       "SUCCESSFUL TACKLE %     float64\n",
       "NO. OF SUPER TACKLES    float64\n",
       "ALL OUTS INFLICTED      float64\n",
       "TOTAL ALL OUT POINTS    float64\n",
       "TOTAL DEFENCE POINTS    float64\n",
       "WIN%                    float64\n",
       "DRAW%                   float64\n",
       "LOSS%                   float64\n",
       "WIN-LOSS%               float64\n",
       "dtype: object"
      ]
     },
     "execution_count": 19,
     "metadata": {},
     "output_type": "execute_result"
    }
   ],
   "source": [
    "df2.dtypes"
   ]
  },
  {
   "cell_type": "code",
   "execution_count": 20,
   "metadata": {},
   "outputs": [],
   "source": [
    "df2['UNSUCCESSFUL RAID%'] = df2['UNSUCCESSFUL RAID']/df2['TOTAL RAIDS']\n",
    "df2['EMPTY RAID%'] = df2['EMPTY RAIDS']/df2['TOTAL RAIDS']\n",
    "df2['AVG_RAID_TOUCH_POINT'] = df2['RAID TOUCH POINTS']/df2['MATCHES PLAYED']\n",
    "df2['AVG_RAID_BONUS_POINT'] = df2['RAID BONUS POINTS']/df2['MATCHES PLAYED']\n",
    "df2['UNSUCCESSFUL TACKLE%'] = df2['UNSUCCESFUL TACKLES']/df2['TOTAL TACKLES']\n",
    "df2['AVG_ALL_OUTS'] = df2['ALL OUTS INFLICTED']/df2['MATCHES PLAYED']"
   ]
  },
  {
   "cell_type": "code",
   "execution_count": 21,
   "metadata": {},
   "outputs": [],
   "source": [
    "df6 = df2.drop(['MATCHES PLAYED','WINS','DRAWS','LOSSES','SUCCESSFUL RAIDS','UNSUCCESSFUL RAID','EMPTY RAIDS','NO. OF SUPER RAIDS','RAID TOUCH POINTS','RAID BONUS POINTS','TOTAL RAID POINTS','TOTAL TACKLES','SUCCESSFUL TACKLES','UNSUCCESFUL TACKLES','ALL OUTS INFLICTED','TOTAL ALL OUT POINTS'],axis=1)"
   ]
  },
  {
   "cell_type": "code",
   "execution_count": 22,
   "metadata": {},
   "outputs": [
    {
     "data": {
      "text/html": [
       "<div>\n",
       "<style scoped>\n",
       "    .dataframe tbody tr th:only-of-type {\n",
       "        vertical-align: middle;\n",
       "    }\n",
       "\n",
       "    .dataframe tbody tr th {\n",
       "        vertical-align: top;\n",
       "    }\n",
       "\n",
       "    .dataframe thead th {\n",
       "        text-align: right;\n",
       "    }\n",
       "</style>\n",
       "<table border=\"1\" class=\"dataframe\">\n",
       "  <thead>\n",
       "    <tr style=\"text-align: right;\">\n",
       "      <th>SEASONS</th>\n",
       "      <th>FINISHING POSITION</th>\n",
       "      <th>TOTAL RAIDS</th>\n",
       "      <th>SUCCESS RAID %</th>\n",
       "      <th>SUCCESSFUL TACKLE %</th>\n",
       "      <th>NO. OF SUPER TACKLES</th>\n",
       "      <th>TOTAL DEFENCE POINTS</th>\n",
       "      <th>WIN%</th>\n",
       "      <th>DRAW%</th>\n",
       "      <th>LOSS%</th>\n",
       "      <th>WIN-LOSS%</th>\n",
       "      <th>UNSUCCESSFUL RAID%</th>\n",
       "      <th>EMPTY RAID%</th>\n",
       "      <th>AVG_RAID_TOUCH_POINT</th>\n",
       "      <th>AVG_RAID_BONUS_POINT</th>\n",
       "      <th>UNSUCCESSFUL TACKLE%</th>\n",
       "      <th>AVG_ALL_OUTS</th>\n",
       "    </tr>\n",
       "  </thead>\n",
       "  <tbody>\n",
       "    <tr>\n",
       "      <th>OVERALL</th>\n",
       "      <td>0.0</td>\n",
       "      <td>2697.0</td>\n",
       "      <td>0.42</td>\n",
       "      <td>0.39</td>\n",
       "      <td>45.0</td>\n",
       "      <td>545.0</td>\n",
       "      <td>0.225806</td>\n",
       "      <td>0.145161</td>\n",
       "      <td>0.629032</td>\n",
       "      <td>0.358974</td>\n",
       "      <td>0.230997</td>\n",
       "      <td>0.419355</td>\n",
       "      <td>13.903226</td>\n",
       "      <td>4.516129</td>\n",
       "      <td>0.645230</td>\n",
       "      <td>0.838710</td>\n",
       "    </tr>\n",
       "    <tr>\n",
       "      <th>SEASON 7</th>\n",
       "      <td>12.0</td>\n",
       "      <td>750.0</td>\n",
       "      <td>0.42</td>\n",
       "      <td>0.39</td>\n",
       "      <td>13.0</td>\n",
       "      <td>155.0</td>\n",
       "      <td>0.166667</td>\n",
       "      <td>0.166667</td>\n",
       "      <td>0.666667</td>\n",
       "      <td>0.250000</td>\n",
       "      <td>0.258667</td>\n",
       "      <td>0.410667</td>\n",
       "      <td>13.277778</td>\n",
       "      <td>4.111111</td>\n",
       "      <td>0.640000</td>\n",
       "      <td>0.722222</td>\n",
       "    </tr>\n",
       "    <tr>\n",
       "      <th>SEASON 6</th>\n",
       "      <td>6.0</td>\n",
       "      <td>925.0</td>\n",
       "      <td>0.45</td>\n",
       "      <td>0.38</td>\n",
       "      <td>15.0</td>\n",
       "      <td>189.0</td>\n",
       "      <td>0.227273</td>\n",
       "      <td>0.181818</td>\n",
       "      <td>0.590909</td>\n",
       "      <td>0.384615</td>\n",
       "      <td>0.240000</td>\n",
       "      <td>0.388108</td>\n",
       "      <td>14.272727</td>\n",
       "      <td>4.772727</td>\n",
       "      <td>0.650602</td>\n",
       "      <td>0.909091</td>\n",
       "    </tr>\n",
       "    <tr>\n",
       "      <th>SEASON 5</th>\n",
       "      <td>6.0</td>\n",
       "      <td>1022.0</td>\n",
       "      <td>0.40</td>\n",
       "      <td>0.39</td>\n",
       "      <td>17.0</td>\n",
       "      <td>201.0</td>\n",
       "      <td>0.272727</td>\n",
       "      <td>0.090909</td>\n",
       "      <td>0.636364</td>\n",
       "      <td>0.428571</td>\n",
       "      <td>0.202544</td>\n",
       "      <td>0.454012</td>\n",
       "      <td>14.045455</td>\n",
       "      <td>4.590909</td>\n",
       "      <td>0.644101</td>\n",
       "      <td>0.863636</td>\n",
       "    </tr>\n",
       "  </tbody>\n",
       "</table>\n",
       "</div>"
      ],
      "text/plain": [
       "SEASONS   FINISHING POSITION  TOTAL RAIDS  SUCCESS RAID %  \\\n",
       "OVERALL                  0.0       2697.0            0.42   \n",
       "SEASON 7                12.0        750.0            0.42   \n",
       "SEASON 6                 6.0        925.0            0.45   \n",
       "SEASON 5                 6.0       1022.0            0.40   \n",
       "\n",
       "SEASONS   SUCCESSFUL TACKLE %  NO. OF SUPER TACKLES  TOTAL DEFENCE POINTS  \\\n",
       "OVERALL                  0.39                  45.0                 545.0   \n",
       "SEASON 7                 0.39                  13.0                 155.0   \n",
       "SEASON 6                 0.38                  15.0                 189.0   \n",
       "SEASON 5                 0.39                  17.0                 201.0   \n",
       "\n",
       "SEASONS       WIN%     DRAW%     LOSS%  WIN-LOSS%  UNSUCCESSFUL RAID%  \\\n",
       "OVERALL   0.225806  0.145161  0.629032   0.358974            0.230997   \n",
       "SEASON 7  0.166667  0.166667  0.666667   0.250000            0.258667   \n",
       "SEASON 6  0.227273  0.181818  0.590909   0.384615            0.240000   \n",
       "SEASON 5  0.272727  0.090909  0.636364   0.428571            0.202544   \n",
       "\n",
       "SEASONS   EMPTY RAID%  AVG_RAID_TOUCH_POINT  AVG_RAID_BONUS_POINT  \\\n",
       "OVERALL      0.419355             13.903226              4.516129   \n",
       "SEASON 7     0.410667             13.277778              4.111111   \n",
       "SEASON 6     0.388108             14.272727              4.772727   \n",
       "SEASON 5     0.454012             14.045455              4.590909   \n",
       "\n",
       "SEASONS   UNSUCCESSFUL TACKLE%  AVG_ALL_OUTS  \n",
       "OVERALL               0.645230      0.838710  \n",
       "SEASON 7              0.640000      0.722222  \n",
       "SEASON 6              0.650602      0.909091  \n",
       "SEASON 5              0.644101      0.863636  "
      ]
     },
     "execution_count": 22,
     "metadata": {},
     "output_type": "execute_result"
    }
   ],
   "source": [
    "df6 = df6.drop(['Team-name'],axis=0)\n",
    "df6"
   ]
  },
  {
   "cell_type": "code",
   "execution_count": 23,
   "metadata": {
    "scrolled": true
   },
   "outputs": [
    {
     "data": {
      "text/plain": [
       "SEASONS\n",
       "FINISHING POSITION      float64\n",
       "TOTAL RAIDS             float64\n",
       "SUCCESS RAID %          float64\n",
       "SUCCESSFUL TACKLE %     float64\n",
       "NO. OF SUPER TACKLES    float64\n",
       "TOTAL DEFENCE POINTS    float64\n",
       "WIN%                    float64\n",
       "DRAW%                   float64\n",
       "LOSS%                   float64\n",
       "WIN-LOSS%               float64\n",
       "UNSUCCESSFUL RAID%      float64\n",
       "EMPTY RAID%             float64\n",
       "AVG_RAID_TOUCH_POINT    float64\n",
       "AVG_RAID_BONUS_POINT    float64\n",
       "UNSUCCESSFUL TACKLE%    float64\n",
       "AVG_ALL_OUTS            float64\n",
       "dtype: object"
      ]
     },
     "execution_count": 23,
     "metadata": {},
     "output_type": "execute_result"
    }
   ],
   "source": [
    "df6.dtypes"
   ]
  },
  {
   "cell_type": "code",
   "execution_count": 24,
   "metadata": {},
   "outputs": [
    {
     "data": {
      "application/vnd.plotly.v1+json": {
       "config": {
        "linkText": "Export to plot.ly",
        "plotlyServerURL": "https://plot.ly",
        "showLink": true
       },
       "data": [
        {
         "colorscale": [
          [
           0,
           "rgb(255,255,229)"
          ],
          [
           0.125,
           "rgb(247,252,185)"
          ],
          [
           0.25,
           "rgb(217,240,163)"
          ],
          [
           0.375,
           "rgb(173,221,142)"
          ],
          [
           0.5,
           "rgb(120,198,121)"
          ],
          [
           0.625,
           "rgb(65,171,93)"
          ],
          [
           0.75,
           "rgb(35,132,67)"
          ],
          [
           0.875,
           "rgb(0,104,55)"
          ],
          [
           1,
           "rgb(0,69,41)"
          ]
         ],
         "type": "heatmap",
         "uid": "f4905679-7fb0-4649-987b-43925dcdde80",
         "x": [
          "FINISHING POSITION",
          "TOTAL RAIDS",
          "SUCCESS RAID %",
          "SUCCESSFUL TACKLE %",
          "NO. OF SUPER TACKLES",
          "TOTAL DEFENCE POINTS",
          "WIN%",
          "DRAW%",
          "LOSS%",
          "WIN-LOSS%",
          "UNSUCCESSFUL RAID%",
          "EMPTY RAID%",
          "AVG_RAID_TOUCH_POINT",
          "AVG_RAID_BONUS_POINT",
          "UNSUCCESSFUL TACKLE%",
          "AVG_ALL_OUTS"
         ],
         "y": [
          "FINISHING POSITION",
          "TOTAL RAIDS",
          "SUCCESS RAID %",
          "SUCCESSFUL TACKLE %",
          "NO. OF SUPER TACKLES",
          "TOTAL DEFENCE POINTS",
          "WIN%",
          "DRAW%",
          "LOSS%",
          "WIN-LOSS%",
          "UNSUCCESSFUL RAID%",
          "EMPTY RAID%",
          "AVG_RAID_TOUCH_POINT",
          "AVG_RAID_BONUS_POINT",
          "UNSUCCESSFUL TACKLE%",
          "AVG_ALL_OUTS"
         ],
         "z": [
          [
           1,
           -0.8773102885398879,
           0,
           0,
           -0.8658140491983053,
           -0.8714262481428077,
           -0.5552445258354236,
           0.2207407242244131,
           0.4931643660770393,
           -0.5853517023914476,
           0.483223020878121,
           -0.1296315034901989,
           -0.5992285544909032,
           -0.5918904681238739,
           -0.48874435357549234,
           -0.5970648055925376
          ],
          [
           -0.8773102885398879,
           1,
           -0.11020064549389053,
           0.3116198052396962,
           0.9996896160346972,
           0.999769596406995,
           0.16460495313188983,
           -0.09880930943720298,
           -0.10359969763170992,
           0.15315421642286925,
           -0.17442550580045552,
           0.09570171536073623,
           0.1479968222544231,
           0.1439715805448619,
           0.10302549709356587,
           0.14676215360616868
          ],
          [
           0,
           -0.11020064549389053,
           1,
           -0.8892972917998879,
           -0.12323452518895613,
           -0.09513370260208055,
           -0.32259466292157535,
           0.8841983558903092,
           -0.6785543757528157,
           -0.12517078094481168,
           0.5662147982456108,
           -0.9557509002197722,
           0.32347709224953436,
           0.3696461559901421,
           0.689308603714765,
           0.3381727837124707
          ],
          [
           0,
           0.3116198052396962,
           -0.8892972917998879,
           1,
           0.33137541135450294,
           0.30467503642887056,
           -0.06369454022891591,
           -0.5980493364479218,
           0.8523990136906312,
           -0.25503396337244044,
           -0.1981493318357156,
           0.7291771372732434,
           -0.6225773644432898,
           -0.656291878873345,
           -0.8575679654119571,
           -0.6334108740155587
          ],
          [
           -0.8658140491983053,
           0.9996896160346972,
           -0.12323452518895613,
           0.33137541135450294,
           1,
           0.9995824298850068,
           0.14874089267254545,
           -0.10044681178632246,
           -0.07936720601248878,
           0.13375518810160822,
           -0.16432894450935118,
           0.10195409561177371,
           0.12381788432029744,
           0.1195619099256497,
           0.07887520792642312,
           0.12250380942911404
          ],
          [
           -0.8714262481428077,
           0.999769596406995,
           -0.09513370260208055,
           0.30467503642887056,
           0.9995824298850068,
           1,
           0.14565880936686076,
           -0.07837855208470038,
           -0.10323884371005017,
           0.1365188170016472,
           -0.1536271554918157,
           0.07681185611640391,
           0.13900967400421987,
           0.13594985173237364,
           0.10298830286744101,
           0.13807813666890015
          ],
          [
           -0.5552445258354236,
           0.16460495313188983,
           -0.32259466292157535,
           -0.06369454022891591,
           0.14874089267254545,
           0.14565880936686076,
           1,
           -0.7233733855419877,
           -0.47223883836158204,
           0.9794640850790478,
           -0.9628484049765045,
           0.5827308505832112,
           0.7897415527585807,
           0.7584640610541971,
           0.4589489215167966,
           0.7800525400857755
          ],
          [
           0.2207407242244131,
           -0.09880930943720298,
           0.8841983558903092,
           -0.5980493364479218,
           -0.10044681178632246,
           -0.07837855208470038,
           -0.7233733855419877,
           1,
           -0.2670126112834434,
           -0.5696535085762162,
           0.8822033923998729,
           -0.9823985751126467,
           -0.14772424385761873,
           -0.09867158763445778,
           0.281453079806736,
           -0.1322405872351101
          ],
          [
           0.4931643660770393,
           -0.10359969763170992,
           -0.6785543757528157,
           0.8523990136906312,
           -0.07936720601248878,
           -0.10323884371005017,
           -0.47223883836158204,
           -0.2670126112834434,
           1,
           -0.6398223809476873,
           0.21761515255980698,
           0.440841079358913,
           -0.9136757253684453,
           -0.9326437046289273,
           -0.9998862328304537,
           -0.9199196395526087
          ],
          [
           -0.5853517023914476,
           0.15315421642286925,
           -0.12517078094481168,
           -0.25503396337244044,
           0.13375518810160822,
           0.1365188170016472,
           0.9794640850790478,
           -0.5696535085762162,
           -0.6398223809476873,
           1,
           -0.8886399213758106,
           0.40705221746212705,
           0.8968984997520771,
           0.8739612203246295,
           0.6281911467049734,
           0.8898770690431884
          ],
          [
           0.483223020878121,
           -0.17442550580045552,
           0.5662147982456108,
           -0.1981493318357156,
           -0.16432894450935118,
           -0.1536271554918157,
           -0.9628484049765045,
           0.8822033923998729,
           0.21761515255980698,
           -0.8886399213758106,
           1,
           -0.7801389068947823,
           -0.5954114026586226,
           -0.5550014808233372,
           -0.20297324245740353,
           -0.5827810693848956
          ],
          [
           -0.1296315034901989,
           0.09570171536073623,
           -0.9557509002197722,
           0.7291771372732434,
           0.10195409561177371,
           0.07681185611640391,
           0.5827308505832112,
           -0.9823985751126467,
           0.440841079358913,
           0.40705221746212705,
           -0.7801389068947823,
           1,
           -0.03809770376336996,
           -0.08741543319125898,
           -0.45423007553920813,
           -0.05371435886529145
          ],
          [
           -0.5992285544909032,
           0.1479968222544231,
           0.32347709224953436,
           -0.6225773644432898,
           0.12381788432029744,
           0.13900967400421987,
           0.7897415527585807,
           -0.14772424385761873,
           -0.9136757253684453,
           0.8968984997520771,
           -0.5954114026586226,
           -0.03809770376336996,
           1,
           0.9987783654918747,
           0.9074686038518059,
           0.9998777321953155
          ],
          [
           -0.5918904681238739,
           0.1439715805448619,
           0.3696461559901421,
           -0.656291878873345,
           0.1195619099256497,
           0.13594985173237364,
           0.7584640610541971,
           -0.09867158763445778,
           -0.9326437046289273,
           0.8739612203246295,
           -0.5550014808233372,
           -0.08741543319125898,
           0.9987783654918747,
           1,
           0.9271198350606438,
           0.9994289467573285
          ],
          [
           -0.48874435357549234,
           0.10302549709356587,
           0.689308603714765,
           -0.8575679654119571,
           0.07887520792642312,
           0.10298830286744101,
           0.4589489215167966,
           0.281453079806736,
           -0.9998862328304537,
           0.6281911467049734,
           -0.20297324245740353,
           -0.45423007553920813,
           0.9074686038518059,
           0.9271198350606438,
           1,
           0.9139270923173847
          ],
          [
           -0.5970648055925376,
           0.14676215360616868,
           0.3381727837124707,
           -0.6334108740155587,
           0.12250380942911404,
           0.13807813666890015,
           0.7800525400857755,
           -0.1322405872351101,
           -0.9199196395526087,
           0.8898770690431884,
           -0.5827810693848956,
           -0.05371435886529145,
           0.9998777321953155,
           0.9994289467573285,
           0.9139270923173847,
           1
          ]
         ],
         "zmax": 1,
         "zmin": -0.9998862328304537
        }
       ],
       "layout": {
        "legend": {
         "bgcolor": "#F5F6F9",
         "font": {
          "color": "#4D5663"
         }
        },
        "paper_bgcolor": "#F5F6F9",
        "plot_bgcolor": "#F5F6F9",
        "title": {
         "font": {
          "color": "#4D5663"
         }
        },
        "xaxis": {
         "gridcolor": "#E1E5ED",
         "showgrid": true,
         "tickfont": {
          "color": "#4D5663"
         },
         "title": {
          "font": {
           "color": "#4D5663"
          },
          "text": ""
         },
         "zerolinecolor": "#E1E5ED"
        },
        "yaxis": {
         "gridcolor": "#E1E5ED",
         "showgrid": true,
         "tickfont": {
          "color": "#4D5663"
         },
         "title": {
          "font": {
           "color": "#4D5663"
          },
          "text": ""
         },
         "zerolinecolor": "#E1E5ED"
        }
       }
      },
      "text/html": [
       "<div>\n",
       "        \n",
       "        \n",
       "            <div id=\"917cf8bd-9132-4a5e-917c-350477377084\" class=\"plotly-graph-div\" style=\"height:525px; width:100%;\"></div>\n",
       "            <script type=\"text/javascript\">\n",
       "                require([\"plotly\"], function(Plotly) {\n",
       "                    window.PLOTLYENV=window.PLOTLYENV || {};\n",
       "                    window.PLOTLYENV.BASE_URL='https://plot.ly';\n",
       "                    \n",
       "                if (document.getElementById(\"917cf8bd-9132-4a5e-917c-350477377084\")) {\n",
       "                    Plotly.newPlot(\n",
       "                        '917cf8bd-9132-4a5e-917c-350477377084',\n",
       "                        [{\"colorscale\": [[0.0, \"rgb(255,255,229)\"], [0.125, \"rgb(247,252,185)\"], [0.25, \"rgb(217,240,163)\"], [0.375, \"rgb(173,221,142)\"], [0.5, \"rgb(120,198,121)\"], [0.625, \"rgb(65,171,93)\"], [0.75, \"rgb(35,132,67)\"], [0.875, \"rgb(0,104,55)\"], [1.0, \"rgb(0,69,41)\"]], \"type\": \"heatmap\", \"uid\": \"f4905679-7fb0-4649-987b-43925dcdde80\", \"x\": [\"FINISHING POSITION\", \"TOTAL RAIDS\", \"SUCCESS RAID %\", \"SUCCESSFUL TACKLE %\", \"NO. OF SUPER TACKLES\", \"TOTAL DEFENCE POINTS\", \"WIN%\", \"DRAW%\", \"LOSS%\", \"WIN-LOSS%\", \"UNSUCCESSFUL RAID%\", \"EMPTY RAID%\", \"AVG_RAID_TOUCH_POINT\", \"AVG_RAID_BONUS_POINT\", \"UNSUCCESSFUL TACKLE%\", \"AVG_ALL_OUTS\"], \"y\": [\"FINISHING POSITION\", \"TOTAL RAIDS\", \"SUCCESS RAID %\", \"SUCCESSFUL TACKLE %\", \"NO. OF SUPER TACKLES\", \"TOTAL DEFENCE POINTS\", \"WIN%\", \"DRAW%\", \"LOSS%\", \"WIN-LOSS%\", \"UNSUCCESSFUL RAID%\", \"EMPTY RAID%\", \"AVG_RAID_TOUCH_POINT\", \"AVG_RAID_BONUS_POINT\", \"UNSUCCESSFUL TACKLE%\", \"AVG_ALL_OUTS\"], \"z\": [[1.0, -0.8773102885398879, 0.0, 0.0, -0.8658140491983053, -0.8714262481428077, -0.5552445258354236, 0.2207407242244131, 0.4931643660770393, -0.5853517023914476, 0.483223020878121, -0.1296315034901989, -0.5992285544909032, -0.5918904681238739, -0.48874435357549234, -0.5970648055925376], [-0.8773102885398879, 1.0, -0.11020064549389053, 0.3116198052396962, 0.9996896160346972, 0.999769596406995, 0.16460495313188983, -0.09880930943720298, -0.10359969763170992, 0.15315421642286925, -0.17442550580045552, 0.09570171536073623, 0.1479968222544231, 0.1439715805448619, 0.10302549709356587, 0.14676215360616868], [0.0, -0.11020064549389053, 1.0, -0.8892972917998879, -0.12323452518895613, -0.09513370260208055, -0.32259466292157535, 0.8841983558903092, -0.6785543757528157, -0.12517078094481168, 0.5662147982456108, -0.9557509002197722, 0.32347709224953436, 0.3696461559901421, 0.689308603714765, 0.3381727837124707], [0.0, 0.3116198052396962, -0.8892972917998879, 1.0, 0.33137541135450294, 0.30467503642887056, -0.06369454022891591, -0.5980493364479218, 0.8523990136906312, -0.25503396337244044, -0.1981493318357156, 0.7291771372732434, -0.6225773644432898, -0.656291878873345, -0.8575679654119571, -0.6334108740155587], [-0.8658140491983053, 0.9996896160346972, -0.12323452518895613, 0.33137541135450294, 1.0, 0.9995824298850068, 0.14874089267254545, -0.10044681178632246, -0.07936720601248878, 0.13375518810160822, -0.16432894450935118, 0.10195409561177371, 0.12381788432029744, 0.1195619099256497, 0.07887520792642312, 0.12250380942911404], [-0.8714262481428077, 0.999769596406995, -0.09513370260208055, 0.30467503642887056, 0.9995824298850068, 1.0, 0.14565880936686076, -0.07837855208470038, -0.10323884371005017, 0.1365188170016472, -0.1536271554918157, 0.07681185611640391, 0.13900967400421987, 0.13594985173237364, 0.10298830286744101, 0.13807813666890015], [-0.5552445258354236, 0.16460495313188983, -0.32259466292157535, -0.06369454022891591, 0.14874089267254545, 0.14565880936686076, 1.0, -0.7233733855419877, -0.47223883836158204, 0.9794640850790478, -0.9628484049765045, 0.5827308505832112, 0.7897415527585807, 0.7584640610541971, 0.4589489215167966, 0.7800525400857755], [0.2207407242244131, -0.09880930943720298, 0.8841983558903092, -0.5980493364479218, -0.10044681178632246, -0.07837855208470038, -0.7233733855419877, 1.0, -0.2670126112834434, -0.5696535085762162, 0.8822033923998729, -0.9823985751126467, -0.14772424385761873, -0.09867158763445778, 0.281453079806736, -0.1322405872351101], [0.4931643660770393, -0.10359969763170992, -0.6785543757528157, 0.8523990136906312, -0.07936720601248878, -0.10323884371005017, -0.47223883836158204, -0.2670126112834434, 1.0, -0.6398223809476873, 0.21761515255980698, 0.440841079358913, -0.9136757253684453, -0.9326437046289273, -0.9998862328304537, -0.9199196395526087], [-0.5853517023914476, 0.15315421642286925, -0.12517078094481168, -0.25503396337244044, 0.13375518810160822, 0.1365188170016472, 0.9794640850790478, -0.5696535085762162, -0.6398223809476873, 1.0, -0.8886399213758106, 0.40705221746212705, 0.8968984997520771, 0.8739612203246295, 0.6281911467049734, 0.8898770690431884], [0.483223020878121, -0.17442550580045552, 0.5662147982456108, -0.1981493318357156, -0.16432894450935118, -0.1536271554918157, -0.9628484049765045, 0.8822033923998729, 0.21761515255980698, -0.8886399213758106, 1.0, -0.7801389068947823, -0.5954114026586226, -0.5550014808233372, -0.20297324245740353, -0.5827810693848956], [-0.1296315034901989, 0.09570171536073623, -0.9557509002197722, 0.7291771372732434, 0.10195409561177371, 0.07681185611640391, 0.5827308505832112, -0.9823985751126467, 0.440841079358913, 0.40705221746212705, -0.7801389068947823, 1.0, -0.03809770376336996, -0.08741543319125898, -0.45423007553920813, -0.05371435886529145], [-0.5992285544909032, 0.1479968222544231, 0.32347709224953436, -0.6225773644432898, 0.12381788432029744, 0.13900967400421987, 0.7897415527585807, -0.14772424385761873, -0.9136757253684453, 0.8968984997520771, -0.5954114026586226, -0.03809770376336996, 1.0, 0.9987783654918747, 0.9074686038518059, 0.9998777321953155], [-0.5918904681238739, 0.1439715805448619, 0.3696461559901421, -0.656291878873345, 0.1195619099256497, 0.13594985173237364, 0.7584640610541971, -0.09867158763445778, -0.9326437046289273, 0.8739612203246295, -0.5550014808233372, -0.08741543319125898, 0.9987783654918747, 1.0, 0.9271198350606438, 0.9994289467573285], [-0.48874435357549234, 0.10302549709356587, 0.689308603714765, -0.8575679654119571, 0.07887520792642312, 0.10298830286744101, 0.4589489215167966, 0.281453079806736, -0.9998862328304537, 0.6281911467049734, -0.20297324245740353, -0.45423007553920813, 0.9074686038518059, 0.9271198350606438, 1.0, 0.9139270923173847], [-0.5970648055925376, 0.14676215360616868, 0.3381727837124707, -0.6334108740155587, 0.12250380942911404, 0.13807813666890015, 0.7800525400857755, -0.1322405872351101, -0.9199196395526087, 0.8898770690431884, -0.5827810693848956, -0.05371435886529145, 0.9998777321953155, 0.9994289467573285, 0.9139270923173847, 1.0]], \"zmax\": 1.0, \"zmin\": -0.9998862328304537}],\n",
       "                        {\"legend\": {\"bgcolor\": \"#F5F6F9\", \"font\": {\"color\": \"#4D5663\"}}, \"paper_bgcolor\": \"#F5F6F9\", \"plot_bgcolor\": \"#F5F6F9\", \"title\": {\"font\": {\"color\": \"#4D5663\"}}, \"xaxis\": {\"gridcolor\": \"#E1E5ED\", \"showgrid\": true, \"tickfont\": {\"color\": \"#4D5663\"}, \"title\": {\"font\": {\"color\": \"#4D5663\"}, \"text\": \"\"}, \"zerolinecolor\": \"#E1E5ED\"}, \"yaxis\": {\"gridcolor\": \"#E1E5ED\", \"showgrid\": true, \"tickfont\": {\"color\": \"#4D5663\"}, \"title\": {\"font\": {\"color\": \"#4D5663\"}, \"text\": \"\"}, \"zerolinecolor\": \"#E1E5ED\"}},\n",
       "                        {\"showLink\": true, \"linkText\": \"Export to plot.ly\", \"plotlyServerURL\": \"https://plot.ly\", \"responsive\": true}\n",
       "                    ).then(function(){\n",
       "                            \n",
       "var gd = document.getElementById('917cf8bd-9132-4a5e-917c-350477377084');\n",
       "var x = new MutationObserver(function (mutations, observer) {{\n",
       "        var display = window.getComputedStyle(gd).display;\n",
       "        if (!display || display === 'none') {{\n",
       "            console.log([gd, 'removed!']);\n",
       "            Plotly.purge(gd);\n",
       "            observer.disconnect();\n",
       "        }}\n",
       "}});\n",
       "\n",
       "// Listen for the removal of the full notebook cells\n",
       "var notebookContainer = gd.closest('#notebook-container');\n",
       "if (notebookContainer) {{\n",
       "    x.observe(notebookContainer, {childList: true});\n",
       "}}\n",
       "\n",
       "// Listen for the clearing of the current output cell\n",
       "var outputEl = gd.closest('.output');\n",
       "if (outputEl) {{\n",
       "    x.observe(outputEl, {childList: true});\n",
       "}}\n",
       "\n",
       "                        })\n",
       "                };\n",
       "                });\n",
       "            </script>\n",
       "        </div>"
      ]
     },
     "metadata": {},
     "output_type": "display_data"
    }
   ],
   "source": [
    "df6.corr().iplot(kind='heatmap',colorscale='ylgn')"
   ]
  },
  {
   "cell_type": "code",
   "execution_count": 25,
   "metadata": {},
   "outputs": [],
   "source": [
    "df3= df2.loc['SEASON 5',:]"
   ]
  },
  {
   "cell_type": "code",
   "execution_count": 26,
   "metadata": {},
   "outputs": [
    {
     "data": {
      "text/plain": [
       "SEASONS\n",
       "MATCHES PLAYED            22.000000\n",
       "WINS                       6.000000\n",
       "DRAWS                      2.000000\n",
       "LOSSES                    14.000000\n",
       "FINISHING POSITION         6.000000\n",
       "TOTAL RAIDS             1022.000000\n",
       "SUCCESSFUL RAIDS         351.000000\n",
       "UNSUCCESSFUL RAID        207.000000\n",
       "EMPTY RAIDS              464.000000\n",
       "SUCCESS RAID %             0.400000\n",
       "NO. OF SUPER RAIDS         5.000000\n",
       "RAID TOUCH POINTS        309.000000\n",
       "RAID BONUS POINTS        101.000000\n",
       "TOTAL RAID POINTS        410.000000\n",
       "TOTAL TACKLES            517.000000\n",
       "SUCCESSFUL TACKLES       184.000000\n",
       "UNSUCCESFUL TACKLES      333.000000\n",
       "SUCCESSFUL TACKLE %        0.390000\n",
       "NO. OF SUPER TACKLES      17.000000\n",
       "ALL OUTS INFLICTED        19.000000\n",
       "TOTAL ALL OUT POINTS      38.000000\n",
       "TOTAL DEFENCE POINTS     201.000000\n",
       "WIN%                       0.272727\n",
       "DRAW%                      0.090909\n",
       "LOSS%                      0.636364\n",
       "WIN-LOSS%                  0.428571\n",
       "UNSUCCESSFUL RAID%         0.202544\n",
       "EMPTY RAID%                0.454012\n",
       "AVG_RAID_TOUCH_POINT      14.045455\n",
       "AVG_RAID_BONUS_POINT       4.590909\n",
       "UNSUCCESSFUL TACKLE%       0.644101\n",
       "AVG_ALL_OUTS               0.863636\n",
       "Name: SEASON 5, dtype: float64"
      ]
     },
     "execution_count": 26,
     "metadata": {},
     "output_type": "execute_result"
    }
   ],
   "source": [
    "df3 "
   ]
  },
  {
   "cell_type": "code",
   "execution_count": 27,
   "metadata": {
    "scrolled": true
   },
   "outputs": [
    {
     "data": {
      "application/vnd.plotly.v1+json": {
       "config": {
        "linkText": "Export to plot.ly",
        "plotlyServerURL": "https://plot.ly",
        "showLink": true
       },
       "data": [
        {
         "marker": {
          "color": "rgba(255, 153, 51, 0.6)",
          "line": {
           "color": "rgba(255, 153, 51, 1.0)",
           "width": 1
          }
         },
         "name": "SEASON 5",
         "orientation": "v",
         "text": "",
         "type": "bar",
         "uid": "26e7bfcf-c06c-4ef9-99e0-e16201efbab8",
         "x": [
          "MATCHES PLAYED",
          "WINS",
          "DRAWS",
          "LOSSES",
          "FINISHING POSITION",
          "TOTAL RAIDS",
          "SUCCESSFUL RAIDS",
          "UNSUCCESSFUL RAID",
          "EMPTY RAIDS",
          "SUCCESS RAID %",
          "NO. OF SUPER RAIDS",
          "RAID TOUCH POINTS",
          "RAID BONUS POINTS",
          "TOTAL RAID POINTS",
          "TOTAL TACKLES",
          "SUCCESSFUL TACKLES",
          "UNSUCCESFUL TACKLES",
          "SUCCESSFUL TACKLE %",
          "NO. OF SUPER TACKLES",
          "ALL OUTS INFLICTED",
          "TOTAL ALL OUT POINTS",
          "TOTAL DEFENCE POINTS",
          "WIN%",
          "DRAW%",
          "LOSS%",
          "WIN-LOSS%",
          "UNSUCCESSFUL RAID%",
          "EMPTY RAID%",
          "AVG_RAID_TOUCH_POINT",
          "AVG_RAID_BONUS_POINT",
          "UNSUCCESSFUL TACKLE%",
          "AVG_ALL_OUTS"
         ],
         "y": [
          22,
          6,
          2,
          14,
          6,
          1022,
          351,
          207,
          464,
          0.4,
          5,
          309,
          101,
          410,
          517,
          184,
          333,
          0.39,
          17,
          19,
          38,
          201,
          0.2727272727272727,
          0.09090909090909091,
          0.6363636363636364,
          0.42857142857142855,
          0.2025440313111546,
          0.45401174168297453,
          14.045454545454545,
          4.590909090909091,
          0.6441005802707931,
          0.8636363636363636
         ]
        }
       ],
       "layout": {
        "legend": {
         "bgcolor": "#F5F6F9",
         "font": {
          "color": "#4D5663"
         }
        },
        "paper_bgcolor": "#F5F6F9",
        "plot_bgcolor": "#F5F6F9",
        "title": {
         "font": {
          "color": "#4D5663"
         }
        },
        "xaxis": {
         "gridcolor": "#E1E5ED",
         "showgrid": true,
         "tickfont": {
          "color": "#4D5663"
         },
         "title": {
          "font": {
           "color": "#4D5663"
          },
          "text": ""
         },
         "zerolinecolor": "#E1E5ED"
        },
        "yaxis": {
         "gridcolor": "#E1E5ED",
         "showgrid": true,
         "tickfont": {
          "color": "#4D5663"
         },
         "title": {
          "font": {
           "color": "#4D5663"
          },
          "text": ""
         },
         "zerolinecolor": "#E1E5ED"
        }
       }
      },
      "text/html": [
       "<div>\n",
       "        \n",
       "        \n",
       "            <div id=\"3e4a709c-d4cd-4a5e-a9e3-c9f122b6de33\" class=\"plotly-graph-div\" style=\"height:525px; width:100%;\"></div>\n",
       "            <script type=\"text/javascript\">\n",
       "                require([\"plotly\"], function(Plotly) {\n",
       "                    window.PLOTLYENV=window.PLOTLYENV || {};\n",
       "                    window.PLOTLYENV.BASE_URL='https://plot.ly';\n",
       "                    \n",
       "                if (document.getElementById(\"3e4a709c-d4cd-4a5e-a9e3-c9f122b6de33\")) {\n",
       "                    Plotly.newPlot(\n",
       "                        '3e4a709c-d4cd-4a5e-a9e3-c9f122b6de33',\n",
       "                        [{\"marker\": {\"color\": \"rgba(255, 153, 51, 0.6)\", \"line\": {\"color\": \"rgba(255, 153, 51, 1.0)\", \"width\": 1}}, \"name\": \"SEASON 5\", \"orientation\": \"v\", \"text\": \"\", \"type\": \"bar\", \"uid\": \"26e7bfcf-c06c-4ef9-99e0-e16201efbab8\", \"x\": [\"MATCHES PLAYED\", \"WINS\", \"DRAWS\", \"LOSSES\", \"FINISHING POSITION\", \"TOTAL RAIDS\", \"SUCCESSFUL RAIDS\", \"UNSUCCESSFUL RAID\", \"EMPTY RAIDS\", \"SUCCESS RAID %\", \"NO. OF SUPER RAIDS\", \"RAID TOUCH POINTS\", \"RAID BONUS POINTS\", \"TOTAL RAID POINTS\", \"TOTAL TACKLES\", \"SUCCESSFUL TACKLES\", \"UNSUCCESFUL TACKLES\", \"SUCCESSFUL TACKLE %\", \"NO. OF SUPER TACKLES\", \"ALL OUTS INFLICTED\", \"TOTAL ALL OUT POINTS\", \"TOTAL DEFENCE POINTS\", \"WIN%\", \"DRAW%\", \"LOSS%\", \"WIN-LOSS%\", \"UNSUCCESSFUL RAID%\", \"EMPTY RAID%\", \"AVG_RAID_TOUCH_POINT\", \"AVG_RAID_BONUS_POINT\", \"UNSUCCESSFUL TACKLE%\", \"AVG_ALL_OUTS\"], \"y\": [22.0, 6.0, 2.0, 14.0, 6.0, 1022.0, 351.0, 207.0, 464.0, 0.4, 5.0, 309.0, 101.0, 410.0, 517.0, 184.0, 333.0, 0.39, 17.0, 19.0, 38.0, 201.0, 0.2727272727272727, 0.09090909090909091, 0.6363636363636364, 0.42857142857142855, 0.2025440313111546, 0.45401174168297453, 14.045454545454545, 4.590909090909091, 0.6441005802707931, 0.8636363636363636]}],\n",
       "                        {\"legend\": {\"bgcolor\": \"#F5F6F9\", \"font\": {\"color\": \"#4D5663\"}}, \"paper_bgcolor\": \"#F5F6F9\", \"plot_bgcolor\": \"#F5F6F9\", \"title\": {\"font\": {\"color\": \"#4D5663\"}}, \"xaxis\": {\"gridcolor\": \"#E1E5ED\", \"showgrid\": true, \"tickfont\": {\"color\": \"#4D5663\"}, \"title\": {\"font\": {\"color\": \"#4D5663\"}, \"text\": \"\"}, \"zerolinecolor\": \"#E1E5ED\"}, \"yaxis\": {\"gridcolor\": \"#E1E5ED\", \"showgrid\": true, \"tickfont\": {\"color\": \"#4D5663\"}, \"title\": {\"font\": {\"color\": \"#4D5663\"}, \"text\": \"\"}, \"zerolinecolor\": \"#E1E5ED\"}},\n",
       "                        {\"showLink\": true, \"linkText\": \"Export to plot.ly\", \"plotlyServerURL\": \"https://plot.ly\", \"responsive\": true}\n",
       "                    ).then(function(){\n",
       "                            \n",
       "var gd = document.getElementById('3e4a709c-d4cd-4a5e-a9e3-c9f122b6de33');\n",
       "var x = new MutationObserver(function (mutations, observer) {{\n",
       "        var display = window.getComputedStyle(gd).display;\n",
       "        if (!display || display === 'none') {{\n",
       "            console.log([gd, 'removed!']);\n",
       "            Plotly.purge(gd);\n",
       "            observer.disconnect();\n",
       "        }}\n",
       "}});\n",
       "\n",
       "// Listen for the removal of the full notebook cells\n",
       "var notebookContainer = gd.closest('#notebook-container');\n",
       "if (notebookContainer) {{\n",
       "    x.observe(notebookContainer, {childList: true});\n",
       "}}\n",
       "\n",
       "// Listen for the clearing of the current output cell\n",
       "var outputEl = gd.closest('.output');\n",
       "if (outputEl) {{\n",
       "    x.observe(outputEl, {childList: true});\n",
       "}}\n",
       "\n",
       "                        })\n",
       "                };\n",
       "                });\n",
       "            </script>\n",
       "        </div>"
      ]
     },
     "metadata": {},
     "output_type": "display_data"
    }
   ],
   "source": [
    "df3.iplot(kind='bar')"
   ]
  },
  {
   "cell_type": "code",
   "execution_count": 28,
   "metadata": {},
   "outputs": [
    {
     "data": {
      "text/html": [
       "<div>\n",
       "<style scoped>\n",
       "    .dataframe tbody tr th:only-of-type {\n",
       "        vertical-align: middle;\n",
       "    }\n",
       "\n",
       "    .dataframe tbody tr th {\n",
       "        vertical-align: top;\n",
       "    }\n",
       "\n",
       "    .dataframe thead th {\n",
       "        text-align: right;\n",
       "    }\n",
       "</style>\n",
       "<table border=\"1\" class=\"dataframe\">\n",
       "  <thead>\n",
       "    <tr style=\"text-align: right;\">\n",
       "      <th>SEASONS</th>\n",
       "      <th>TOTAL RAIDS</th>\n",
       "      <th>SUCCESS RAID %</th>\n",
       "      <th>SUCCESSFUL TACKLE %</th>\n",
       "      <th>NO. OF SUPER TACKLES</th>\n",
       "      <th>TOTAL DEFENCE POINTS</th>\n",
       "      <th>WIN%</th>\n",
       "      <th>DRAW%</th>\n",
       "      <th>LOSS%</th>\n",
       "      <th>WIN-LOSS%</th>\n",
       "      <th>UNSUCCESSFUL RAID%</th>\n",
       "      <th>EMPTY RAID%</th>\n",
       "      <th>AVG_RAID_TOUCH_POINT</th>\n",
       "      <th>AVG_RAID_BONUS_POINT</th>\n",
       "      <th>UNSUCCESSFUL TACKLE%</th>\n",
       "      <th>AVG_ALL_OUTS</th>\n",
       "    </tr>\n",
       "  </thead>\n",
       "  <tbody>\n",
       "    <tr>\n",
       "      <th>OVERALL</th>\n",
       "      <td>2697.0</td>\n",
       "      <td>0.42</td>\n",
       "      <td>0.39</td>\n",
       "      <td>45.0</td>\n",
       "      <td>545.0</td>\n",
       "      <td>0.225806</td>\n",
       "      <td>0.145161</td>\n",
       "      <td>0.629032</td>\n",
       "      <td>0.358974</td>\n",
       "      <td>0.230997</td>\n",
       "      <td>0.419355</td>\n",
       "      <td>13.903226</td>\n",
       "      <td>4.516129</td>\n",
       "      <td>0.645230</td>\n",
       "      <td>0.838710</td>\n",
       "    </tr>\n",
       "    <tr>\n",
       "      <th>SEASON 6</th>\n",
       "      <td>925.0</td>\n",
       "      <td>0.45</td>\n",
       "      <td>0.38</td>\n",
       "      <td>15.0</td>\n",
       "      <td>189.0</td>\n",
       "      <td>0.227273</td>\n",
       "      <td>0.181818</td>\n",
       "      <td>0.590909</td>\n",
       "      <td>0.384615</td>\n",
       "      <td>0.240000</td>\n",
       "      <td>0.388108</td>\n",
       "      <td>14.272727</td>\n",
       "      <td>4.772727</td>\n",
       "      <td>0.650602</td>\n",
       "      <td>0.909091</td>\n",
       "    </tr>\n",
       "    <tr>\n",
       "      <th>SEASON 5</th>\n",
       "      <td>1022.0</td>\n",
       "      <td>0.40</td>\n",
       "      <td>0.39</td>\n",
       "      <td>17.0</td>\n",
       "      <td>201.0</td>\n",
       "      <td>0.272727</td>\n",
       "      <td>0.090909</td>\n",
       "      <td>0.636364</td>\n",
       "      <td>0.428571</td>\n",
       "      <td>0.202544</td>\n",
       "      <td>0.454012</td>\n",
       "      <td>14.045455</td>\n",
       "      <td>4.590909</td>\n",
       "      <td>0.644101</td>\n",
       "      <td>0.863636</td>\n",
       "    </tr>\n",
       "  </tbody>\n",
       "</table>\n",
       "</div>"
      ],
      "text/plain": [
       "SEASONS   TOTAL RAIDS  SUCCESS RAID %  SUCCESSFUL TACKLE %  \\\n",
       "OVERALL        2697.0            0.42                 0.39   \n",
       "SEASON 6        925.0            0.45                 0.38   \n",
       "SEASON 5       1022.0            0.40                 0.39   \n",
       "\n",
       "SEASONS   NO. OF SUPER TACKLES  TOTAL DEFENCE POINTS      WIN%     DRAW%  \\\n",
       "OVERALL                   45.0                 545.0  0.225806  0.145161   \n",
       "SEASON 6                  15.0                 189.0  0.227273  0.181818   \n",
       "SEASON 5                  17.0                 201.0  0.272727  0.090909   \n",
       "\n",
       "SEASONS      LOSS%  WIN-LOSS%  UNSUCCESSFUL RAID%  EMPTY RAID%  \\\n",
       "OVERALL   0.629032   0.358974            0.230997     0.419355   \n",
       "SEASON 6  0.590909   0.384615            0.240000     0.388108   \n",
       "SEASON 5  0.636364   0.428571            0.202544     0.454012   \n",
       "\n",
       "SEASONS   AVG_RAID_TOUCH_POINT  AVG_RAID_BONUS_POINT  UNSUCCESSFUL TACKLE%  \\\n",
       "OVERALL              13.903226              4.516129              0.645230   \n",
       "SEASON 6             14.272727              4.772727              0.650602   \n",
       "SEASON 5             14.045455              4.590909              0.644101   \n",
       "\n",
       "SEASONS   AVG_ALL_OUTS  \n",
       "OVERALL       0.838710  \n",
       "SEASON 6      0.909091  \n",
       "SEASON 5      0.863636  "
      ]
     },
     "execution_count": 28,
     "metadata": {},
     "output_type": "execute_result"
    }
   ],
   "source": [
    "df4 =df6.drop('FINISHING POSITION',axis=1)\n",
    "df4 =df4.drop(['SEASON 7'])\n",
    "df4"
   ]
  },
  {
   "cell_type": "code",
   "execution_count": 29,
   "metadata": {},
   "outputs": [
    {
     "data": {
      "text/plain": [
       "OVERALL     0.0\n",
       "SEASON 6    6.0\n",
       "SEASON 5    6.0\n",
       "Name: FINISHING POSITION, dtype: float64"
      ]
     },
     "execution_count": 29,
     "metadata": {},
     "output_type": "execute_result"
    }
   ],
   "source": [
    "df5 = df6['FINISHING POSITION']\n",
    "df5 = df5.drop(['SEASON 7'],axis=0)\n",
    "#df5['FINISHING POSITION'] = df['FINISHING POSITION'].fillna(0)\n",
    "df5"
   ]
  },
  {
   "cell_type": "code",
   "execution_count": 30,
   "metadata": {},
   "outputs": [
    {
     "data": {
      "text/html": [
       "<div>\n",
       "<style scoped>\n",
       "    .dataframe tbody tr th:only-of-type {\n",
       "        vertical-align: middle;\n",
       "    }\n",
       "\n",
       "    .dataframe tbody tr th {\n",
       "        vertical-align: top;\n",
       "    }\n",
       "\n",
       "    .dataframe thead th {\n",
       "        text-align: right;\n",
       "    }\n",
       "</style>\n",
       "<table border=\"1\" class=\"dataframe\">\n",
       "  <thead>\n",
       "    <tr style=\"text-align: right;\">\n",
       "      <th>SEASONS</th>\n",
       "      <th>TOTAL RAIDS</th>\n",
       "      <th>SUCCESS RAID %</th>\n",
       "      <th>SUCCESSFUL TACKLE %</th>\n",
       "      <th>NO. OF SUPER TACKLES</th>\n",
       "      <th>TOTAL DEFENCE POINTS</th>\n",
       "      <th>WIN%</th>\n",
       "      <th>DRAW%</th>\n",
       "      <th>LOSS%</th>\n",
       "      <th>WIN-LOSS%</th>\n",
       "      <th>UNSUCCESSFUL RAID%</th>\n",
       "      <th>EMPTY RAID%</th>\n",
       "      <th>AVG_RAID_TOUCH_POINT</th>\n",
       "      <th>AVG_RAID_BONUS_POINT</th>\n",
       "      <th>UNSUCCESSFUL TACKLE%</th>\n",
       "      <th>AVG_ALL_OUTS</th>\n",
       "    </tr>\n",
       "  </thead>\n",
       "  <tbody>\n",
       "    <tr>\n",
       "      <th>OVERALL</th>\n",
       "      <td>2697.0</td>\n",
       "      <td>0.42</td>\n",
       "      <td>0.39</td>\n",
       "      <td>45.0</td>\n",
       "      <td>545.0</td>\n",
       "      <td>0.225806</td>\n",
       "      <td>0.145161</td>\n",
       "      <td>0.629032</td>\n",
       "      <td>0.358974</td>\n",
       "      <td>0.230997</td>\n",
       "      <td>0.419355</td>\n",
       "      <td>13.903226</td>\n",
       "      <td>4.516129</td>\n",
       "      <td>0.645230</td>\n",
       "      <td>0.838710</td>\n",
       "    </tr>\n",
       "    <tr>\n",
       "      <th>SEASON 6</th>\n",
       "      <td>925.0</td>\n",
       "      <td>0.45</td>\n",
       "      <td>0.38</td>\n",
       "      <td>15.0</td>\n",
       "      <td>189.0</td>\n",
       "      <td>0.227273</td>\n",
       "      <td>0.181818</td>\n",
       "      <td>0.590909</td>\n",
       "      <td>0.384615</td>\n",
       "      <td>0.240000</td>\n",
       "      <td>0.388108</td>\n",
       "      <td>14.272727</td>\n",
       "      <td>4.772727</td>\n",
       "      <td>0.650602</td>\n",
       "      <td>0.909091</td>\n",
       "    </tr>\n",
       "    <tr>\n",
       "      <th>SEASON 5</th>\n",
       "      <td>1022.0</td>\n",
       "      <td>0.40</td>\n",
       "      <td>0.39</td>\n",
       "      <td>17.0</td>\n",
       "      <td>201.0</td>\n",
       "      <td>0.272727</td>\n",
       "      <td>0.090909</td>\n",
       "      <td>0.636364</td>\n",
       "      <td>0.428571</td>\n",
       "      <td>0.202544</td>\n",
       "      <td>0.454012</td>\n",
       "      <td>14.045455</td>\n",
       "      <td>4.590909</td>\n",
       "      <td>0.644101</td>\n",
       "      <td>0.863636</td>\n",
       "    </tr>\n",
       "  </tbody>\n",
       "</table>\n",
       "</div>"
      ],
      "text/plain": [
       "SEASONS   TOTAL RAIDS  SUCCESS RAID %  SUCCESSFUL TACKLE %  \\\n",
       "OVERALL        2697.0            0.42                 0.39   \n",
       "SEASON 6        925.0            0.45                 0.38   \n",
       "SEASON 5       1022.0            0.40                 0.39   \n",
       "\n",
       "SEASONS   NO. OF SUPER TACKLES  TOTAL DEFENCE POINTS      WIN%     DRAW%  \\\n",
       "OVERALL                   45.0                 545.0  0.225806  0.145161   \n",
       "SEASON 6                  15.0                 189.0  0.227273  0.181818   \n",
       "SEASON 5                  17.0                 201.0  0.272727  0.090909   \n",
       "\n",
       "SEASONS      LOSS%  WIN-LOSS%  UNSUCCESSFUL RAID%  EMPTY RAID%  \\\n",
       "OVERALL   0.629032   0.358974            0.230997     0.419355   \n",
       "SEASON 6  0.590909   0.384615            0.240000     0.388108   \n",
       "SEASON 5  0.636364   0.428571            0.202544     0.454012   \n",
       "\n",
       "SEASONS   AVG_RAID_TOUCH_POINT  AVG_RAID_BONUS_POINT  UNSUCCESSFUL TACKLE%  \\\n",
       "OVERALL              13.903226              4.516129              0.645230   \n",
       "SEASON 6             14.272727              4.772727              0.650602   \n",
       "SEASON 5             14.045455              4.590909              0.644101   \n",
       "\n",
       "SEASONS   AVG_ALL_OUTS  \n",
       "OVERALL       0.838710  \n",
       "SEASON 6      0.909091  \n",
       "SEASON 5      0.863636  "
      ]
     },
     "execution_count": 30,
     "metadata": {},
     "output_type": "execute_result"
    }
   ],
   "source": [
    "df4"
   ]
  },
  {
   "cell_type": "code",
   "execution_count": 31,
   "metadata": {},
   "outputs": [
    {
     "data": {
      "text/plain": [
       "(3, 4)"
      ]
     },
     "execution_count": 31,
     "metadata": {},
     "output_type": "execute_result"
    }
   ],
   "source": [
    "from sklearn.ensemble import ExtraTreesClassifier\n",
    "from sklearn.feature_selection import SelectFromModel\n",
    "X = df4\n",
    "y= df5\n",
    "clf = ExtraTreesClassifier(n_estimators=50)\n",
    "clf = clf.fit(X, y)\n",
    "clf.feature_importances_  \n",
    "model = SelectFromModel(clf, prefit=True)\n",
    "X_new = model.transform(X)\n",
    "X_new.shape\n"
   ]
  },
  {
   "cell_type": "code",
   "execution_count": 32,
   "metadata": {},
   "outputs": [
    {
     "name": "stdout",
     "output_type": "stream",
     "text": [
      "                FEATURES        Score\n",
      "0            TOTAL RAIDS  1279.264535\n",
      "4   TOTAL DEFENCE POINTS   262.032086\n",
      "3   NO. OF SUPER TACKLES    21.844156\n",
      "12  AVG_RAID_BONUS_POINT     0.003956\n",
      "8              WIN-LOSS%     0.003869\n"
     ]
    }
   ],
   "source": [
    "from sklearn.feature_selection import SelectKBest\n",
    "from sklearn.feature_selection import chi2\n",
    "\n",
    "#apply SelectKBest class to extract top 10 best features\n",
    "bestfeatures = SelectKBest(score_func=chi2, k=10)\n",
    "fit = bestfeatures.fit(X,y)\n",
    "dfscores = pd.DataFrame(fit.scores_)\n",
    "dfcolumns = pd.DataFrame(X.columns)\n",
    "\n",
    "#concat two dataframes for better visualization \n",
    "featureScores = pd.concat([dfcolumns,dfscores],axis=1)\n",
    "featureScores.columns = ['FEATURES','Score']  #naming the dataframe columns\n",
    "print(featureScores.nlargest(5,'Score'))  #print 10 best features"
   ]
  },
  {
   "cell_type": "code",
   "execution_count": 33,
   "metadata": {},
   "outputs": [
    {
     "name": "stderr",
     "output_type": "stream",
     "text": [
      "D:\\anaconda\\lib\\site-packages\\sklearn\\ensemble\\forest.py:245: FutureWarning:\n",
      "\n",
      "The default value of n_estimators will change from 10 in version 0.20 to 100 in 0.22.\n",
      "\n"
     ]
    },
    {
     "name": "stdout",
     "output_type": "stream",
     "text": [
      "[0.1   0.025 0.025 0.2   0.2   0.    0.    0.    0.1   0.    0.    0.1\n",
      " 0.1   0.075 0.075]\n"
     ]
    },
    {
     "data": {
      "image/png": "[encoded data removed]",
      "text/plain": [
       "<Figure size 432x288 with 1 Axes>"
      ]
     },
     "metadata": {
      "needs_background": "light"
     },
     "output_type": "display_data"
    }
   ],
   "source": [
    "#Feature Importance \n",
    "from sklearn.ensemble import ExtraTreesClassifier\n",
    "import matplotlib.pyplot as plt\n",
    "%matplotlib inline\n",
    "\n",
    "model = ExtraTreesClassifier()\n",
    "model.fit(X,y)\n",
    "print(model.feature_importances_) #use inbuilt class feature_importances of tree based classifiers\n",
    "\n",
    "#plot graph of feature importances for better visualization\n",
    "feat_importances = pd.Series(model.feature_importances_, index=X.columns)\n",
    "feat_importances.nlargest(10).plot(kind='barh')\n",
    "plt.show()"
   ]
  },
  {
   "cell_type": "code",
   "execution_count": 34,
   "metadata": {},
   "outputs": [
    {
     "name": "stdout",
     "output_type": "stream",
     "text": [
      "Index(['TOTAL RAIDS', 'SUCCESS RAID %', 'NO. OF SUPER TACKLES',\n",
      "       'TOTAL DEFENCE POINTS', 'WIN%', 'DRAW%', 'LOSS%', 'WIN-LOSS%',\n",
      "       'EMPTY RAID%', 'AVG_RAID_TOUCH_POINT', 'AVG_RAID_BONUS_POINT',\n",
      "       'AVG_ALL_OUTS'],\n",
      "      dtype='object')\n"
     ]
    }
   ],
   "source": [
    "cols = list(X.columns)\n",
    "model = LinearRegression()\n",
    "#Initializing RFE model\n",
    "rfe = RFE(model,12)             \n",
    "#Transforming data using RFE\n",
    "X_rfe = rfe.fit_transform(X,y)  \n",
    "#Fitting the data to model\n",
    "model.fit(X_rfe,y)              \n",
    "temp = pd.Series(rfe.support_,index = cols)\n",
    "selected_features_rfe = temp[temp==True].index\n",
    "print(selected_features_rfe)"
   ]
  },
  {
   "cell_type": "code",
   "execution_count": 35,
   "metadata": {},
   "outputs": [
    {
     "data": {
      "text/plain": [
       "(3, 12)"
      ]
     },
     "execution_count": 35,
     "metadata": {},
     "output_type": "execute_result"
    }
   ],
   "source": [
    "X_features = df4.filter(['TOTAL RAIDS', 'SUCCESS RAID %', 'NO. OF SUPER TACKLES',\n",
    "       'TOTAL DEFENCE POINTS', 'WIN%', 'DRAW%', 'LOSS%', 'WIN-LOSS%',\n",
    "       'EMPTY RAID%', 'AVG_RAID_TOUCH_POINT', 'AVG_RAID_BONUS_POINT',\n",
    "       'AVG_ALL_OUTS'],axis=1)\n",
    "X_features.shape"
   ]
  },
  {
   "cell_type": "code",
   "execution_count": 36,
   "metadata": {},
   "outputs": [
    {
     "name": "stderr",
     "output_type": "stream",
     "text": [
      "Using Theano backend.\n"
     ]
    },
    {
     "name": "stdout",
     "output_type": "stream",
     "text": [
      "\n",
      "You can find the C code in this temporary file: C:\\Users\\ANINDA~1.BHA\\AppData\\Local\\Temp\\theano_compilation_error_a4aycjln\n"
     ]
    },
    {
     "ename": "Exception",
     "evalue": "Compilation failed (return status=1): C:\\Users\\ANINDA~1.BHA\\AppData\\Local\\Temp\\ccAFve63.o: In function `_import_array':\r. D:/anaconda/lib/site-packages/numpy/core/include/numpy/__multiarray_api.h:1470: undefined reference to `__imp_PyExc_ImportError'\r. D:/anaconda/lib/site-packages/numpy/core/include/numpy/__multiarray_api.h:1476: undefined reference to `__imp_PyExc_AttributeError'\r. D:/anaconda/lib/site-packages/numpy/core/include/numpy/__multiarray_api.h:1481: undefined reference to `__imp_PyCapsule_Type'\r. D:/anaconda/lib/site-packages/numpy/core/include/numpy/__multiarray_api.h:1482: undefined reference to `__imp_PyExc_RuntimeError'\r. D:/anaconda/lib/site-packages/numpy/core/include/numpy/__multiarray_api.h:1497: undefined reference to `__imp_PyExc_RuntimeError'\r. D:/anaconda/lib/site-packages/numpy/core/include/numpy/__multiarray_api.h:1505: undefined reference to `__imp_PyExc_RuntimeError'\r. D:/anaconda/lib/site-packages/numpy/core/include/numpy/__multiarray_api.h:1511: undefined reference to `__imp_PyExc_RuntimeError'\r. D:/anaconda/lib/site-packages/numpy/core/include/numpy/__multiarray_api.h:1521: undefined reference to `__imp_PyExc_RuntimeError'\r. C:\\Users\\ANINDA~1.BHA\\AppData\\Local\\Temp\\ccAFve63.o:D:/anaconda/lib/site-packages/numpy/core/include/numpy/__multiarray_api.h:1533: more undefined references to `__imp_PyExc_RuntimeError' follow\r. C:\\Users\\ANINDA~1.BHA\\AppData\\Local\\Temp\\ccAFve63.o: In function `NpyCapsule_Check':\r. D:/anaconda/lib/site-packages/numpy/core/include/numpy/npy_3kcompat.h:468: undefined reference to `__imp_PyCapsule_Type'\r. C:\\Users\\ANINDA~1.BHA\\AppData\\Local\\Temp\\ccAFve63.o: In function `unpack_list_of_ssize_t':\r. C:/Users/aninda.bhattacharjee/AppData/Local/Theano/compiledir_Windows-10-10.0.18362-SP0-Intel64_Family_6_Model_142_Stepping_9_GenuineIntel-3.6.9-64/lazylinker_ext/mod.cpp:48: undefined reference to `__imp_PyExc_TypeError'\r. C:/Users/aninda.bhattacharjee/AppData/Local/Theano/compiledir_Windows-10-10.0.18362-SP0-Intel64_Family_6_Model_142_Stepping_9_GenuineIntel-3.6.9-64/lazylinker_ext/mod.cpp:58: undefined reference to `__imp_PyExc_IndexError'\r. C:\\Users\\ANINDA~1.BHA\\AppData\\Local\\Temp\\ccAFve63.o: In function `CLazyLinker_init':\r. C:/Users/aninda.bhattacharjee/AppData/Local/Theano/compiledir_Windows-10-10.0.18362-SP0-Intel64_Family_6_Model_142_Stepping_9_GenuineIntel-3.6.9-64/lazylinker_ext/mod.cpp:352: undefined reference to `__imp_PyExc_IndexError'\r. C:/Users/aninda.bhattacharjee/AppData/Local/Theano/compiledir_Windows-10-10.0.18362-SP0-Intel64_Family_6_Model_142_Stepping_9_GenuineIntel-3.6.9-64/lazylinker_ext/mod.cpp:370: undefined reference to `__imp_PyExc_IndexError'\r. C:/Users/aninda.bhattacharjee/AppData/Local/Theano/compiledir_Windows-10-10.0.18362-SP0-Intel64_Family_6_Model_142_Stepping_9_GenuineIntel-3.6.9-64/lazylinker_ext/mod.cpp:385: undefined reference to `__imp_PyExc_IndexError'\r. C:/Users/aninda.bhattacharjee/AppData/Local/Theano/compiledir_Windows-10-10.0.18362-SP0-Intel64_Family_6_Model_142_Stepping_9_GenuineIntel-3.6.9-64/lazylinker_ext/mod.cpp:389: undefined reference to `__imp_PyExc_IndexError'\r. C:\\Users\\ANINDA~1.BHA\\AppData\\Local\\Temp\\ccAFve63.o:C:/Users/aninda.bhattacharjee/AppData/Local/Theano/compiledir_Windows-10-10.0.18362-SP0-Intel64_Family_6_Model_142_Stepping_9_GenuineIntel-3.6.9-64/lazylinker_ext/mod.cpp:393: more undefined references to `__imp_PyExc_IndexError' follow\r. C:\\Users\\ANINDA~1.BHA\\AppData\\Local\\Temp\\ccAFve63.o: In function `CLazyLinker_init':\r. C:/Users/aninda.bhattacharjee/AppData/Local/Theano/compiledir_Windows-10-10.0.18362-SP0-Intel64_Family_6_Model_142_Stepping_9_GenuineIntel-3.6.9-64/lazylinker_ext/mod.cpp:405: undefined reference to `__imp_PyExc_TypeError'\r. C:/Users/aninda.bhattacharjee/AppData/Local/Theano/compiledir_Windows-10-10.0.18362-SP0-Intel64_Family_6_Model_142_Stepping_9_GenuineIntel-3.6.9-64/lazylinker_ext/mod.cpp:420: undefined reference to `__imp__Py_NoneStruct'\r. C:/Users/aninda.bhattacharjee/AppData/Local/Theano/compiledir_Windows-10-10.0.18362-SP0-Intel64_Family_6_Model_142_Stepping_9_GenuineIntel-3.6.9-64/lazylinker_ext/mod.cpp:426: undefined reference to `__imp_PyExc_IndexError'\r. C:/Users/aninda.bhattacharjee/AppData/Local/Theano/compiledir_Windows-10-10.0.18362-SP0-Intel64_Family_6_Model_142_Stepping_9_GenuineIntel-3.6.9-64/lazylinker_ext/mod.cpp:440: undefined reference to `__imp_PyExc_TypeError'\r. C:/Users/aninda.bhattacharjee/AppData/Local/Theano/compiledir_Windows-10-10.0.18362-SP0-Intel64_Family_6_Model_142_Stepping_9_GenuineIntel-3.6.9-64/lazylinker_ext/mod.cpp:444: undefined reference to `__imp__Py_NoneStruct'\r. C:\\Users\\ANINDA~1.BHA\\AppData\\Local\\Temp\\ccAFve63.o: In function `c_call':\r. C:/Users/aninda.bhattacharjee/AppData/Local/Theano/compiledir_Windows-10-10.0.18362-SP0-Intel64_Family_6_Model_142_Stepping_9_GenuineIntel-3.6.9-64/lazylinker_ext/mod.cpp:545: undefined reference to `__imp__Py_NoneStruct'\r. C:/Users/aninda.bhattacharjee/AppData/Local/Theano/compiledir_Windows-10-10.0.18362-SP0-Intel64_Family_6_Model_142_Stepping_9_GenuineIntel-3.6.9-64/lazylinker_ext/mod.cpp:545: undefined reference to `__imp__Py_NoneStruct'\r. C:/Users/aninda.bhattacharjee/AppData/Local/Theano/compiledir_Windows-10-10.0.18362-SP0-Intel64_Family_6_Model_142_Stepping_9_GenuineIntel-3.6.9-64/lazylinker_ext/mod.cpp:545: undefined reference to `__imp__Py_NoneStruct'\r. C:/Users/aninda.bhattacharjee/AppData/Local/Theano/compiledir_Windows-10-10.0.18362-SP0-Intel64_Family_6_Model_142_Stepping_9_GenuineIntel-3.6.9-64/lazylinker_ext/mod.cpp:546: undefined reference to `__imp__Py_NoneStruct'\r. C:\\Users\\ANINDA~1.BHA\\AppData\\Local\\Temp\\ccAFve63.o:C:/Users/aninda.bhattacharjee/AppData/Local/Theano/compiledir_Windows-10-10.0.18362-SP0-Intel64_Family_6_Model_142_Stepping_9_GenuineIntel-3.6.9-64/lazylinker_ext/mod.cpp:546: more undefined references to `__imp__Py_NoneStruct' follow\r. C:\\Users\\ANINDA~1.BHA\\AppData\\Local\\Temp\\ccAFve63.o: In function `lazy_rec_eval':\r. C:/Users/aninda.bhattacharjee/AppData/Local/Theano/compiledir_Windows-10-10.0.18362-SP0-Intel64_Family_6_Model_142_Stepping_9_GenuineIntel-3.6.9-64/lazylinker_ext/mod.cpp:618: undefined reference to `__imp_PyExc_IndexError'\r. C:/Users/aninda.bhattacharjee/AppData/Local/Theano/compiledir_Windows-10-10.0.18362-SP0-Intel64_Family_6_Model_142_Stepping_9_GenuineIntel-3.6.9-64/lazylinker_ext/mod.cpp:641: undefined reference to `__imp_PyExc_TypeError'\r. C:/Users/aninda.bhattacharjee/AppData/Local/Theano/compiledir_Windows-10-10.0.18362-SP0-Intel64_Family_6_Model_142_Stepping_9_GenuineIntel-3.6.9-64/lazylinker_ext/mod.cpp:649: undefined reference to `__imp_PyExc_ValueError'\r. C:/Users/aninda.bhattacharjee/AppData/Local/Theano/compiledir_Windows-10-10.0.18362-SP0-Intel64_Family_6_Model_142_Stepping_9_GenuineIntel-3.6.9-64/lazylinker_ext/mod.cpp:657: undefined reference to `__imp_PyExc_IndexError'\r. C:/Users/aninda.bhattacharjee/AppData/Local/Theano/compiledir_Windows-10-10.0.18362-SP0-Intel64_Family_6_Model_142_Stepping_9_GenuineIntel-3.6.9-64/lazylinker_ext/mod.cpp:708: undefined reference to `__imp__Py_NoneStruct'\r. C:/Users/aninda.bhattacharjee/AppData/Local/Theano/compiledir_Windows-10-10.0.18362-SP0-Intel64_Family_6_Model_142_Stepping_9_GenuineIntel-3.6.9-64/lazylinker_ext/mod.cpp:715: undefined reference to `__imp_PyExc_TypeError'\r. C:/Users/aninda.bhattacharjee/AppData/Local/Theano/compiledir_Windows-10-10.0.18362-SP0-Intel64_Family_6_Model_142_Stepping_9_GenuineIntel-3.6.9-64/lazylinker_ext/mod.cpp:721: undefined reference to `__imp_PyExc_TypeError'\r. C:/Users/aninda.bhattacharjee/AppData/Local/Theano/compiledir_Windows-10-10.0.18362-SP0-Intel64_Family_6_Model_142_Stepping_9_GenuineIntel-3.6.9-64/lazylinker_ext/mod.cpp:771: undefined reference to `__imp__Py_NoneStruct'\r. C:/Users/aninda.bhattacharjee/AppData/Local/Theano/compiledir_Windows-10-10.0.18362-SP0-Intel64_Family_6_Model_142_Stepping_9_GenuineIntel-3.6.9-64/lazylinker_ext/mod.cpp:771: undefined reference to `__imp__Py_NoneStruct'\r. C:/Users/aninda.bhattacharjee/AppData/Local/Theano/compiledir_Windows-10-10.0.18362-SP0-Intel64_Family_6_Model_142_Stepping_9_GenuineIntel-3.6.9-64/lazylinker_ext/mod.cpp:772: undefined reference to `__imp__Py_NoneStruct'\r. C:\\Users\\ANINDA~1.BHA\\AppData\\Local\\Temp\\ccAFve63.o: In function `CLazyLinker_call':\r. C:/Users/aninda.bhattacharjee/AppData/Local/Theano/compiledir_Windows-10-10.0.18362-SP0-Intel64_Family_6_Model_142_Stepping_9_GenuineIntel-3.6.9-64/lazylinker_ext/mod.cpp:814: undefined reference to `__imp_PyExc_RuntimeError'\r. C:/Users/aninda.bhattacharjee/AppData/Local/Theano/compiledir_Windows-10-10.0.18362-SP0-Intel64_Family_6_Model_142_Stepping_9_GenuineIntel-3.6.9-64/lazylinker_ext/mod.cpp:826: undefined reference to `__imp_PyExc_RuntimeError'\r. C:/Users/aninda.bhattacharjee/AppData/Local/Theano/compiledir_Windows-10-10.0.18362-SP0-Intel64_Family_6_Model_142_Stepping_9_GenuineIntel-3.6.9-64/lazylinker_ext/mod.cpp:839: undefined reference to `__imp__Py_NoneStruct'\r. C:/Users/aninda.bhattacharjee/AppData/Local/Theano/compiledir_Windows-10-10.0.18362-SP0-Intel64_Family_6_Model_142_Stepping_9_GenuineIntel-3.6.9-64/lazylinker_ext/mod.cpp:839: undefined reference to `__imp__Py_NoneStruct'\r. C:/Users/aninda.bhattacharjee/AppData/Local/Theano/compiledir_Windows-10-10.0.18362-SP0-Intel64_Family_6_Model_142_Stepping_9_GenuineIntel-3.6.9-64/lazylinker_ext/mod.cpp:840: undefined reference to `__imp__Py_NoneStruct'\r. C:/Users/aninda.bhattacharjee/AppData/Local/Theano/compiledir_Windows-10-10.0.18362-SP0-Intel64_Family_6_Model_142_Stepping_9_GenuineIntel-3.6.9-64/lazylinker_ext/mod.cpp:849: undefined reference to `__imp__Py_NoneStruct'\r. C:/Users/aninda.bhattacharjee/AppData/Local/Theano/compiledir_Windows-10-10.0.18362-SP0-Intel64_Family_6_Model_142_Stepping_9_GenuineIntel-3.6.9-64/lazylinker_ext/mod.cpp:849: undefined reference to `__imp__Py_NoneStruct'\r. C:\\Users\\ANINDA~1.BHA\\AppData\\Local\\Temp\\ccAFve63.o:C:/Users/aninda.bhattacharjee/AppData/Local/Theano/compiledir_Windows-10-10.0.18362-SP0-Intel64_Family_6_Model_142_Stepping_9_GenuineIntel-3.6.9-64/lazylinker_ext/mod.cpp:850: more undefined references to `__imp__Py_NoneStruct' follow\r. C:\\Users\\ANINDA~1.BHA\\AppData\\Local\\Temp\\ccAFve63.o: In function `CLazyLinker_call':\r. C:/Users/aninda.bhattacharjee/AppData/Local/Theano/compiledir_Windows-10-10.0.18362-SP0-Intel64_Family_6_Model_142_Stepping_9_GenuineIntel-3.6.9-64/lazylinker_ext/mod.cpp:894: undefined reference to `__imp_PyExc_AssertionError'\r. C:/Users/aninda.bhattacharjee/AppData/Local/Theano/compiledir_Windows-10-10.0.18362-SP0-Intel64_Family_6_Model_142_Stepping_9_GenuineIntel-3.6.9-64/lazylinker_ext/mod.cpp:937: undefined reference to `__imp__Py_NoneStruct'\r. C:/Users/aninda.bhattacharjee/AppData/Local/Theano/compiledir_Windows-10-10.0.18362-SP0-Intel64_Family_6_Model_142_Stepping_9_GenuineIntel-3.6.9-64/lazylinker_ext/mod.cpp:937: undefined reference to `__imp__Py_NoneStruct'\r. C:/Users/aninda.bhattacharjee/AppData/Local/Theano/compiledir_Windows-10-10.0.18362-SP0-Intel64_Family_6_Model_142_Stepping_9_GenuineIntel-3.6.9-64/lazylinker_ext/mod.cpp:938: undefined reference to `__imp__Py_NoneStruct'\r. C:\\Users\\ANINDA~1.BHA\\AppData\\Local\\Temp\\ccAFve63.o: In function `CLazyLinker_set_allow_gc':\r. C:/Users/aninda.bhattacharjee/AppData/Local/Theano/compiledir_Windows-10-10.0.18362-SP0-Intel64_Family_6_Model_142_Stepping_9_GenuineIntel-3.6.9-64/lazylinker_ext/mod.cpp:973: undefined reference to `__imp_PyBool_Type'\r. C:/Users/aninda.bhattacharjee/AppData/Local/Theano/compiledir_Windows-10-10.0.18362-SP0-Intel64_Family_6_Model_142_Stepping_9_GenuineIntel-3.6.9-64/lazylinker_ext/mod.cpp:976: undefined reference to `__imp__Py_TrueStruct'\r. collect2.exe: error: ld returned 1 exit status\r. ",
     "output_type": "error",
     "traceback": [
      "\u001b[1;31m---------------------------------------------------------------------------\u001b[0m",
      "\u001b[1;31mImportError\u001b[0m                               Traceback (most recent call last)",
      "\u001b[1;32mD:\\anaconda\\lib\\site-packages\\theano\\gof\\lazylinker_c.py\u001b[0m in \u001b[0;36m<module>\u001b[1;34m()\u001b[0m\n\u001b[0;32m     80\u001b[0m                     \u001b[0mversion\u001b[0m\u001b[1;33m,\u001b[0m\u001b[1;33m\u001b[0m\u001b[1;33m\u001b[0m\u001b[0m\n\u001b[1;32m---> 81\u001b[1;33m                     actual_version, force_compile, _need_reload))\n\u001b[0m\u001b[0;32m     82\u001b[0m \u001b[1;32mexcept\u001b[0m \u001b[0mImportError\u001b[0m\u001b[1;33m:\u001b[0m\u001b[1;33m\u001b[0m\u001b[1;33m\u001b[0m\u001b[0m\n",
      "\u001b[1;31mImportError\u001b[0m: Version check of the existing lazylinker compiled file. Looking for version 0.211, but found None. Extra debug information: force_compile=False, _need_reload=True",
      "\nDuring handling of the above exception, another exception occurred:\n",
      "\u001b[1;31mImportError\u001b[0m                               Traceback (most recent call last)",
      "\u001b[1;32mD:\\anaconda\\lib\\site-packages\\theano\\gof\\lazylinker_c.py\u001b[0m in \u001b[0;36m<module>\u001b[1;34m()\u001b[0m\n\u001b[0;32m    104\u001b[0m                         \u001b[0mversion\u001b[0m\u001b[1;33m,\u001b[0m\u001b[1;33m\u001b[0m\u001b[1;33m\u001b[0m\u001b[0m\n\u001b[1;32m--> 105\u001b[1;33m                         actual_version, force_compile, _need_reload))\n\u001b[0m\u001b[0;32m    106\u001b[0m         \u001b[1;32mexcept\u001b[0m \u001b[0mImportError\u001b[0m\u001b[1;33m:\u001b[0m\u001b[1;33m\u001b[0m\u001b[1;33m\u001b[0m\u001b[0m\n",
      "\u001b[1;31mImportError\u001b[0m: Version check of the existing lazylinker compiled file. Looking for version 0.211, but found None. Extra debug information: force_compile=False, _need_reload=True",
      "\nDuring handling of the above exception, another exception occurred:\n",
      "\u001b[1;31mException\u001b[0m                                 Traceback (most recent call last)",
      "\u001b[1;32m<ipython-input-36-e42f4e18d2a5>\u001b[0m in \u001b[0;36m<module>\u001b[1;34m()\u001b[0m\n\u001b[0;32m      1\u001b[0m \u001b[1;32mimport\u001b[0m \u001b[0mos\u001b[0m\u001b[1;33m\u001b[0m\u001b[1;33m\u001b[0m\u001b[0m\n\u001b[0;32m      2\u001b[0m \u001b[0mos\u001b[0m\u001b[1;33m.\u001b[0m\u001b[0menviron\u001b[0m\u001b[1;33m[\u001b[0m\u001b[1;34m'KERAS_BACKEND'\u001b[0m\u001b[1;33m]\u001b[0m \u001b[1;33m=\u001b[0m \u001b[1;34m'theano'\u001b[0m\u001b[1;33m\u001b[0m\u001b[1;33m\u001b[0m\u001b[0m\n\u001b[1;32m----> 3\u001b[1;33m \u001b[1;32mimport\u001b[0m \u001b[0mkeras\u001b[0m \u001b[1;32mas\u001b[0m \u001b[0mks\u001b[0m\u001b[1;33m\u001b[0m\u001b[1;33m\u001b[0m\u001b[0m\n\u001b[0m",
      "\u001b[1;32mD:\\anaconda\\lib\\site-packages\\keras\\__init__.py\u001b[0m in \u001b[0;36m<module>\u001b[1;34m()\u001b[0m\n\u001b[0;32m      1\u001b[0m \u001b[1;32mfrom\u001b[0m \u001b[0m__future__\u001b[0m \u001b[1;32mimport\u001b[0m \u001b[0mabsolute_import\u001b[0m\u001b[1;33m\u001b[0m\u001b[1;33m\u001b[0m\u001b[0m\n\u001b[0;32m      2\u001b[0m \u001b[1;33m\u001b[0m\u001b[0m\n\u001b[1;32m----> 3\u001b[1;33m \u001b[1;32mfrom\u001b[0m \u001b[1;33m.\u001b[0m \u001b[1;32mimport\u001b[0m \u001b[0mutils\u001b[0m\u001b[1;33m\u001b[0m\u001b[1;33m\u001b[0m\u001b[0m\n\u001b[0m\u001b[0;32m      4\u001b[0m \u001b[1;32mfrom\u001b[0m \u001b[1;33m.\u001b[0m \u001b[1;32mimport\u001b[0m \u001b[0mactivations\u001b[0m\u001b[1;33m\u001b[0m\u001b[1;33m\u001b[0m\u001b[0m\n\u001b[0;32m      5\u001b[0m \u001b[1;32mfrom\u001b[0m \u001b[1;33m.\u001b[0m \u001b[1;32mimport\u001b[0m \u001b[0mapplications\u001b[0m\u001b[1;33m\u001b[0m\u001b[1;33m\u001b[0m\u001b[0m\n",
      "\u001b[1;32mD:\\anaconda\\lib\\site-packages\\keras\\utils\\__init__.py\u001b[0m in \u001b[0;36m<module>\u001b[1;34m()\u001b[0m\n\u001b[0;32m      4\u001b[0m \u001b[1;32mfrom\u001b[0m \u001b[1;33m.\u001b[0m \u001b[1;32mimport\u001b[0m \u001b[0mdata_utils\u001b[0m\u001b[1;33m\u001b[0m\u001b[1;33m\u001b[0m\u001b[0m\n\u001b[0;32m      5\u001b[0m \u001b[1;32mfrom\u001b[0m \u001b[1;33m.\u001b[0m \u001b[1;32mimport\u001b[0m \u001b[0mio_utils\u001b[0m\u001b[1;33m\u001b[0m\u001b[1;33m\u001b[0m\u001b[0m\n\u001b[1;32m----> 6\u001b[1;33m \u001b[1;32mfrom\u001b[0m \u001b[1;33m.\u001b[0m \u001b[1;32mimport\u001b[0m \u001b[0mconv_utils\u001b[0m\u001b[1;33m\u001b[0m\u001b[1;33m\u001b[0m\u001b[0m\n\u001b[0m\u001b[0;32m      7\u001b[0m \u001b[1;33m\u001b[0m\u001b[0m\n\u001b[0;32m      8\u001b[0m \u001b[1;31m# Globally-importable utils.\u001b[0m\u001b[1;33m\u001b[0m\u001b[1;33m\u001b[0m\u001b[1;33m\u001b[0m\u001b[0m\n",
      "\u001b[1;32mD:\\anaconda\\lib\\site-packages\\keras\\utils\\conv_utils.py\u001b[0m in \u001b[0;36m<module>\u001b[1;34m()\u001b[0m\n\u001b[0;32m      7\u001b[0m \u001b[1;32mfrom\u001b[0m \u001b[0msix\u001b[0m\u001b[1;33m.\u001b[0m\u001b[0mmoves\u001b[0m \u001b[1;32mimport\u001b[0m \u001b[0mrange\u001b[0m\u001b[1;33m\u001b[0m\u001b[1;33m\u001b[0m\u001b[0m\n\u001b[0;32m      8\u001b[0m \u001b[1;32mimport\u001b[0m \u001b[0mnumpy\u001b[0m \u001b[1;32mas\u001b[0m \u001b[0mnp\u001b[0m\u001b[1;33m\u001b[0m\u001b[1;33m\u001b[0m\u001b[0m\n\u001b[1;32m----> 9\u001b[1;33m \u001b[1;32mfrom\u001b[0m \u001b[1;33m.\u001b[0m\u001b[1;33m.\u001b[0m \u001b[1;32mimport\u001b[0m \u001b[0mbackend\u001b[0m \u001b[1;32mas\u001b[0m \u001b[0mK\u001b[0m\u001b[1;33m\u001b[0m\u001b[1;33m\u001b[0m\u001b[0m\n\u001b[0m\u001b[0;32m     10\u001b[0m \u001b[1;33m\u001b[0m\u001b[0m\n\u001b[0;32m     11\u001b[0m \u001b[1;33m\u001b[0m\u001b[0m\n",
      "\u001b[1;32mD:\\anaconda\\lib\\site-packages\\keras\\backend\\__init__.py\u001b[0m in \u001b[0;36m<module>\u001b[1;34m()\u001b[0m\n\u001b[0;32m     84\u001b[0m \u001b[1;32melif\u001b[0m \u001b[0m_BACKEND\u001b[0m \u001b[1;33m==\u001b[0m \u001b[1;34m'theano'\u001b[0m\u001b[1;33m:\u001b[0m\u001b[1;33m\u001b[0m\u001b[1;33m\u001b[0m\u001b[0m\n\u001b[0;32m     85\u001b[0m     \u001b[0msys\u001b[0m\u001b[1;33m.\u001b[0m\u001b[0mstderr\u001b[0m\u001b[1;33m.\u001b[0m\u001b[0mwrite\u001b[0m\u001b[1;33m(\u001b[0m\u001b[1;34m'Using Theano backend.\\n'\u001b[0m\u001b[1;33m)\u001b[0m\u001b[1;33m\u001b[0m\u001b[1;33m\u001b[0m\u001b[0m\n\u001b[1;32m---> 86\u001b[1;33m     \u001b[1;32mfrom\u001b[0m \u001b[1;33m.\u001b[0m\u001b[0mtheano_backend\u001b[0m \u001b[1;32mimport\u001b[0m \u001b[1;33m*\u001b[0m\u001b[1;33m\u001b[0m\u001b[1;33m\u001b[0m\u001b[0m\n\u001b[0m\u001b[0;32m     87\u001b[0m \u001b[1;32melif\u001b[0m \u001b[0m_BACKEND\u001b[0m \u001b[1;33m==\u001b[0m \u001b[1;34m'tensorflow'\u001b[0m\u001b[1;33m:\u001b[0m\u001b[1;33m\u001b[0m\u001b[1;33m\u001b[0m\u001b[0m\n\u001b[0;32m     88\u001b[0m     \u001b[0msys\u001b[0m\u001b[1;33m.\u001b[0m\u001b[0mstderr\u001b[0m\u001b[1;33m.\u001b[0m\u001b[0mwrite\u001b[0m\u001b[1;33m(\u001b[0m\u001b[1;34m'Using TensorFlow backend.\\n'\u001b[0m\u001b[1;33m)\u001b[0m\u001b[1;33m\u001b[0m\u001b[1;33m\u001b[0m\u001b[0m\n",
      "\u001b[1;32mD:\\anaconda\\lib\\site-packages\\keras\\backend\\theano_backend.py\u001b[0m in \u001b[0;36m<module>\u001b[1;34m()\u001b[0m\n\u001b[0;32m      5\u001b[0m \u001b[1;32mfrom\u001b[0m \u001b[0mcollections\u001b[0m \u001b[1;32mimport\u001b[0m \u001b[0mdefaultdict\u001b[0m\u001b[1;33m\u001b[0m\u001b[1;33m\u001b[0m\u001b[0m\n\u001b[0;32m      6\u001b[0m \u001b[1;32mfrom\u001b[0m \u001b[0mcontextlib\u001b[0m \u001b[1;32mimport\u001b[0m \u001b[0mcontextmanager\u001b[0m\u001b[1;33m\u001b[0m\u001b[1;33m\u001b[0m\u001b[0m\n\u001b[1;32m----> 7\u001b[1;33m \u001b[1;32mimport\u001b[0m \u001b[0mtheano\u001b[0m\u001b[1;33m\u001b[0m\u001b[1;33m\u001b[0m\u001b[0m\n\u001b[0m\u001b[0;32m      8\u001b[0m \u001b[1;32mfrom\u001b[0m \u001b[0mtheano\u001b[0m \u001b[1;32mimport\u001b[0m \u001b[0mtensor\u001b[0m \u001b[1;32mas\u001b[0m \u001b[0mT\u001b[0m\u001b[1;33m\u001b[0m\u001b[1;33m\u001b[0m\u001b[0m\n\u001b[0;32m      9\u001b[0m \u001b[1;32mfrom\u001b[0m \u001b[0mtheano\u001b[0m\u001b[1;33m.\u001b[0m\u001b[0msandbox\u001b[0m\u001b[1;33m.\u001b[0m\u001b[0mrng_mrg\u001b[0m \u001b[1;32mimport\u001b[0m \u001b[0mMRG_RandomStreams\u001b[0m \u001b[1;32mas\u001b[0m \u001b[0mRandomStreams\u001b[0m\u001b[1;33m\u001b[0m\u001b[1;33m\u001b[0m\u001b[0m\n",
      "\u001b[1;32mD:\\anaconda\\lib\\site-packages\\theano\\__init__.py\u001b[0m in \u001b[0;36m<module>\u001b[1;34m()\u001b[0m\n\u001b[0;32m    108\u001b[0m     object2, utils)\n\u001b[0;32m    109\u001b[0m \u001b[1;33m\u001b[0m\u001b[0m\n\u001b[1;32m--> 110\u001b[1;33m from theano.compile import (\n\u001b[0m\u001b[0;32m    111\u001b[0m     \u001b[0mSymbolicInput\u001b[0m\u001b[1;33m,\u001b[0m \u001b[0mIn\u001b[0m\u001b[1;33m,\u001b[0m\u001b[1;33m\u001b[0m\u001b[1;33m\u001b[0m\u001b[0m\n\u001b[0;32m    112\u001b[0m     \u001b[0mSymbolicOutput\u001b[0m\u001b[1;33m,\u001b[0m \u001b[0mOut\u001b[0m\u001b[1;33m,\u001b[0m\u001b[1;33m\u001b[0m\u001b[1;33m\u001b[0m\u001b[0m\n",
      "\u001b[1;32mD:\\anaconda\\lib\\site-packages\\theano\\compile\\__init__.py\u001b[0m in \u001b[0;36m<module>\u001b[1;34m()\u001b[0m\n\u001b[0;32m     10\u001b[0m \u001b[1;32mfrom\u001b[0m \u001b[0mtheano\u001b[0m\u001b[1;33m.\u001b[0m\u001b[0mcompile\u001b[0m\u001b[1;33m.\u001b[0m\u001b[0mfunction_module\u001b[0m \u001b[1;32mimport\u001b[0m \u001b[1;33m*\u001b[0m\u001b[1;33m\u001b[0m\u001b[1;33m\u001b[0m\u001b[0m\n\u001b[0;32m     11\u001b[0m \u001b[1;33m\u001b[0m\u001b[0m\n\u001b[1;32m---> 12\u001b[1;33m \u001b[1;32mfrom\u001b[0m \u001b[0mtheano\u001b[0m\u001b[1;33m.\u001b[0m\u001b[0mcompile\u001b[0m\u001b[1;33m.\u001b[0m\u001b[0mmode\u001b[0m \u001b[1;32mimport\u001b[0m \u001b[1;33m*\u001b[0m\u001b[1;33m\u001b[0m\u001b[1;33m\u001b[0m\u001b[0m\n\u001b[0m\u001b[0;32m     13\u001b[0m \u001b[1;33m\u001b[0m\u001b[0m\n\u001b[0;32m     14\u001b[0m \u001b[1;32mfrom\u001b[0m \u001b[0mtheano\u001b[0m\u001b[1;33m.\u001b[0m\u001b[0mcompile\u001b[0m\u001b[1;33m.\u001b[0m\u001b[0mio\u001b[0m \u001b[1;32mimport\u001b[0m \u001b[1;33m*\u001b[0m\u001b[1;33m\u001b[0m\u001b[1;33m\u001b[0m\u001b[0m\n",
      "\u001b[1;32mD:\\anaconda\\lib\\site-packages\\theano\\compile\\mode.py\u001b[0m in \u001b[0;36m<module>\u001b[1;34m()\u001b[0m\n\u001b[0;32m      9\u001b[0m \u001b[1;32mimport\u001b[0m \u001b[0mtheano\u001b[0m\u001b[1;33m\u001b[0m\u001b[1;33m\u001b[0m\u001b[0m\n\u001b[0;32m     10\u001b[0m \u001b[1;32mfrom\u001b[0m \u001b[0mtheano\u001b[0m \u001b[1;32mimport\u001b[0m \u001b[0mgof\u001b[0m\u001b[1;33m\u001b[0m\u001b[1;33m\u001b[0m\u001b[0m\n\u001b[1;32m---> 11\u001b[1;33m \u001b[1;32mimport\u001b[0m \u001b[0mtheano\u001b[0m\u001b[1;33m.\u001b[0m\u001b[0mgof\u001b[0m\u001b[1;33m.\u001b[0m\u001b[0mvm\u001b[0m\u001b[1;33m\u001b[0m\u001b[1;33m\u001b[0m\u001b[0m\n\u001b[0m\u001b[0;32m     12\u001b[0m \u001b[1;32mfrom\u001b[0m \u001b[0mtheano\u001b[0m \u001b[1;32mimport\u001b[0m \u001b[0mconfig\u001b[0m\u001b[1;33m\u001b[0m\u001b[1;33m\u001b[0m\u001b[0m\n\u001b[0;32m     13\u001b[0m \u001b[1;32mfrom\u001b[0m \u001b[0msix\u001b[0m \u001b[1;32mimport\u001b[0m \u001b[0mstring_types\u001b[0m\u001b[1;33m\u001b[0m\u001b[1;33m\u001b[0m\u001b[0m\n",
      "\u001b[1;32mD:\\anaconda\\lib\\site-packages\\theano\\gof\\vm.py\u001b[0m in \u001b[0;36m<module>\u001b[1;34m()\u001b[0m\n\u001b[0;32m    672\u001b[0m     \u001b[1;32mif\u001b[0m \u001b[1;32mnot\u001b[0m \u001b[0mtheano\u001b[0m\u001b[1;33m.\u001b[0m\u001b[0mconfig\u001b[0m\u001b[1;33m.\u001b[0m\u001b[0mcxx\u001b[0m\u001b[1;33m:\u001b[0m\u001b[1;33m\u001b[0m\u001b[1;33m\u001b[0m\u001b[0m\n\u001b[0;32m    673\u001b[0m         \u001b[1;32mraise\u001b[0m \u001b[0mtheano\u001b[0m\u001b[1;33m.\u001b[0m\u001b[0mgof\u001b[0m\u001b[1;33m.\u001b[0m\u001b[0mcmodule\u001b[0m\u001b[1;33m.\u001b[0m\u001b[0mMissingGXX\u001b[0m\u001b[1;33m(\u001b[0m\u001b[1;34m'lazylinker will not be imported if theano.config.cxx is not set.'\u001b[0m\u001b[1;33m)\u001b[0m\u001b[1;33m\u001b[0m\u001b[1;33m\u001b[0m\u001b[0m\n\u001b[1;32m--> 674\u001b[1;33m     \u001b[1;32mfrom\u001b[0m \u001b[1;33m.\u001b[0m \u001b[1;32mimport\u001b[0m \u001b[0mlazylinker_c\u001b[0m\u001b[1;33m\u001b[0m\u001b[1;33m\u001b[0m\u001b[0m\n\u001b[0m\u001b[0;32m    675\u001b[0m \u001b[1;33m\u001b[0m\u001b[0m\n\u001b[0;32m    676\u001b[0m     \u001b[1;32mclass\u001b[0m \u001b[0mCVM\u001b[0m\u001b[1;33m(\u001b[0m\u001b[0mlazylinker_c\u001b[0m\u001b[1;33m.\u001b[0m\u001b[0mCLazyLinker\u001b[0m\u001b[1;33m,\u001b[0m \u001b[0mVM\u001b[0m\u001b[1;33m)\u001b[0m\u001b[1;33m:\u001b[0m\u001b[1;33m\u001b[0m\u001b[1;33m\u001b[0m\u001b[0m\n",
      "\u001b[1;32mD:\\anaconda\\lib\\site-packages\\theano\\gof\\lazylinker_c.py\u001b[0m in \u001b[0;36m<module>\u001b[1;34m()\u001b[0m\n\u001b[0;32m    138\u001b[0m             \u001b[0margs\u001b[0m \u001b[1;33m=\u001b[0m \u001b[0mcmodule\u001b[0m\u001b[1;33m.\u001b[0m\u001b[0mGCC_compiler\u001b[0m\u001b[1;33m.\u001b[0m\u001b[0mcompile_args\u001b[0m\u001b[1;33m(\u001b[0m\u001b[1;33m)\u001b[0m\u001b[1;33m\u001b[0m\u001b[1;33m\u001b[0m\u001b[0m\n\u001b[0;32m    139\u001b[0m             cmodule.GCC_compiler.compile_str(dirname, code, location=loc,\n\u001b[1;32m--> 140\u001b[1;33m                                              preargs=args)\n\u001b[0m\u001b[0;32m    141\u001b[0m             \u001b[1;31m# Save version into the __init__.py file.\u001b[0m\u001b[1;33m\u001b[0m\u001b[1;33m\u001b[0m\u001b[1;33m\u001b[0m\u001b[0m\n\u001b[0;32m    142\u001b[0m             \u001b[0minit_py\u001b[0m \u001b[1;33m=\u001b[0m \u001b[0mos\u001b[0m\u001b[1;33m.\u001b[0m\u001b[0mpath\u001b[0m\u001b[1;33m.\u001b[0m\u001b[0mjoin\u001b[0m\u001b[1;33m(\u001b[0m\u001b[0mloc\u001b[0m\u001b[1;33m,\u001b[0m \u001b[1;34m'__init__.py'\u001b[0m\u001b[1;33m)\u001b[0m\u001b[1;33m\u001b[0m\u001b[1;33m\u001b[0m\u001b[0m\n",
      "\u001b[1;32mD:\\anaconda\\lib\\site-packages\\theano\\gof\\cmodule.py\u001b[0m in \u001b[0;36mcompile_str\u001b[1;34m(module_name, src_code, location, include_dirs, lib_dirs, libs, preargs, py_module, hide_symbols)\u001b[0m\n\u001b[0;32m   2394\u001b[0m             \u001b[1;31m# difficult to read.\u001b[0m\u001b[1;33m\u001b[0m\u001b[1;33m\u001b[0m\u001b[1;33m\u001b[0m\u001b[0m\n\u001b[0;32m   2395\u001b[0m             raise Exception('Compilation failed (return status=%s): %s' %\n\u001b[1;32m-> 2396\u001b[1;33m                             (status, compile_stderr.replace('\\n', '. ')))\n\u001b[0m\u001b[0;32m   2397\u001b[0m         \u001b[1;32melif\u001b[0m \u001b[0mconfig\u001b[0m\u001b[1;33m.\u001b[0m\u001b[0mcmodule\u001b[0m\u001b[1;33m.\u001b[0m\u001b[0mcompilation_warning\u001b[0m \u001b[1;32mand\u001b[0m \u001b[0mcompile_stderr\u001b[0m\u001b[1;33m:\u001b[0m\u001b[1;33m\u001b[0m\u001b[1;33m\u001b[0m\u001b[0m\n\u001b[0;32m   2398\u001b[0m             \u001b[1;31m# Print errors just below the command line.\u001b[0m\u001b[1;33m\u001b[0m\u001b[1;33m\u001b[0m\u001b[1;33m\u001b[0m\u001b[0m\n",
      "\u001b[1;31mException\u001b[0m: Compilation failed (return status=1): C:\\Users\\ANINDA~1.BHA\\AppData\\Local\\Temp\\ccAFve63.o: In function `_import_array':\r. D:/anaconda/lib/site-packages/numpy/core/include/numpy/__multiarray_api.h:1470: undefined reference to `__imp_PyExc_ImportError'\r. D:/anaconda/lib/site-packages/numpy/core/include/numpy/__multiarray_api.h:1476: undefined reference to `__imp_PyExc_AttributeError'\r. D:/anaconda/lib/site-packages/numpy/core/include/numpy/__multiarray_api.h:1481: undefined reference to `__imp_PyCapsule_Type'\r. D:/anaconda/lib/site-packages/numpy/core/include/numpy/__multiarray_api.h:1482: undefined reference to `__imp_PyExc_RuntimeError'\r. D:/anaconda/lib/site-packages/numpy/core/include/numpy/__multiarray_api.h:1497: undefined reference to `__imp_PyExc_RuntimeError'\r. D:/anaconda/lib/site-packages/numpy/core/include/numpy/__multiarray_api.h:1505: undefined reference to `__imp_PyExc_RuntimeError'\r. D:/anaconda/lib/site-packages/numpy/core/include/numpy/__multiarray_api.h:1511: undefined reference to `__imp_PyExc_RuntimeError'\r. D:/anaconda/lib/site-packages/numpy/core/include/numpy/__multiarray_api.h:1521: undefined reference to `__imp_PyExc_RuntimeError'\r. C:\\Users\\ANINDA~1.BHA\\AppData\\Local\\Temp\\ccAFve63.o:D:/anaconda/lib/site-packages/numpy/core/include/numpy/__multiarray_api.h:1533: more undefined references to `__imp_PyExc_RuntimeError' follow\r. C:\\Users\\ANINDA~1.BHA\\AppData\\Local\\Temp\\ccAFve63.o: In function `NpyCapsule_Check':\r. D:/anaconda/lib/site-packages/numpy/core/include/numpy/npy_3kcompat.h:468: undefined reference to `__imp_PyCapsule_Type'\r. C:\\Users\\ANINDA~1.BHA\\AppData\\Local\\Temp\\ccAFve63.o: In function `unpack_list_of_ssize_t':\r. C:/Users/aninda.bhattacharjee/AppData/Local/Theano/compiledir_Windows-10-10.0.18362-SP0-Intel64_Family_6_Model_142_Stepping_9_GenuineIntel-3.6.9-64/lazylinker_ext/mod.cpp:48: undefined reference to `__imp_PyExc_TypeError'\r. C:/Users/aninda.bhattacharjee/AppData/Local/Theano/compiledir_Windows-10-10.0.18362-SP0-Intel64_Family_6_Model_142_Stepping_9_GenuineIntel-3.6.9-64/lazylinker_ext/mod.cpp:58: undefined reference to `__imp_PyExc_IndexError'\r. C:\\Users\\ANINDA~1.BHA\\AppData\\Local\\Temp\\ccAFve63.o: In function `CLazyLinker_init':\r. C:/Users/aninda.bhattacharjee/AppData/Local/Theano/compiledir_Windows-10-10.0.18362-SP0-Intel64_Family_6_Model_142_Stepping_9_GenuineIntel-3.6.9-64/lazylinker_ext/mod.cpp:352: undefined reference to `__imp_PyExc_IndexError'\r. C:/Users/aninda.bhattacharjee/AppData/Local/Theano/compiledir_Windows-10-10.0.18362-SP0-Intel64_Family_6_Model_142_Stepping_9_GenuineIntel-3.6.9-64/lazylinker_ext/mod.cpp:370: undefined reference to `__imp_PyExc_IndexError'\r. C:/Users/aninda.bhattacharjee/AppData/Local/Theano/compiledir_Windows-10-10.0.18362-SP0-Intel64_Family_6_Model_142_Stepping_9_GenuineIntel-3.6.9-64/lazylinker_ext/mod.cpp:385: undefined reference to `__imp_PyExc_IndexError'\r. C:/Users/aninda.bhattacharjee/AppData/Local/Theano/compiledir_Windows-10-10.0.18362-SP0-Intel64_Family_6_Model_142_Stepping_9_GenuineIntel-3.6.9-64/lazylinker_ext/mod.cpp:389: undefined reference to `__imp_PyExc_IndexError'\r. C:\\Users\\ANINDA~1.BHA\\AppData\\Local\\Temp\\ccAFve63.o:C:/Users/aninda.bhattacharjee/AppData/Local/Theano/compiledir_Windows-10-10.0.18362-SP0-Intel64_Family_6_Model_142_Stepping_9_GenuineIntel-3.6.9-64/lazylinker_ext/mod.cpp:393: more undefined references to `__imp_PyExc_IndexError' follow\r. C:\\Users\\ANINDA~1.BHA\\AppData\\Local\\Temp\\ccAFve63.o: In function `CLazyLinker_init':\r. C:/Users/aninda.bhattacharjee/AppData/Local/Theano/compiledir_Windows-10-10.0.18362-SP0-Intel64_Family_6_Model_142_Stepping_9_GenuineIntel-3.6.9-64/lazylinker_ext/mod.cpp:405: undefined reference to `__imp_PyExc_TypeError'\r. C:/Users/aninda.bhattacharjee/AppData/Local/Theano/compiledir_Windows-10-10.0.18362-SP0-Intel64_Family_6_Model_142_Stepping_9_GenuineIntel-3.6.9-64/lazylinker_ext/mod.cpp:420: undefined reference to `__imp__Py_NoneStruct'\r. C:/Users/aninda.bhattacharjee/AppData/Local/Theano/compiledir_Windows-10-10.0.18362-SP0-Intel64_Family_6_Model_142_Stepping_9_GenuineIntel-3.6.9-64/lazylinker_ext/mod.cpp:426: undefined reference to `__imp_PyExc_IndexError'\r. C:/Users/aninda.bhattacharjee/AppData/Local/Theano/compiledir_Windows-10-10.0.18362-SP0-Intel64_Family_6_Model_142_Stepping_9_GenuineIntel-3.6.9-64/lazylinker_ext/mod.cpp:440: undefined reference to `__imp_PyExc_TypeError'\r. C:/Users/aninda.bhattacharjee/AppData/Local/Theano/compiledir_Windows-10-10.0.18362-SP0-Intel64_Family_6_Model_142_Stepping_9_GenuineIntel-3.6.9-64/lazylinker_ext/mod.cpp:444: undefined reference to `__imp__Py_NoneStruct'\r. C:\\Users\\ANINDA~1.BHA\\AppData\\Local\\Temp\\ccAFve63.o: In function `c_call':\r. C:/Users/aninda.bhattacharjee/AppData/Local/Theano/compiledir_Windows-10-10.0.18362-SP0-Intel64_Family_6_Model_142_Stepping_9_GenuineIntel-3.6.9-64/lazylinker_ext/mod.cpp:545: undefined reference to `__imp__Py_NoneStruct'\r. C:/Users/aninda.bhattacharjee/AppData/Local/Theano/compiledir_Windows-10-10.0.18362-SP0-Intel64_Family_6_Model_142_Stepping_9_GenuineIntel-3.6.9-64/lazylinker_ext/mod.cpp:545: undefined reference to `__imp__Py_NoneStruct'\r. C:/Users/aninda.bhattacharjee/AppData/Local/Theano/compiledir_Windows-10-10.0.18362-SP0-Intel64_Family_6_Model_142_Stepping_9_GenuineIntel-3.6.9-64/lazylinker_ext/mod.cpp:545: undefined reference to `__imp__Py_NoneStruct'\r. C:/Users/aninda.bhattacharjee/AppData/Local/Theano/compiledir_Windows-10-10.0.18362-SP0-Intel64_Family_6_Model_142_Stepping_9_GenuineIntel-3.6.9-64/lazylinker_ext/mod.cpp:546: undefined reference to `__imp__Py_NoneStruct'\r. C:\\Users\\ANINDA~1.BHA\\AppData\\Local\\Temp\\ccAFve63.o:C:/Users/aninda.bhattacharjee/AppData/Local/Theano/compiledir_Windows-10-10.0.18362-SP0-Intel64_Family_6_Model_142_Stepping_9_GenuineIntel-3.6.9-64/lazylinker_ext/mod.cpp:546: more undefined references to `__imp__Py_NoneStruct' follow\r. C:\\Users\\ANINDA~1.BHA\\AppData\\Local\\Temp\\ccAFve63.o: In function `lazy_rec_eval':\r. C:/Users/aninda.bhattacharjee/AppData/Local/Theano/compiledir_Windows-10-10.0.18362-SP0-Intel64_Family_6_Model_142_Stepping_9_GenuineIntel-3.6.9-64/lazylinker_ext/mod.cpp:618: undefined reference to `__imp_PyExc_IndexError'\r. C:/Users/aninda.bhattacharjee/AppData/Local/Theano/compiledir_Windows-10-10.0.18362-SP0-Intel64_Family_6_Model_142_Stepping_9_GenuineIntel-3.6.9-64/lazylinker_ext/mod.cpp:641: undefined reference to `__imp_PyExc_TypeError'\r. C:/Users/aninda.bhattacharjee/AppData/Local/Theano/compiledir_Windows-10-10.0.18362-SP0-Intel64_Family_6_Model_142_Stepping_9_GenuineIntel-3.6.9-64/lazylinker_ext/mod.cpp:649: undefined reference to `__imp_PyExc_ValueError'\r. C:/Users/aninda.bhattacharjee/AppData/Local/Theano/compiledir_Windows-10-10.0.18362-SP0-Intel64_Family_6_Model_142_Stepping_9_GenuineIntel-3.6.9-64/lazylinker_ext/mod.cpp:657: undefined reference to `__imp_PyExc_IndexError'\r. C:/Users/aninda.bhattacharjee/AppData/Local/Theano/compiledir_Windows-10-10.0.18362-SP0-Intel64_Family_6_Model_142_Stepping_9_GenuineIntel-3.6.9-64/lazylinker_ext/mod.cpp:708: undefined reference to `__imp__Py_NoneStruct'\r. C:/Users/aninda.bhattacharjee/AppData/Local/Theano/compiledir_Windows-10-10.0.18362-SP0-Intel64_Family_6_Model_142_Stepping_9_GenuineIntel-3.6.9-64/lazylinker_ext/mod.cpp:715: undefined reference to `__imp_PyExc_TypeError'\r. C:/Users/aninda.bhattacharjee/AppData/Local/Theano/compiledir_Windows-10-10.0.18362-SP0-Intel64_Family_6_Model_142_Stepping_9_GenuineIntel-3.6.9-64/lazylinker_ext/mod.cpp:721: undefined reference to `__imp_PyExc_TypeError'\r. C:/Users/aninda.bhattacharjee/AppData/Local/Theano/compiledir_Windows-10-10.0.18362-SP0-Intel64_Family_6_Model_142_Stepping_9_GenuineIntel-3.6.9-64/lazylinker_ext/mod.cpp:771: undefined reference to `__imp__Py_NoneStruct'\r. C:/Users/aninda.bhattacharjee/AppData/Local/Theano/compiledir_Windows-10-10.0.18362-SP0-Intel64_Family_6_Model_142_Stepping_9_GenuineIntel-3.6.9-64/lazylinker_ext/mod.cpp:771: undefined reference to `__imp__Py_NoneStruct'\r. C:/Users/aninda.bhattacharjee/AppData/Local/Theano/compiledir_Windows-10-10.0.18362-SP0-Intel64_Family_6_Model_142_Stepping_9_GenuineIntel-3.6.9-64/lazylinker_ext/mod.cpp:772: undefined reference to `__imp__Py_NoneStruct'\r. C:\\Users\\ANINDA~1.BHA\\AppData\\Local\\Temp\\ccAFve63.o: In function `CLazyLinker_call':\r. C:/Users/aninda.bhattacharjee/AppData/Local/Theano/compiledir_Windows-10-10.0.18362-SP0-Intel64_Family_6_Model_142_Stepping_9_GenuineIntel-3.6.9-64/lazylinker_ext/mod.cpp:814: undefined reference to `__imp_PyExc_RuntimeError'\r. C:/Users/aninda.bhattacharjee/AppData/Local/Theano/compiledir_Windows-10-10.0.18362-SP0-Intel64_Family_6_Model_142_Stepping_9_GenuineIntel-3.6.9-64/lazylinker_ext/mod.cpp:826: undefined reference to `__imp_PyExc_RuntimeError'\r. C:/Users/aninda.bhattacharjee/AppData/Local/Theano/compiledir_Windows-10-10.0.18362-SP0-Intel64_Family_6_Model_142_Stepping_9_GenuineIntel-3.6.9-64/lazylinker_ext/mod.cpp:839: undefined reference to `__imp__Py_NoneStruct'\r. C:/Users/aninda.bhattacharjee/AppData/Local/Theano/compiledir_Windows-10-10.0.18362-SP0-Intel64_Family_6_Model_142_Stepping_9_GenuineIntel-3.6.9-64/lazylinker_ext/mod.cpp:839: undefined reference to `__imp__Py_NoneStruct'\r. C:/Users/aninda.bhattacharjee/AppData/Local/Theano/compiledir_Windows-10-10.0.18362-SP0-Intel64_Family_6_Model_142_Stepping_9_GenuineIntel-3.6.9-64/lazylinker_ext/mod.cpp:840: undefined reference to `__imp__Py_NoneStruct'\r. C:/Users/aninda.bhattacharjee/AppData/Local/Theano/compiledir_Windows-10-10.0.18362-SP0-Intel64_Family_6_Model_142_Stepping_9_GenuineIntel-3.6.9-64/lazylinker_ext/mod.cpp:849: undefined reference to `__imp__Py_NoneStruct'\r. C:/Users/aninda.bhattacharjee/AppData/Local/Theano/compiledir_Windows-10-10.0.18362-SP0-Intel64_Family_6_Model_142_Stepping_9_GenuineIntel-3.6.9-64/lazylinker_ext/mod.cpp:849: undefined reference to `__imp__Py_NoneStruct'\r. C:\\Users\\ANINDA~1.BHA\\AppData\\Local\\Temp\\ccAFve63.o:C:/Users/aninda.bhattacharjee/AppData/Local/Theano/compiledir_Windows-10-10.0.18362-SP0-Intel64_Family_6_Model_142_Stepping_9_GenuineIntel-3.6.9-64/lazylinker_ext/mod.cpp:850: more undefined references to `__imp__Py_NoneStruct' follow\r. C:\\Users\\ANINDA~1.BHA\\AppData\\Local\\Temp\\ccAFve63.o: In function `CLazyLinker_call':\r. C:/Users/aninda.bhattacharjee/AppData/Local/Theano/compiledir_Windows-10-10.0.18362-SP0-Intel64_Family_6_Model_142_Stepping_9_GenuineIntel-3.6.9-64/lazylinker_ext/mod.cpp:894: undefined reference to `__imp_PyExc_AssertionError'\r. C:/Users/aninda.bhattacharjee/AppData/Local/Theano/compiledir_Windows-10-10.0.18362-SP0-Intel64_Family_6_Model_142_Stepping_9_GenuineIntel-3.6.9-64/lazylinker_ext/mod.cpp:937: undefined reference to `__imp__Py_NoneStruct'\r. C:/Users/aninda.bhattacharjee/AppData/Local/Theano/compiledir_Windows-10-10.0.18362-SP0-Intel64_Family_6_Model_142_Stepping_9_GenuineIntel-3.6.9-64/lazylinker_ext/mod.cpp:937: undefined reference to `__imp__Py_NoneStruct'\r. C:/Users/aninda.bhattacharjee/AppData/Local/Theano/compiledir_Windows-10-10.0.18362-SP0-Intel64_Family_6_Model_142_Stepping_9_GenuineIntel-3.6.9-64/lazylinker_ext/mod.cpp:938: undefined reference to `__imp__Py_NoneStruct'\r. C:\\Users\\ANINDA~1.BHA\\AppData\\Local\\Temp\\ccAFve63.o: In function `CLazyLinker_set_allow_gc':\r. C:/Users/aninda.bhattacharjee/AppData/Local/Theano/compiledir_Windows-10-10.0.18362-SP0-Intel64_Family_6_Model_142_Stepping_9_GenuineIntel-3.6.9-64/lazylinker_ext/mod.cpp:973: undefined reference to `__imp_PyBool_Type'\r. C:/Users/aninda.bhattacharjee/AppData/Local/Theano/compiledir_Windows-10-10.0.18362-SP0-Intel64_Family_6_Model_142_Stepping_9_GenuineIntel-3.6.9-64/lazylinker_ext/mod.cpp:976: undefined reference to `__imp__Py_TrueStruct'\r. collect2.exe: error: ld returned 1 exit status\r. "
     ]
    }
   ],
   "source": [
    "import os\n",
    "os.environ['KERAS_BACKEND'] = 'theano'\n",
    "import keras as ks\n"
   ]
  },
  {
   "cell_type": "code",
   "execution_count": null,
   "metadata": {},
   "outputs": [],
   "source": [
    "import keras\n",
    "from keras.models import Sequential\n",
    "from keras.layers import Dense"
   ]
  },
  {
   "cell_type": "code",
   "execution_count": null,
   "metadata": {},
   "outputs": [],
   "source": [
    "# define the keras model\n",
    "model = Sequential()\n",
    "model.add(Dense(12, input_dim=12, activation='relu'))\n",
    "model.add(Dense(8, activation='relu'))\n",
    "model.add(Dense(1, activation='sigmoid'))"
   ]
  },
  {
   "cell_type": "code",
   "execution_count": null,
   "metadata": {},
   "outputs": [],
   "source": [
    "# compile the keras model\n",
    "model.compile(loss='binary_crossentropy', optimizer='adam', metrics=['accuracy'])"
   ]
  },
  {
   "cell_type": "code",
   "execution_count": null,
   "metadata": {},
   "outputs": [],
   "source": [
    "# fit the keras model on the dataset\n",
    "model.fit(X_features, y, epochs=150, batch_size=10)"
   ]
  },
  {
   "cell_type": "code",
   "execution_count": null,
   "metadata": {},
   "outputs": [],
   "source": [
    "# evaluate the keras model\n",
    "_, accuracy = model.evaluate(X_features, y)\n",
    "print('Accuracy: %.2f' % (accuracy*100))"
   ]
  },
  {
   "cell_type": "code",
   "execution_count": null,
   "metadata": {},
   "outputs": [],
   "source": [
    "f_select =['TOTAL RAIDS', 'SUCCESS RAID %', 'NO. OF SUPER TACKLES',\n",
    "       'TOTAL DEFENCE POINTS', 'WIN%', 'DRAW%', 'LOSS%', 'WIN-LOSS%',\n",
    "       'EMPTY RAID%', 'AVG_RAID_TOUCH_POINT', 'AVG_RAID_BONUS_POINT',\n",
    "       'AVG_ALL_OUTS']\n",
    "f_select"
   ]
  },
  {
   "cell_type": "code",
   "execution_count": null,
   "metadata": {},
   "outputs": [],
   "source": [
    "#Using PCA to transform and decouple the dataset defined by the selected features\n",
    "from sklearn.decomposition import PCA\n",
    "pca = PCA()  \n",
    "XX = pca.fit_transform(X[f_select]) # XX is out new training matrix that has two basis vectors\n",
    "XX"
   ]
  },
  {
   "cell_type": "code",
   "execution_count": null,
   "metadata": {},
   "outputs": [],
   "source": [
    "#X_train, X_test, y_train, y_test = train_test_split(X, y, test_size = 0.3, random_state = 0)"
   ]
  },
  {
   "cell_type": "code",
   "execution_count": null,
   "metadata": {},
   "outputs": [],
   "source": [
    "df6"
   ]
  },
  {
   "cell_type": "code",
   "execution_count": 37,
   "metadata": {},
   "outputs": [],
   "source": [
    "X_train = X\n",
    "y_train =y \n",
    "X_test = df6.drop(['SEASON 6','SEASON 5','OVERALL'],axis=0)\n",
    "X_test = X_test.drop(['FINISHING POSITION'], axis=1)\n",
    "y_test = df6['FINISHING POSITION']\n",
    "y_test = y_test.drop(['SEASON 6','SEASON 5','OVERALL'],axis=0)"
   ]
  },
  {
   "cell_type": "code",
   "execution_count": 38,
   "metadata": {},
   "outputs": [
    {
     "data": {
      "text/html": [
       "<div>\n",
       "<style scoped>\n",
       "    .dataframe tbody tr th:only-of-type {\n",
       "        vertical-align: middle;\n",
       "    }\n",
       "\n",
       "    .dataframe tbody tr th {\n",
       "        vertical-align: top;\n",
       "    }\n",
       "\n",
       "    .dataframe thead th {\n",
       "        text-align: right;\n",
       "    }\n",
       "</style>\n",
       "<table border=\"1\" class=\"dataframe\">\n",
       "  <thead>\n",
       "    <tr style=\"text-align: right;\">\n",
       "      <th>SEASONS</th>\n",
       "      <th>TOTAL RAIDS</th>\n",
       "      <th>SUCCESS RAID %</th>\n",
       "      <th>SUCCESSFUL TACKLE %</th>\n",
       "      <th>NO. OF SUPER TACKLES</th>\n",
       "      <th>TOTAL DEFENCE POINTS</th>\n",
       "      <th>WIN%</th>\n",
       "      <th>DRAW%</th>\n",
       "      <th>LOSS%</th>\n",
       "      <th>WIN-LOSS%</th>\n",
       "      <th>UNSUCCESSFUL RAID%</th>\n",
       "      <th>EMPTY RAID%</th>\n",
       "      <th>AVG_RAID_TOUCH_POINT</th>\n",
       "      <th>AVG_RAID_BONUS_POINT</th>\n",
       "      <th>UNSUCCESSFUL TACKLE%</th>\n",
       "      <th>AVG_ALL_OUTS</th>\n",
       "    </tr>\n",
       "  </thead>\n",
       "  <tbody>\n",
       "    <tr>\n",
       "      <th>SEASON 7</th>\n",
       "      <td>750.0</td>\n",
       "      <td>0.42</td>\n",
       "      <td>0.39</td>\n",
       "      <td>13.0</td>\n",
       "      <td>155.0</td>\n",
       "      <td>0.166667</td>\n",
       "      <td>0.166667</td>\n",
       "      <td>0.666667</td>\n",
       "      <td>0.25</td>\n",
       "      <td>0.258667</td>\n",
       "      <td>0.410667</td>\n",
       "      <td>13.277778</td>\n",
       "      <td>4.111111</td>\n",
       "      <td>0.64</td>\n",
       "      <td>0.722222</td>\n",
       "    </tr>\n",
       "  </tbody>\n",
       "</table>\n",
       "</div>"
      ],
      "text/plain": [
       "SEASONS   TOTAL RAIDS  SUCCESS RAID %  SUCCESSFUL TACKLE %  \\\n",
       "SEASON 7        750.0            0.42                 0.39   \n",
       "\n",
       "SEASONS   NO. OF SUPER TACKLES  TOTAL DEFENCE POINTS      WIN%     DRAW%  \\\n",
       "SEASON 7                  13.0                 155.0  0.166667  0.166667   \n",
       "\n",
       "SEASONS      LOSS%  WIN-LOSS%  UNSUCCESSFUL RAID%  EMPTY RAID%  \\\n",
       "SEASON 7  0.666667       0.25            0.258667     0.410667   \n",
       "\n",
       "SEASONS   AVG_RAID_TOUCH_POINT  AVG_RAID_BONUS_POINT  UNSUCCESSFUL TACKLE%  \\\n",
       "SEASON 7             13.277778              4.111111                  0.64   \n",
       "\n",
       "SEASONS   AVG_ALL_OUTS  \n",
       "SEASON 7      0.722222  "
      ]
     },
     "execution_count": 38,
     "metadata": {},
     "output_type": "execute_result"
    }
   ],
   "source": [
    "X_test"
   ]
  },
  {
   "cell_type": "code",
   "execution_count": 39,
   "metadata": {},
   "outputs": [
    {
     "data": {
      "text/plain": [
       "SEASON 7    12.0\n",
       "Name: FINISHING POSITION, dtype: float64"
      ]
     },
     "execution_count": 39,
     "metadata": {},
     "output_type": "execute_result"
    }
   ],
   "source": [
    "y_test"
   ]
  },
  {
   "cell_type": "code",
   "execution_count": 40,
   "metadata": {},
   "outputs": [],
   "source": [
    "# machine learning\n",
    "from sklearn.svm import SVC\n",
    "from sklearn import preprocessing\n",
    "#import fancyimpute\n",
    "from sklearn.model_selection import train_test_split\n",
    "from sklearn.model_selection import RandomizedSearchCV\n",
    "from sklearn.metrics import classification_report\n",
    "from sklearn.model_selection import cross_val_score\n",
    "\n",
    "#  Metrics\n",
    "from sklearn.metrics import classification_report, accuracy_score, confusion_matrix\n",
    "from sklearn.model_selection import cross_val_score\n",
    "\n",
    "# Models\n",
    "import xgboost as xgb\n",
    "from sklearn.model_selection import train_test_split\n",
    "from sklearn.linear_model import LogisticRegression\n",
    "from sklearn.ensemble import RandomForestClassifier\n",
    "from sklearn.svm import SVC\n",
    "from sklearn.naive_bayes import GaussianNB\n",
    "from sklearn.ensemble import AdaBoostClassifier\n",
    "from sklearn.discriminant_analysis import LinearDiscriminantAnalysis\n",
    "from sklearn.neighbors import KNeighborsClassifier\n",
    "from xgboost import XGBClassifier"
   ]
  },
  {
   "cell_type": "code",
   "execution_count": 41,
   "metadata": {
    "scrolled": true
   },
   "outputs": [
    {
     "name": "stdout",
     "output_type": "stream",
     "text": [
      "[16:36:06] WARNING: C:/Jenkins/workspace/xgboost-win64_release_0.90/src/objective/regression_obj.cu:152: reg:linear is now deprecated in favor of reg:squarederror.\n",
      "[0]\tvalidation_0-rmse:4.20031\tvalidation_1-rmse:11.1333\n",
      "Multiple eval metrics have been passed: 'validation_1-rmse' will be used for early stopping.\n",
      "\n",
      "Will train until validation_1-rmse hasn't improved in 50 rounds.\n",
      "[1]\tvalidation_0-rmse:3.92059\tvalidation_1-rmse:10.7911\n",
      "[2]\tvalidation_0-rmse:3.65951\tvalidation_1-rmse:10.4717\n",
      "[3]\tvalidation_0-rmse:3.41582\tvalidation_1-rmse:10.1736\n",
      "[4]\tvalidation_0-rmse:3.18838\tvalidation_1-rmse:9.89535\n",
      "[5]\tvalidation_0-rmse:2.97608\tvalidation_1-rmse:9.63566\n",
      "[6]\tvalidation_0-rmse:2.77793\tvalidation_1-rmse:9.39328\n",
      "[7]\tvalidation_0-rmse:2.59298\tvalidation_1-rmse:9.16706\n",
      "[8]\tvalidation_0-rmse:2.42035\tvalidation_1-rmse:8.95593\n",
      "[9]\tvalidation_0-rmse:2.25922\tvalidation_1-rmse:8.75887\n",
      "[10]\tvalidation_0-rmse:2.10883\tvalidation_1-rmse:8.57494\n",
      "[11]\tvalidation_0-rmse:1.96846\tvalidation_1-rmse:8.40328\n",
      "[12]\tvalidation_0-rmse:1.83744\tvalidation_1-rmse:8.24306\n",
      "[13]\tvalidation_0-rmse:1.71514\tvalidation_1-rmse:8.09352\n",
      "[14]\tvalidation_0-rmse:1.60099\tvalidation_1-rmse:7.95395\n",
      "[15]\tvalidation_0-rmse:1.49445\tvalidation_1-rmse:7.82369\n",
      "[16]\tvalidation_0-rmse:1.395\tvalidation_1-rmse:7.70211\n",
      "[17]\tvalidation_0-rmse:1.30218\tvalidation_1-rmse:7.58864\n",
      "[18]\tvalidation_0-rmse:1.21553\tvalidation_1-rmse:7.48273\n",
      "[19]\tvalidation_0-rmse:1.13466\tvalidation_1-rmse:7.38388\n",
      "[20]\tvalidation_0-rmse:1.05918\tvalidation_1-rmse:7.29162\n",
      "[21]\tvalidation_0-rmse:0.988718\tvalidation_1-rmse:7.20551\n",
      "[22]\tvalidation_0-rmse:0.922952\tvalidation_1-rmse:7.12514\n",
      "[23]\tvalidation_0-rmse:0.861565\tvalidation_1-rmse:7.05014\n",
      "[24]\tvalidation_0-rmse:0.804266\tvalidation_1-rmse:6.98013\n",
      "[25]\tvalidation_0-rmse:0.750782\tvalidation_1-rmse:6.91478\n",
      "[26]\tvalidation_0-rmse:0.700859\tvalidation_1-rmse:6.8538\n",
      "[27]\tvalidation_0-rmse:0.654261\tvalidation_1-rmse:6.79688\n",
      "[28]\tvalidation_0-rmse:0.610764\tvalidation_1-rmse:6.74375\n",
      "[29]\tvalidation_0-rmse:0.570164\tvalidation_1-rmse:6.69417\n",
      "[30]\tvalidation_0-rmse:0.532266\tvalidation_1-rmse:6.64789\n",
      "[31]\tvalidation_0-rmse:0.496891\tvalidation_1-rmse:6.6047\n",
      "[32]\tvalidation_0-rmse:0.463871\tvalidation_1-rmse:6.56438\n",
      "[33]\tvalidation_0-rmse:0.433048\tvalidation_1-rmse:6.52676\n",
      "[34]\tvalidation_0-rmse:0.404277\tvalidation_1-rmse:6.49164\n",
      "[35]\tvalidation_0-rmse:0.377421\tvalidation_1-rmse:6.45887\n",
      "[36]\tvalidation_0-rmse:0.352352\tvalidation_1-rmse:6.42828\n",
      "[37]\tvalidation_0-rmse:0.328951\tvalidation_1-rmse:6.39972\n",
      "[38]\tvalidation_0-rmse:0.307108\tvalidation_1-rmse:6.37308\n",
      "[39]\tvalidation_0-rmse:0.286717\tvalidation_1-rmse:6.3482\n",
      "[40]\tvalidation_0-rmse:0.267684\tvalidation_1-rmse:6.32499\n",
      "[41]\tvalidation_0-rmse:0.249916\tvalidation_1-rmse:6.30332\n",
      "[42]\tvalidation_0-rmse:0.23333\tvalidation_1-rmse:6.2831\n",
      "[43]\tvalidation_0-rmse:0.217848\tvalidation_1-rmse:6.26423\n",
      "[44]\tvalidation_0-rmse:0.203395\tvalidation_1-rmse:6.24661\n",
      "[45]\tvalidation_0-rmse:0.189903\tvalidation_1-rmse:6.23017\n",
      "[46]\tvalidation_0-rmse:0.177309\tvalidation_1-rmse:6.21483\n",
      "[47]\tvalidation_0-rmse:0.165552\tvalidation_1-rmse:6.20051\n",
      "[48]\tvalidation_0-rmse:0.154577\tvalidation_1-rmse:6.18714\n",
      "[49]\tvalidation_0-rmse:0.144331\tvalidation_1-rmse:6.17466\n",
      "[50]\tvalidation_0-rmse:0.134766\tvalidation_1-rmse:6.16302\n",
      "[51]\tvalidation_0-rmse:0.125837\tvalidation_1-rmse:6.15215\n",
      "[52]\tvalidation_0-rmse:0.117502\tvalidation_1-rmse:6.14201\n",
      "[53]\tvalidation_0-rmse:0.109721\tvalidation_1-rmse:6.13254\n",
      "[54]\tvalidation_0-rmse:0.102456\tvalidation_1-rmse:6.1237\n",
      "[55]\tvalidation_0-rmse:0.095674\tvalidation_1-rmse:6.11546\n",
      "[56]\tvalidation_0-rmse:0.089343\tvalidation_1-rmse:6.10776\n",
      "[57]\tvalidation_0-rmse:0.083432\tvalidation_1-rmse:6.10058\n",
      "[58]\tvalidation_0-rmse:0.077913\tvalidation_1-rmse:6.09387\n",
      "[59]\tvalidation_0-rmse:0.072762\tvalidation_1-rmse:6.08761\n",
      "[60]\tvalidation_0-rmse:0.067952\tvalidation_1-rmse:6.08177\n",
      "[61]\tvalidation_0-rmse:0.063461\tvalidation_1-rmse:6.07632\n",
      "[62]\tvalidation_0-rmse:0.059269\tvalidation_1-rmse:6.07123\n",
      "[63]\tvalidation_0-rmse:0.055354\tvalidation_1-rmse:6.06648\n",
      "[64]\tvalidation_0-rmse:0.0517\tvalidation_1-rmse:6.06205\n",
      "[65]\tvalidation_0-rmse:0.048288\tvalidation_1-rmse:6.05792\n",
      "[66]\tvalidation_0-rmse:0.045102\tvalidation_1-rmse:6.05405\n",
      "[67]\tvalidation_0-rmse:0.042127\tvalidation_1-rmse:6.05045\n",
      "[68]\tvalidation_0-rmse:0.03935\tvalidation_1-rmse:6.04709\n",
      "[69]\tvalidation_0-rmse:0.036756\tvalidation_1-rmse:6.04395\n",
      "[70]\tvalidation_0-rmse:0.034335\tvalidation_1-rmse:6.04102\n",
      "[71]\tvalidation_0-rmse:0.032074\tvalidation_1-rmse:6.03828\n",
      "[72]\tvalidation_0-rmse:0.029963\tvalidation_1-rmse:6.03573\n"
     ]
    },
    {
     "name": "stderr",
     "output_type": "stream",
     "text": [
      "D:\\anaconda\\lib\\site-packages\\xgboost\\core.py:587: FutureWarning:\n",
      "\n",
      "Series.base is deprecated and will be removed in a future version\n",
      "\n"
     ]
    },
    {
     "name": "stdout",
     "output_type": "stream",
     "text": [
      "[73]\tvalidation_0-rmse:0.027992\tvalidation_1-rmse:6.03335\n",
      "[74]\tvalidation_0-rmse:0.026151\tvalidation_1-rmse:6.03113\n",
      "[75]\tvalidation_0-rmse:0.024431\tvalidation_1-rmse:6.02905\n",
      "[76]\tvalidation_0-rmse:0.022826\tvalidation_1-rmse:6.02711\n",
      "[77]\tvalidation_0-rmse:0.021327\tvalidation_1-rmse:6.02531\n",
      "[78]\tvalidation_0-rmse:0.019927\tvalidation_1-rmse:6.02362\n",
      "[79]\tvalidation_0-rmse:0.01862\tvalidation_1-rmse:6.02205\n",
      "[80]\tvalidation_0-rmse:0.017399\tvalidation_1-rmse:6.02058\n",
      "[81]\tvalidation_0-rmse:0.016259\tvalidation_1-rmse:6.0192\n",
      "[82]\tvalidation_0-rmse:0.015194\tvalidation_1-rmse:6.01792\n",
      "[83]\tvalidation_0-rmse:0.0142\tvalidation_1-rmse:6.01673\n",
      "[84]\tvalidation_0-rmse:0.013271\tvalidation_1-rmse:6.01561\n",
      "[85]\tvalidation_0-rmse:0.012403\tvalidation_1-rmse:6.01457\n",
      "[86]\tvalidation_0-rmse:0.011593\tvalidation_1-rmse:6.0136\n",
      "[87]\tvalidation_0-rmse:0.010836\tvalidation_1-rmse:6.01269\n",
      "[88]\tvalidation_0-rmse:0.010129\tvalidation_1-rmse:6.01185\n",
      "[89]\tvalidation_0-rmse:0.009469\tvalidation_1-rmse:6.01106\n",
      "[90]\tvalidation_0-rmse:0.008852\tvalidation_1-rmse:6.01032\n",
      "[91]\tvalidation_0-rmse:0.008276\tvalidation_1-rmse:6.00963\n",
      "[92]\tvalidation_0-rmse:0.007738\tvalidation_1-rmse:6.00899\n",
      "[93]\tvalidation_0-rmse:0.007235\tvalidation_1-rmse:6.00839\n",
      "[94]\tvalidation_0-rmse:0.006765\tvalidation_1-rmse:6.00783\n",
      "[95]\tvalidation_0-rmse:0.006326\tvalidation_1-rmse:6.00731\n",
      "[96]\tvalidation_0-rmse:0.005916\tvalidation_1-rmse:6.00682\n",
      "[97]\tvalidation_0-rmse:0.005533\tvalidation_1-rmse:6.00637\n",
      "[98]\tvalidation_0-rmse:0.005175\tvalidation_1-rmse:6.00594\n",
      "[99]\tvalidation_0-rmse:0.004841\tvalidation_1-rmse:6.00555\n",
      "[100]\tvalidation_0-rmse:0.004528\tvalidation_1-rmse:6.00518\n",
      "[101]\tvalidation_0-rmse:0.004236\tvalidation_1-rmse:6.00483\n",
      "[102]\tvalidation_0-rmse:0.003963\tvalidation_1-rmse:6.00451\n",
      "[103]\tvalidation_0-rmse:0.003708\tvalidation_1-rmse:6.00421\n",
      "[104]\tvalidation_0-rmse:0.00347\tvalidation_1-rmse:6.00393\n",
      "[105]\tvalidation_0-rmse:0.003247\tvalidation_1-rmse:6.00367\n",
      "[106]\tvalidation_0-rmse:0.003038\tvalidation_1-rmse:6.00342\n",
      "[107]\tvalidation_0-rmse:0.002844\tvalidation_1-rmse:6.00319\n",
      "[108]\tvalidation_0-rmse:0.002662\tvalidation_1-rmse:6.00298\n",
      "[109]\tvalidation_0-rmse:0.002492\tvalidation_1-rmse:6.00278\n",
      "[110]\tvalidation_0-rmse:0.002333\tvalidation_1-rmse:6.0026\n",
      "[111]\tvalidation_0-rmse:0.002184\tvalidation_1-rmse:6.00242\n",
      "[112]\tvalidation_0-rmse:0.002045\tvalidation_1-rmse:6.00226\n",
      "[113]\tvalidation_0-rmse:0.001915\tvalidation_1-rmse:6.00211\n",
      "[114]\tvalidation_0-rmse:0.001793\tvalidation_1-rmse:6.00197\n",
      "[115]\tvalidation_0-rmse:0.00168\tvalidation_1-rmse:6.00184\n",
      "[116]\tvalidation_0-rmse:0.001573\tvalidation_1-rmse:6.00172\n",
      "[117]\tvalidation_0-rmse:0.001474\tvalidation_1-rmse:6.0016\n",
      "[118]\tvalidation_0-rmse:0.001381\tvalidation_1-rmse:6.0015\n",
      "[119]\tvalidation_0-rmse:0.001294\tvalidation_1-rmse:6.0014\n",
      "[120]\tvalidation_0-rmse:0.001213\tvalidation_1-rmse:6.0013\n",
      "[121]\tvalidation_0-rmse:0.001136\tvalidation_1-rmse:6.00122\n",
      "[122]\tvalidation_0-rmse:0.001065\tvalidation_1-rmse:6.00113\n",
      "[123]\tvalidation_0-rmse:0.000998\tvalidation_1-rmse:6.00106\n",
      "[124]\tvalidation_0-rmse:0.000936\tvalidation_1-rmse:6.00099\n",
      "[125]\tvalidation_0-rmse:0.000878\tvalidation_1-rmse:6.00092\n",
      "[126]\tvalidation_0-rmse:0.000823\tvalidation_1-rmse:6.00086\n",
      "[127]\tvalidation_0-rmse:0.000772\tvalidation_1-rmse:6.0008\n",
      "[128]\tvalidation_0-rmse:0.000764\tvalidation_1-rmse:6.00078\n",
      "[129]\tvalidation_0-rmse:0.000756\tvalidation_1-rmse:6.00076\n",
      "[130]\tvalidation_0-rmse:0.00075\tvalidation_1-rmse:6.00074\n",
      "[131]\tvalidation_0-rmse:0.000744\tvalidation_1-rmse:6.00072\n",
      "[132]\tvalidation_0-rmse:0.00074\tvalidation_1-rmse:6.00071\n",
      "[133]\tvalidation_0-rmse:0.000736\tvalidation_1-rmse:6.00069\n",
      "[134]\tvalidation_0-rmse:0.000732\tvalidation_1-rmse:6.00068\n",
      "[135]\tvalidation_0-rmse:0.000729\tvalidation_1-rmse:6.00066\n",
      "[136]\tvalidation_0-rmse:0.000727\tvalidation_1-rmse:6.00065\n",
      "[137]\tvalidation_0-rmse:0.000724\tvalidation_1-rmse:6.00064\n",
      "[138]\tvalidation_0-rmse:0.000722\tvalidation_1-rmse:6.00063\n",
      "[139]\tvalidation_0-rmse:0.000721\tvalidation_1-rmse:6.00062\n",
      "[140]\tvalidation_0-rmse:0.000719\tvalidation_1-rmse:6.00061\n",
      "[141]\tvalidation_0-rmse:0.000718\tvalidation_1-rmse:6.0006\n",
      "[142]\tvalidation_0-rmse:0.000717\tvalidation_1-rmse:6.0006\n",
      "[143]\tvalidation_0-rmse:0.000716\tvalidation_1-rmse:6.00059\n",
      "[144]\tvalidation_0-rmse:0.000715\tvalidation_1-rmse:6.00058\n",
      "[145]\tvalidation_0-rmse:0.000714\tvalidation_1-rmse:6.00058\n",
      "[146]\tvalidation_0-rmse:0.000714\tvalidation_1-rmse:6.00057\n",
      "[147]\tvalidation_0-rmse:0.000713\tvalidation_1-rmse:6.00056\n",
      "[148]\tvalidation_0-rmse:0.000713\tvalidation_1-rmse:6.00056\n",
      "[149]\tvalidation_0-rmse:0.000712\tvalidation_1-rmse:6.00056\n",
      "[150]\tvalidation_0-rmse:0.000712\tvalidation_1-rmse:6.00055\n",
      "[151]\tvalidation_0-rmse:0.000712\tvalidation_1-rmse:6.00055\n",
      "[152]\tvalidation_0-rmse:0.000712\tvalidation_1-rmse:6.00054\n",
      "[153]\tvalidation_0-rmse:0.000711\tvalidation_1-rmse:6.00054\n",
      "[154]\tvalidation_0-rmse:0.000711\tvalidation_1-rmse:6.00054\n",
      "[155]\tvalidation_0-rmse:0.000711\tvalidation_1-rmse:6.00054\n",
      "[156]\tvalidation_0-rmse:0.000711\tvalidation_1-rmse:6.00053\n",
      "[157]\tvalidation_0-rmse:0.000711\tvalidation_1-rmse:6.00053\n",
      "[158]\tvalidation_0-rmse:0.000711\tvalidation_1-rmse:6.00053\n",
      "[159]\tvalidation_0-rmse:0.000711\tvalidation_1-rmse:6.00053\n",
      "[160]\tvalidation_0-rmse:0.000711\tvalidation_1-rmse:6.00052\n",
      "[161]\tvalidation_0-rmse:0.000711\tvalidation_1-rmse:6.00052\n",
      "[162]\tvalidation_0-rmse:0.000711\tvalidation_1-rmse:6.00052\n",
      "[163]\tvalidation_0-rmse:0.000711\tvalidation_1-rmse:6.00052\n",
      "[164]\tvalidation_0-rmse:0.00071\tvalidation_1-rmse:6.00052\n",
      "[165]\tvalidation_0-rmse:0.00071\tvalidation_1-rmse:6.00052\n",
      "[166]\tvalidation_0-rmse:0.00071\tvalidation_1-rmse:6.00052\n",
      "[167]\tvalidation_0-rmse:0.00071\tvalidation_1-rmse:6.00052\n",
      "[168]\tvalidation_0-rmse:0.00071\tvalidation_1-rmse:6.00052\n",
      "[169]\tvalidation_0-rmse:0.00071\tvalidation_1-rmse:6.00051\n",
      "[170]\tvalidation_0-rmse:0.00071\tvalidation_1-rmse:6.00051\n",
      "[171]\tvalidation_0-rmse:0.00071\tvalidation_1-rmse:6.00051\n",
      "[172]\tvalidation_0-rmse:0.00071\tvalidation_1-rmse:6.00051\n",
      "[173]\tvalidation_0-rmse:0.00071\tvalidation_1-rmse:6.00051\n",
      "[174]\tvalidation_0-rmse:0.000711\tvalidation_1-rmse:6.00051\n",
      "[175]\tvalidation_0-rmse:0.000711\tvalidation_1-rmse:6.00051\n",
      "[176]\tvalidation_0-rmse:0.000711\tvalidation_1-rmse:6.00051\n",
      "[177]\tvalidation_0-rmse:0.000711\tvalidation_1-rmse:6.00051\n",
      "[178]\tvalidation_0-rmse:0.000711\tvalidation_1-rmse:6.00051\n",
      "[179]\tvalidation_0-rmse:0.000711\tvalidation_1-rmse:6.00051\n",
      "[180]\tvalidation_0-rmse:0.000711\tvalidation_1-rmse:6.00051\n",
      "[181]\tvalidation_0-rmse:0.00071\tvalidation_1-rmse:6.00051\n",
      "[182]\tvalidation_0-rmse:0.00071\tvalidation_1-rmse:6.00051\n",
      "[183]\tvalidation_0-rmse:0.00071\tvalidation_1-rmse:6.00051\n",
      "[184]\tvalidation_0-rmse:0.00071\tvalidation_1-rmse:6.00051\n",
      "[185]\tvalidation_0-rmse:0.00071\tvalidation_1-rmse:6.00051\n",
      "[186]\tvalidation_0-rmse:0.00071\tvalidation_1-rmse:6.00051\n",
      "[187]\tvalidation_0-rmse:0.00071\tvalidation_1-rmse:6.00051\n",
      "[188]\tvalidation_0-rmse:0.00071\tvalidation_1-rmse:6.00051\n",
      "[189]\tvalidation_0-rmse:0.000711\tvalidation_1-rmse:6.00051\n",
      "[190]\tvalidation_0-rmse:0.000711\tvalidation_1-rmse:6.00051\n",
      "[191]\tvalidation_0-rmse:0.000711\tvalidation_1-rmse:6.00051\n",
      "[192]\tvalidation_0-rmse:0.000711\tvalidation_1-rmse:6.00051\n",
      "[193]\tvalidation_0-rmse:0.000711\tvalidation_1-rmse:6.00051\n",
      "[194]\tvalidation_0-rmse:0.000711\tvalidation_1-rmse:6.00051\n",
      "[195]\tvalidation_0-rmse:0.000711\tvalidation_1-rmse:6.00051\n",
      "[196]\tvalidation_0-rmse:0.000711\tvalidation_1-rmse:6.00051\n",
      "[197]\tvalidation_0-rmse:0.000711\tvalidation_1-rmse:6.00051\n",
      "[198]\tvalidation_0-rmse:0.000711\tvalidation_1-rmse:6.00051\n",
      "[199]\tvalidation_0-rmse:0.000711\tvalidation_1-rmse:6.00051\n",
      "[200]\tvalidation_0-rmse:0.000711\tvalidation_1-rmse:6.00051\n",
      "[201]\tvalidation_0-rmse:0.000711\tvalidation_1-rmse:6.00051\n",
      "[202]\tvalidation_0-rmse:0.000712\tvalidation_1-rmse:6.00051\n",
      "[203]\tvalidation_0-rmse:0.000712\tvalidation_1-rmse:6.00051\n",
      "[204]\tvalidation_0-rmse:0.000712\tvalidation_1-rmse:6.00051\n",
      "[205]\tvalidation_0-rmse:0.000712\tvalidation_1-rmse:6.00051\n",
      "[206]\tvalidation_0-rmse:0.000712\tvalidation_1-rmse:6.00051\n",
      "[207]\tvalidation_0-rmse:0.000712\tvalidation_1-rmse:6.00051\n",
      "[208]\tvalidation_0-rmse:0.000712\tvalidation_1-rmse:6.00051\n",
      "[209]\tvalidation_0-rmse:0.000712\tvalidation_1-rmse:6.00051\n",
      "[210]\tvalidation_0-rmse:0.000712\tvalidation_1-rmse:6.00051\n",
      "[211]\tvalidation_0-rmse:0.000712\tvalidation_1-rmse:6.00051\n",
      "[212]\tvalidation_0-rmse:0.000712\tvalidation_1-rmse:6.00051\n"
     ]
    },
    {
     "name": "stdout",
     "output_type": "stream",
     "text": [
      "[213]\tvalidation_0-rmse:0.000712\tvalidation_1-rmse:6.00051\n",
      "[214]\tvalidation_0-rmse:0.000712\tvalidation_1-rmse:6.00051\n",
      "[215]\tvalidation_0-rmse:0.000712\tvalidation_1-rmse:6.00051\n",
      "[216]\tvalidation_0-rmse:0.000712\tvalidation_1-rmse:6.00051\n",
      "[217]\tvalidation_0-rmse:0.000712\tvalidation_1-rmse:6.00051\n",
      "[218]\tvalidation_0-rmse:0.000712\tvalidation_1-rmse:6.00051\n",
      "[219]\tvalidation_0-rmse:0.000712\tvalidation_1-rmse:6.00051\n",
      "[220]\tvalidation_0-rmse:0.000712\tvalidation_1-rmse:6.00051\n",
      "[221]\tvalidation_0-rmse:0.000713\tvalidation_1-rmse:6.00051\n",
      "[222]\tvalidation_0-rmse:0.000713\tvalidation_1-rmse:6.00051\n",
      "[223]\tvalidation_0-rmse:0.000713\tvalidation_1-rmse:6.00051\n",
      "[224]\tvalidation_0-rmse:0.000713\tvalidation_1-rmse:6.00051\n",
      "[225]\tvalidation_0-rmse:0.000713\tvalidation_1-rmse:6.00051\n",
      "[226]\tvalidation_0-rmse:0.000713\tvalidation_1-rmse:6.00051\n",
      "[227]\tvalidation_0-rmse:0.000713\tvalidation_1-rmse:6.00051\n",
      "[228]\tvalidation_0-rmse:0.000713\tvalidation_1-rmse:6.00051\n",
      "[229]\tvalidation_0-rmse:0.000713\tvalidation_1-rmse:6.00051\n",
      "[230]\tvalidation_0-rmse:0.000713\tvalidation_1-rmse:6.00051\n",
      "[231]\tvalidation_0-rmse:0.000713\tvalidation_1-rmse:6.00051\n",
      "[232]\tvalidation_0-rmse:0.000713\tvalidation_1-rmse:6.00051\n",
      "[233]\tvalidation_0-rmse:0.000713\tvalidation_1-rmse:6.00051\n",
      "[234]\tvalidation_0-rmse:0.000713\tvalidation_1-rmse:6.00051\n",
      "Stopping. Best iteration:\n",
      "[184]\tvalidation_0-rmse:0.00071\tvalidation_1-rmse:6.00051\n",
      "\n"
     ]
    },
    {
     "data": {
      "text/plain": [
       "XGBRegressor(base_score=0.5, booster='gbtree', colsample_bylevel=1,\n",
       "             colsample_bynode=1, colsample_bytree=1, gamma=0,\n",
       "             importance_type='gain', learning_rate=0.1, max_delta_step=0,\n",
       "             max_depth=3, min_child_weight=1, missing=None, n_estimators=1000,\n",
       "             n_jobs=1, nthread=None, objective='reg:linear', random_state=0,\n",
       "             reg_alpha=0, reg_lambda=1, scale_pos_weight=1, seed=None,\n",
       "             silent=None, subsample=1, verbosity=1)"
      ]
     },
     "execution_count": 41,
     "metadata": {},
     "output_type": "execute_result"
    }
   ],
   "source": [
    "reg = xgb.XGBRegressor(n_estimators=1000)\n",
    "reg.fit(X_train, y_train,\n",
    "        eval_set=[(X_train, y_train), (X_test, y_test)],\n",
    "        early_stopping_rounds=50,\n",
    "       verbose=True) # Change verbose to True if you want to see it train"
   ]
  },
  {
   "cell_type": "code",
   "execution_count": 42,
   "metadata": {},
   "outputs": [],
   "source": [
    "pred  = pd.DataFrame()\n",
    "pred['MW_Prediction'] = reg.predict(X_test)\n"
   ]
  },
  {
   "cell_type": "code",
   "execution_count": 43,
   "metadata": {},
   "outputs": [
    {
     "data": {
      "text/plain": [
       "0    5.999495\n",
       "Name: MW_Prediction, dtype: float32"
      ]
     },
     "execution_count": 43,
     "metadata": {},
     "output_type": "execute_result"
    }
   ],
   "source": [
    "pred['MW_Prediction']"
   ]
  },
  {
   "cell_type": "code",
   "execution_count": 44,
   "metadata": {},
   "outputs": [
    {
     "data": {
      "text/plain": [
       "[6.0]"
      ]
     },
     "execution_count": 44,
     "metadata": {},
     "output_type": "execute_result"
    }
   ],
   "source": [
    "predict = reg.predict(X_test)\n",
    "predictions = [round(value) for value in predict]\n",
    "predictions"
   ]
  },
  {
   "cell_type": "markdown",
   "metadata": {},
   "source": [
    "## Finding the win-loss% of a team for Season 7\n"
   ]
  },
  {
   "cell_type": "code",
   "execution_count": 45,
   "metadata": {},
   "outputs": [
    {
     "data": {
      "text/plain": [
       "0.25"
      ]
     },
     "execution_count": 45,
     "metadata": {},
     "output_type": "execute_result"
    }
   ],
   "source": [
    "df6.loc['SEASON 7','WIN-LOSS%']"
   ]
  },
  {
   "cell_type": "markdown",
   "metadata": {},
   "source": [
    "## Finding the successful Raid %(successful raid/ total raid) for season 7"
   ]
  },
  {
   "cell_type": "code",
   "execution_count": 46,
   "metadata": {},
   "outputs": [
    {
     "data": {
      "text/plain": [
       "0.33066666666666666"
      ]
     },
     "execution_count": 46,
     "metadata": {},
     "output_type": "execute_result"
    }
   ],
   "source": [
    "SUCC_RAID =df2.loc['SEASON 7','SUCCESSFUL RAIDS']\n",
    "TOT_RAID = df2.loc['SEASON 7','TOTAL RAIDS']\n",
    "\n",
    "SUCC_RAID_PERC = SUCC_RAID/TOT_RAID\n",
    "SUCC_RAID_PERC"
   ]
  },
  {
   "cell_type": "markdown",
   "metadata": {},
   "source": [
    "## Finding the OVERALL successful Raid %(successful raid/ total raid) of a team"
   ]
  },
  {
   "cell_type": "code",
   "execution_count": 47,
   "metadata": {},
   "outputs": [
    {
     "data": {
      "text/plain": [
       "0.3496477567667779"
      ]
     },
     "execution_count": 47,
     "metadata": {},
     "output_type": "execute_result"
    }
   ],
   "source": [
    "SUCC_RAID_OV =df2.loc['OVERALL','SUCCESSFUL RAIDS']\n",
    "TOT_RAID_OV = df2.loc['OVERALL','TOTAL RAIDS']\n",
    "\n",
    "SUCC_RAID_PERC_OV = SUCC_RAID_OV/TOT_RAID_OV\n",
    "SUCC_RAID_PERC_OV"
   ]
  },
  {
   "cell_type": "markdown",
   "metadata": {},
   "source": [
    "## Finding the Super-performance total of the team"
   ]
  },
  {
   "cell_type": "code",
   "execution_count": 48,
   "metadata": {},
   "outputs": [
    {
     "data": {
      "text/plain": [
       "10.0"
      ]
     },
     "execution_count": 48,
     "metadata": {},
     "output_type": "execute_result"
    }
   ],
   "source": [
    "SUPER_RAIDS = df2.loc['SEASON 7','NO. OF SUPER RAIDS']\n",
    "SUPER_TACKLES = df2.loc['SEASON 7','NO. OF SUPER TACKLES']\n",
    "All_OUTS_INFLICTED = df2.loc['SEASON 7','ALL OUTS INFLICTED']\n",
    "All_OUTS_CONCEDED = 20\n",
    "\n",
    "SPT = SUPER_RAIDS+SUPER_TACKLES+All_OUTS_INFLICTED-All_OUTS_CONCEDED\n",
    "SPT"
   ]
  },
  {
   "cell_type": "code",
   "execution_count": null,
   "metadata": {},
   "outputs": [],
   "source": []
  }
 ],
 "metadata": {
  "kernelspec": {
   "display_name": "Python 3",
   "language": "python",
   "name": "python3"
  },
  "language_info": {
   "codemirror_mode": {
    "name": "ipython",
    "version": 3
   },
   "file_extension": ".py",
   "mimetype": "text/x-python",
   "name": "python",
   "nbconvert_exporter": "python",
   "pygments_lexer": "ipython3",
   "version": "3.6.9"
  }
 },
 "nbformat": 4,
 "nbformat_minor": 2
}
