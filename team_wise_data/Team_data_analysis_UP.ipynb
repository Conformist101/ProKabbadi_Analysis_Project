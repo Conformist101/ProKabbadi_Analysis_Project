{
 "cells": [
  {
   "cell_type": "code",
   "execution_count": 1,
   "metadata": {},
   "outputs": [
    {
     "data": {
      "text/html": [
       "        <script type=\"text/javascript\">\n",
       "        window.PlotlyConfig = {MathJaxConfig: 'local'};\n",
       "        if (window.MathJax) {MathJax.Hub.Config({SVG: {font: \"STIX-Web\"}});}\n",
       "        if (typeof require !== 'undefined') {\n",
       "        require.undef(\"plotly\");\n",
       "        requirejs.config({\n",
       "            paths: {\n",
       "                'plotly': ['https://cdn.plot.ly/plotly-latest.min']\n",
       "            }\n",
       "        });\n",
       "        require(['plotly'], function(Plotly) {\n",
       "            window._Plotly = Plotly;\n",
       "        });\n",
       "        }\n",
       "        </script>\n",
       "        "
      ]
     },
     "metadata": {},
     "output_type": "display_data"
    },
    {
     "data": {
      "text/html": [
       "        <script type=\"text/javascript\">\n",
       "        window.PlotlyConfig = {MathJaxConfig: 'local'};\n",
       "        if (window.MathJax) {MathJax.Hub.Config({SVG: {font: \"STIX-Web\"}});}\n",
       "        if (typeof require !== 'undefined') {\n",
       "        require.undef(\"plotly\");\n",
       "        requirejs.config({\n",
       "            paths: {\n",
       "                'plotly': ['https://cdn.plot.ly/plotly-latest.min']\n",
       "            }\n",
       "        });\n",
       "        require(['plotly'], function(Plotly) {\n",
       "            window._Plotly = Plotly;\n",
       "        });\n",
       "        }\n",
       "        </script>\n",
       "        "
      ]
     },
     "metadata": {},
     "output_type": "display_data"
    }
   ],
   "source": [
    "import pandas as pd\n",
    "from pandas import ExcelWriter\n",
    "from pandas import ExcelFile\n",
    "import numpy as np\n",
    "import pandas_profiling\n",
    "import cufflinks as cf\n",
    "cf.set_config_file(offline=True)\n",
    "from sklearn.model_selection import train_test_split\n",
    "from sklearn.linear_model import LinearRegression\n",
    "from sklearn.feature_selection import RFE\n",
    "from sklearn.linear_model import RidgeCV, LassoCV, Ridge, Lasso"
   ]
  },
  {
   "cell_type": "code",
   "execution_count": 2,
   "metadata": {},
   "outputs": [],
   "source": [
    "df = pd.read_csv('up-yoddha.csv',index_col=0)"
   ]
  },
  {
   "cell_type": "code",
   "execution_count": 3,
   "metadata": {},
   "outputs": [
    {
     "data": {
      "text/html": [
       "<div>\n",
       "<style scoped>\n",
       "    .dataframe tbody tr th:only-of-type {\n",
       "        vertical-align: middle;\n",
       "    }\n",
       "\n",
       "    .dataframe tbody tr th {\n",
       "        vertical-align: top;\n",
       "    }\n",
       "\n",
       "    .dataframe thead th {\n",
       "        text-align: right;\n",
       "    }\n",
       "</style>\n",
       "<table border=\"1\" class=\"dataframe\">\n",
       "  <thead>\n",
       "    <tr style=\"text-align: right;\">\n",
       "      <th></th>\n",
       "      <th>OVERALL</th>\n",
       "      <th>SEASON 7</th>\n",
       "      <th>SEASON 6</th>\n",
       "      <th>SEASON 5</th>\n",
       "      <th>Team-name</th>\n",
       "    </tr>\n",
       "    <tr>\n",
       "      <th>SEASONS</th>\n",
       "      <th></th>\n",
       "      <th></th>\n",
       "      <th></th>\n",
       "      <th></th>\n",
       "      <th></th>\n",
       "    </tr>\n",
       "  </thead>\n",
       "  <tbody>\n",
       "    <tr>\n",
       "      <th>MATCHES PLAYED</th>\n",
       "      <td>65.0</td>\n",
       "      <td>17.0</td>\n",
       "      <td>25.0</td>\n",
       "      <td>23.0</td>\n",
       "      <td>up-yoddha</td>\n",
       "    </tr>\n",
       "    <tr>\n",
       "      <th>WINS</th>\n",
       "      <td>27.0</td>\n",
       "      <td>9.0</td>\n",
       "      <td>10.0</td>\n",
       "      <td>8.0</td>\n",
       "      <td>up-yoddha</td>\n",
       "    </tr>\n",
       "    <tr>\n",
       "      <th>DRAWS</th>\n",
       "      <td>10.0</td>\n",
       "      <td>2.0</td>\n",
       "      <td>4.0</td>\n",
       "      <td>4.0</td>\n",
       "      <td>up-yoddha</td>\n",
       "    </tr>\n",
       "    <tr>\n",
       "      <th>LOSSES</th>\n",
       "      <td>28.0</td>\n",
       "      <td>6.0</td>\n",
       "      <td>11.0</td>\n",
       "      <td>11.0</td>\n",
       "      <td>up-yoddha</td>\n",
       "    </tr>\n",
       "    <tr>\n",
       "      <th>FINISHING POSITION</th>\n",
       "      <td>0.0</td>\n",
       "      <td>4.0</td>\n",
       "      <td>3.0</td>\n",
       "      <td>3.0</td>\n",
       "      <td>up-yoddha</td>\n",
       "    </tr>\n",
       "  </tbody>\n",
       "</table>\n",
       "</div>"
      ],
      "text/plain": [
       "                    OVERALL  SEASON 7  SEASON 6  SEASON 5  Team-name\n",
       "SEASONS                                                             \n",
       "MATCHES PLAYED         65.0      17.0      25.0      23.0  up-yoddha\n",
       "WINS                   27.0       9.0      10.0       8.0  up-yoddha\n",
       "DRAWS                  10.0       2.0       4.0       4.0  up-yoddha\n",
       "LOSSES                 28.0       6.0      11.0      11.0  up-yoddha\n",
       "FINISHING POSITION      0.0       4.0       3.0       3.0  up-yoddha"
      ]
     },
     "execution_count": 3,
     "metadata": {},
     "output_type": "execute_result"
    }
   ],
   "source": [
    "df.head()"
   ]
  },
  {
   "cell_type": "code",
   "execution_count": 4,
   "metadata": {},
   "outputs": [],
   "source": [
    "df1 = df.transpose()"
   ]
  },
  {
   "cell_type": "code",
   "execution_count": 5,
   "metadata": {},
   "outputs": [],
   "source": [
    "df2 = df1.apply(pd.to_numeric, errors='coerce')"
   ]
  },
  {
   "cell_type": "code",
   "execution_count": 6,
   "metadata": {
    "scrolled": false
   },
   "outputs": [
    {
     "data": {
      "text/html": [
       "<div>\n",
       "<style scoped>\n",
       "    .dataframe tbody tr th:only-of-type {\n",
       "        vertical-align: middle;\n",
       "    }\n",
       "\n",
       "    .dataframe tbody tr th {\n",
       "        vertical-align: top;\n",
       "    }\n",
       "\n",
       "    .dataframe thead th {\n",
       "        text-align: right;\n",
       "    }\n",
       "</style>\n",
       "<table border=\"1\" class=\"dataframe\">\n",
       "  <thead>\n",
       "    <tr style=\"text-align: right;\">\n",
       "      <th>SEASONS</th>\n",
       "      <th>MATCHES PLAYED</th>\n",
       "      <th>WINS</th>\n",
       "      <th>DRAWS</th>\n",
       "      <th>LOSSES</th>\n",
       "      <th>FINISHING POSITION</th>\n",
       "      <th>TOTAL RAIDS</th>\n",
       "      <th>SUCCESSFUL RAIDS</th>\n",
       "      <th>UNSUCCESSFUL RAID</th>\n",
       "      <th>EMPTY RAIDS</th>\n",
       "      <th>SUCCESS RAID %</th>\n",
       "      <th>...</th>\n",
       "      <th>RAID BONUS POINTS</th>\n",
       "      <th>TOTAL RAID POINTS</th>\n",
       "      <th>TOTAL TACKLES</th>\n",
       "      <th>SUCCESSFUL TACKLES</th>\n",
       "      <th>UNSUCCESFUL TACKLES</th>\n",
       "      <th>SUCCESSFUL TACKLE %</th>\n",
       "      <th>NO. OF SUPER TACKLES</th>\n",
       "      <th>ALL OUTS INFLICTED</th>\n",
       "      <th>TOTAL ALL OUT POINTS</th>\n",
       "      <th>TOTAL DEFENCE POINTS</th>\n",
       "    </tr>\n",
       "  </thead>\n",
       "  <tbody>\n",
       "    <tr>\n",
       "      <th>OVERALL</th>\n",
       "      <td>65.0</td>\n",
       "      <td>27.0</td>\n",
       "      <td>10.0</td>\n",
       "      <td>28.0</td>\n",
       "      <td>0.0</td>\n",
       "      <td>2781.0</td>\n",
       "      <td>923.0</td>\n",
       "      <td>648.0</td>\n",
       "      <td>1210.0</td>\n",
       "      <td>0.42</td>\n",
       "      <td>...</td>\n",
       "      <td>308.0</td>\n",
       "      <td>1179.0</td>\n",
       "      <td>1534.0</td>\n",
       "      <td>590.0</td>\n",
       "      <td>944.0</td>\n",
       "      <td>0.42</td>\n",
       "      <td>60.0</td>\n",
       "      <td>69.0</td>\n",
       "      <td>138.0</td>\n",
       "      <td>646.0</td>\n",
       "    </tr>\n",
       "    <tr>\n",
       "      <th>SEASON 7</th>\n",
       "      <td>17.0</td>\n",
       "      <td>9.0</td>\n",
       "      <td>2.0</td>\n",
       "      <td>6.0</td>\n",
       "      <td>4.0</td>\n",
       "      <td>711.0</td>\n",
       "      <td>208.0</td>\n",
       "      <td>172.0</td>\n",
       "      <td>331.0</td>\n",
       "      <td>0.38</td>\n",
       "      <td>...</td>\n",
       "      <td>63.0</td>\n",
       "      <td>269.0</td>\n",
       "      <td>389.0</td>\n",
       "      <td>167.0</td>\n",
       "      <td>222.0</td>\n",
       "      <td>0.46</td>\n",
       "      <td>14.0</td>\n",
       "      <td>20.0</td>\n",
       "      <td>40.0</td>\n",
       "      <td>180.0</td>\n",
       "    </tr>\n",
       "    <tr>\n",
       "      <th>SEASON 6</th>\n",
       "      <td>25.0</td>\n",
       "      <td>10.0</td>\n",
       "      <td>4.0</td>\n",
       "      <td>11.0</td>\n",
       "      <td>3.0</td>\n",
       "      <td>1068.0</td>\n",
       "      <td>357.0</td>\n",
       "      <td>255.0</td>\n",
       "      <td>456.0</td>\n",
       "      <td>0.42</td>\n",
       "      <td>...</td>\n",
       "      <td>131.0</td>\n",
       "      <td>449.0</td>\n",
       "      <td>594.0</td>\n",
       "      <td>240.0</td>\n",
       "      <td>354.0</td>\n",
       "      <td>0.45</td>\n",
       "      <td>27.0</td>\n",
       "      <td>26.0</td>\n",
       "      <td>52.0</td>\n",
       "      <td>265.0</td>\n",
       "    </tr>\n",
       "    <tr>\n",
       "      <th>SEASON 5</th>\n",
       "      <td>23.0</td>\n",
       "      <td>8.0</td>\n",
       "      <td>4.0</td>\n",
       "      <td>11.0</td>\n",
       "      <td>3.0</td>\n",
       "      <td>1002.0</td>\n",
       "      <td>358.0</td>\n",
       "      <td>221.0</td>\n",
       "      <td>423.0</td>\n",
       "      <td>0.46</td>\n",
       "      <td>...</td>\n",
       "      <td>114.0</td>\n",
       "      <td>461.0</td>\n",
       "      <td>551.0</td>\n",
       "      <td>183.0</td>\n",
       "      <td>368.0</td>\n",
       "      <td>0.36</td>\n",
       "      <td>19.0</td>\n",
       "      <td>23.0</td>\n",
       "      <td>46.0</td>\n",
       "      <td>201.0</td>\n",
       "    </tr>\n",
       "    <tr>\n",
       "      <th>Team-name</th>\n",
       "      <td>NaN</td>\n",
       "      <td>NaN</td>\n",
       "      <td>NaN</td>\n",
       "      <td>NaN</td>\n",
       "      <td>NaN</td>\n",
       "      <td>NaN</td>\n",
       "      <td>NaN</td>\n",
       "      <td>NaN</td>\n",
       "      <td>NaN</td>\n",
       "      <td>NaN</td>\n",
       "      <td>...</td>\n",
       "      <td>NaN</td>\n",
       "      <td>NaN</td>\n",
       "      <td>NaN</td>\n",
       "      <td>NaN</td>\n",
       "      <td>NaN</td>\n",
       "      <td>NaN</td>\n",
       "      <td>NaN</td>\n",
       "      <td>NaN</td>\n",
       "      <td>NaN</td>\n",
       "      <td>NaN</td>\n",
       "    </tr>\n",
       "  </tbody>\n",
       "</table>\n",
       "<p>5 rows × 22 columns</p>\n",
       "</div>"
      ],
      "text/plain": [
       "SEASONS    MATCHES PLAYED  WINS  DRAWS  LOSSES  FINISHING POSITION  \\\n",
       "OVERALL              65.0  27.0   10.0    28.0                 0.0   \n",
       "SEASON 7             17.0   9.0    2.0     6.0                 4.0   \n",
       "SEASON 6             25.0  10.0    4.0    11.0                 3.0   \n",
       "SEASON 5             23.0   8.0    4.0    11.0                 3.0   \n",
       "Team-name             NaN   NaN    NaN     NaN                 NaN   \n",
       "\n",
       "SEASONS    TOTAL RAIDS  SUCCESSFUL RAIDS  UNSUCCESSFUL RAID  EMPTY RAIDS  \\\n",
       "OVERALL         2781.0             923.0              648.0       1210.0   \n",
       "SEASON 7         711.0             208.0              172.0        331.0   \n",
       "SEASON 6        1068.0             357.0              255.0        456.0   \n",
       "SEASON 5        1002.0             358.0              221.0        423.0   \n",
       "Team-name          NaN               NaN                NaN          NaN   \n",
       "\n",
       "SEASONS    SUCCESS RAID %          ...           RAID BONUS POINTS  \\\n",
       "OVERALL              0.42          ...                       308.0   \n",
       "SEASON 7             0.38          ...                        63.0   \n",
       "SEASON 6             0.42          ...                       131.0   \n",
       "SEASON 5             0.46          ...                       114.0   \n",
       "Team-name             NaN          ...                         NaN   \n",
       "\n",
       "SEASONS    TOTAL RAID POINTS  TOTAL TACKLES  SUCCESSFUL TACKLES  \\\n",
       "OVERALL               1179.0         1534.0               590.0   \n",
       "SEASON 7               269.0          389.0               167.0   \n",
       "SEASON 6               449.0          594.0               240.0   \n",
       "SEASON 5               461.0          551.0               183.0   \n",
       "Team-name                NaN            NaN                 NaN   \n",
       "\n",
       "SEASONS    UNSUCCESFUL TACKLES  SUCCESSFUL TACKLE %  NO. OF SUPER TACKLES  \\\n",
       "OVERALL                  944.0                 0.42                  60.0   \n",
       "SEASON 7                 222.0                 0.46                  14.0   \n",
       "SEASON 6                 354.0                 0.45                  27.0   \n",
       "SEASON 5                 368.0                 0.36                  19.0   \n",
       "Team-name                  NaN                  NaN                   NaN   \n",
       "\n",
       "SEASONS    ALL OUTS INFLICTED  TOTAL ALL OUT POINTS  TOTAL DEFENCE POINTS  \n",
       "OVERALL                  69.0                 138.0                 646.0  \n",
       "SEASON 7                 20.0                  40.0                 180.0  \n",
       "SEASON 6                 26.0                  52.0                 265.0  \n",
       "SEASON 5                 23.0                  46.0                 201.0  \n",
       "Team-name                 NaN                   NaN                   NaN  \n",
       "\n",
       "[5 rows x 22 columns]"
      ]
     },
     "execution_count": 6,
     "metadata": {},
     "output_type": "execute_result"
    }
   ],
   "source": [
    "df2"
   ]
  },
  {
   "cell_type": "code",
   "execution_count": 8,
   "metadata": {
    "scrolled": true
   },
   "outputs": [],
   "source": [
    "df2['WIN%'] = df2['WINS']/df2['MATCHES PLAYED']\n",
    "df2['DRAW%'] = df2['DRAWS']/df2['MATCHES PLAYED']\n",
    "df2['LOSS%'] = df2['LOSSES']/df2['MATCHES PLAYED']\n",
    "df2['WIN-LOSS%'] = df2['WINS']/df2['LOSSES']\n"
   ]
  },
  {
   "cell_type": "code",
   "execution_count": 9,
   "metadata": {},
   "outputs": [
    {
     "data": {
      "text/plain": [
       "SEASONS\n",
       "MATCHES PLAYED          float64\n",
       "WINS                    float64\n",
       "DRAWS                   float64\n",
       "LOSSES                  float64\n",
       "FINISHING POSITION      float64\n",
       "TOTAL RAIDS             float64\n",
       "SUCCESSFUL RAIDS        float64\n",
       "UNSUCCESSFUL RAID       float64\n",
       "EMPTY RAIDS             float64\n",
       "SUCCESS RAID %          float64\n",
       "NO. OF SUPER RAIDS      float64\n",
       "RAID TOUCH POINTS       float64\n",
       "RAID BONUS POINTS       float64\n",
       "TOTAL RAID POINTS       float64\n",
       "TOTAL TACKLES           float64\n",
       "SUCCESSFUL TACKLES      float64\n",
       "UNSUCCESFUL TACKLES     float64\n",
       "SUCCESSFUL TACKLE %     float64\n",
       "NO. OF SUPER TACKLES    float64\n",
       "ALL OUTS INFLICTED      float64\n",
       "TOTAL ALL OUT POINTS    float64\n",
       "TOTAL DEFENCE POINTS    float64\n",
       "WIN%                    float64\n",
       "DRAW%                   float64\n",
       "LOSS%                   float64\n",
       "WIN-LOSS%               float64\n",
       "dtype: object"
      ]
     },
     "execution_count": 9,
     "metadata": {},
     "output_type": "execute_result"
    }
   ],
   "source": [
    "df2.dtypes"
   ]
  },
  {
   "cell_type": "code",
   "execution_count": 10,
   "metadata": {},
   "outputs": [],
   "source": [
    "df2['UNSUCCESSFUL RAID%'] = df2['UNSUCCESSFUL RAID']/df2['TOTAL RAIDS']\n",
    "df2['EMPTY RAID%'] = df2['EMPTY RAIDS']/df2['TOTAL RAIDS']\n",
    "df2['AVG_RAID_TOUCH_POINT'] = df2['RAID TOUCH POINTS']/df2['MATCHES PLAYED']\n",
    "df2['AVG_RAID_BONUS_POINT'] = df2['RAID BONUS POINTS']/df2['MATCHES PLAYED']\n",
    "df2['UNSUCCESSFUL TACKLE%'] = df2['UNSUCCESFUL TACKLES']/df2['TOTAL TACKLES']\n",
    "df2['AVG_ALL_OUTS'] = df2['ALL OUTS INFLICTED']/df2['MATCHES PLAYED']"
   ]
  },
  {
   "cell_type": "code",
   "execution_count": 11,
   "metadata": {},
   "outputs": [],
   "source": [
    "df6 = df2.drop(['MATCHES PLAYED','WINS','DRAWS','LOSSES','SUCCESSFUL RAIDS','UNSUCCESSFUL RAID','EMPTY RAIDS','NO. OF SUPER RAIDS','RAID TOUCH POINTS','RAID BONUS POINTS','TOTAL RAID POINTS','TOTAL TACKLES','SUCCESSFUL TACKLES','UNSUCCESFUL TACKLES','ALL OUTS INFLICTED','TOTAL ALL OUT POINTS'],axis=1)"
   ]
  },
  {
   "cell_type": "code",
   "execution_count": 12,
   "metadata": {},
   "outputs": [
    {
     "data": {
      "text/html": [
       "<div>\n",
       "<style scoped>\n",
       "    .dataframe tbody tr th:only-of-type {\n",
       "        vertical-align: middle;\n",
       "    }\n",
       "\n",
       "    .dataframe tbody tr th {\n",
       "        vertical-align: top;\n",
       "    }\n",
       "\n",
       "    .dataframe thead th {\n",
       "        text-align: right;\n",
       "    }\n",
       "</style>\n",
       "<table border=\"1\" class=\"dataframe\">\n",
       "  <thead>\n",
       "    <tr style=\"text-align: right;\">\n",
       "      <th>SEASONS</th>\n",
       "      <th>FINISHING POSITION</th>\n",
       "      <th>TOTAL RAIDS</th>\n",
       "      <th>SUCCESS RAID %</th>\n",
       "      <th>SUCCESSFUL TACKLE %</th>\n",
       "      <th>NO. OF SUPER TACKLES</th>\n",
       "      <th>TOTAL DEFENCE POINTS</th>\n",
       "      <th>WIN%</th>\n",
       "      <th>DRAW%</th>\n",
       "      <th>LOSS%</th>\n",
       "      <th>WIN-LOSS%</th>\n",
       "      <th>UNSUCCESSFUL RAID%</th>\n",
       "      <th>EMPTY RAID%</th>\n",
       "      <th>AVG_RAID_TOUCH_POINT</th>\n",
       "      <th>AVG_RAID_BONUS_POINT</th>\n",
       "      <th>UNSUCCESSFUL TACKLE%</th>\n",
       "      <th>AVG_ALL_OUTS</th>\n",
       "    </tr>\n",
       "  </thead>\n",
       "  <tbody>\n",
       "    <tr>\n",
       "      <th>OVERALL</th>\n",
       "      <td>0.0</td>\n",
       "      <td>2781.0</td>\n",
       "      <td>0.42</td>\n",
       "      <td>0.42</td>\n",
       "      <td>60.0</td>\n",
       "      <td>646.0</td>\n",
       "      <td>0.415385</td>\n",
       "      <td>0.153846</td>\n",
       "      <td>0.430769</td>\n",
       "      <td>0.964286</td>\n",
       "      <td>0.233010</td>\n",
       "      <td>0.435095</td>\n",
       "      <td>13.400000</td>\n",
       "      <td>4.738462</td>\n",
       "      <td>0.615385</td>\n",
       "      <td>1.061538</td>\n",
       "    </tr>\n",
       "    <tr>\n",
       "      <th>SEASON 7</th>\n",
       "      <td>4.0</td>\n",
       "      <td>711.0</td>\n",
       "      <td>0.38</td>\n",
       "      <td>0.46</td>\n",
       "      <td>14.0</td>\n",
       "      <td>180.0</td>\n",
       "      <td>0.529412</td>\n",
       "      <td>0.117647</td>\n",
       "      <td>0.352941</td>\n",
       "      <td>1.500000</td>\n",
       "      <td>0.241913</td>\n",
       "      <td>0.465541</td>\n",
       "      <td>12.117647</td>\n",
       "      <td>3.705882</td>\n",
       "      <td>0.570694</td>\n",
       "      <td>1.176471</td>\n",
       "    </tr>\n",
       "    <tr>\n",
       "      <th>SEASON 6</th>\n",
       "      <td>3.0</td>\n",
       "      <td>1068.0</td>\n",
       "      <td>0.42</td>\n",
       "      <td>0.45</td>\n",
       "      <td>27.0</td>\n",
       "      <td>265.0</td>\n",
       "      <td>0.400000</td>\n",
       "      <td>0.160000</td>\n",
       "      <td>0.440000</td>\n",
       "      <td>0.909091</td>\n",
       "      <td>0.238764</td>\n",
       "      <td>0.426966</td>\n",
       "      <td>12.720000</td>\n",
       "      <td>5.240000</td>\n",
       "      <td>0.595960</td>\n",
       "      <td>1.040000</td>\n",
       "    </tr>\n",
       "    <tr>\n",
       "      <th>SEASON 5</th>\n",
       "      <td>3.0</td>\n",
       "      <td>1002.0</td>\n",
       "      <td>0.46</td>\n",
       "      <td>0.36</td>\n",
       "      <td>19.0</td>\n",
       "      <td>201.0</td>\n",
       "      <td>0.347826</td>\n",
       "      <td>0.173913</td>\n",
       "      <td>0.478261</td>\n",
       "      <td>0.727273</td>\n",
       "      <td>0.220559</td>\n",
       "      <td>0.422156</td>\n",
       "      <td>15.086957</td>\n",
       "      <td>4.956522</td>\n",
       "      <td>0.667877</td>\n",
       "      <td>1.000000</td>\n",
       "    </tr>\n",
       "  </tbody>\n",
       "</table>\n",
       "</div>"
      ],
      "text/plain": [
       "SEASONS   FINISHING POSITION  TOTAL RAIDS  SUCCESS RAID %  \\\n",
       "OVERALL                  0.0       2781.0            0.42   \n",
       "SEASON 7                 4.0        711.0            0.38   \n",
       "SEASON 6                 3.0       1068.0            0.42   \n",
       "SEASON 5                 3.0       1002.0            0.46   \n",
       "\n",
       "SEASONS   SUCCESSFUL TACKLE %  NO. OF SUPER TACKLES  TOTAL DEFENCE POINTS  \\\n",
       "OVERALL                  0.42                  60.0                 646.0   \n",
       "SEASON 7                 0.46                  14.0                 180.0   \n",
       "SEASON 6                 0.45                  27.0                 265.0   \n",
       "SEASON 5                 0.36                  19.0                 201.0   \n",
       "\n",
       "SEASONS       WIN%     DRAW%     LOSS%  WIN-LOSS%  UNSUCCESSFUL RAID%  \\\n",
       "OVERALL   0.415385  0.153846  0.430769   0.964286            0.233010   \n",
       "SEASON 7  0.529412  0.117647  0.352941   1.500000            0.241913   \n",
       "SEASON 6  0.400000  0.160000  0.440000   0.909091            0.238764   \n",
       "SEASON 5  0.347826  0.173913  0.478261   0.727273            0.220559   \n",
       "\n",
       "SEASONS   EMPTY RAID%  AVG_RAID_TOUCH_POINT  AVG_RAID_BONUS_POINT  \\\n",
       "OVERALL      0.435095             13.400000              4.738462   \n",
       "SEASON 7     0.465541             12.117647              3.705882   \n",
       "SEASON 6     0.426966             12.720000              5.240000   \n",
       "SEASON 5     0.422156             15.086957              4.956522   \n",
       "\n",
       "SEASONS   UNSUCCESSFUL TACKLE%  AVG_ALL_OUTS  \n",
       "OVERALL               0.615385      1.061538  \n",
       "SEASON 7              0.570694      1.176471  \n",
       "SEASON 6              0.595960      1.040000  \n",
       "SEASON 5              0.667877      1.000000  "
      ]
     },
     "execution_count": 12,
     "metadata": {},
     "output_type": "execute_result"
    }
   ],
   "source": [
    "df6 = df6.drop(['Team-name'],axis=0)\n",
    "df6"
   ]
  },
  {
   "cell_type": "code",
   "execution_count": 13,
   "metadata": {
    "scrolled": true
   },
   "outputs": [
    {
     "data": {
      "text/plain": [
       "SEASONS\n",
       "FINISHING POSITION      float64\n",
       "TOTAL RAIDS             float64\n",
       "SUCCESS RAID %          float64\n",
       "SUCCESSFUL TACKLE %     float64\n",
       "NO. OF SUPER TACKLES    float64\n",
       "TOTAL DEFENCE POINTS    float64\n",
       "WIN%                    float64\n",
       "DRAW%                   float64\n",
       "LOSS%                   float64\n",
       "WIN-LOSS%               float64\n",
       "UNSUCCESSFUL RAID%      float64\n",
       "EMPTY RAID%             float64\n",
       "AVG_RAID_TOUCH_POINT    float64\n",
       "AVG_RAID_BONUS_POINT    float64\n",
       "UNSUCCESSFUL TACKLE%    float64\n",
       "AVG_ALL_OUTS            float64\n",
       "dtype: object"
      ]
     },
     "execution_count": 13,
     "metadata": {},
     "output_type": "execute_result"
    }
   ],
   "source": [
    "df6.dtypes"
   ]
  },
  {
   "cell_type": "code",
   "execution_count": 14,
   "metadata": {},
   "outputs": [
    {
     "data": {
      "application/vnd.plotly.v1+json": {
       "config": {
        "linkText": "Export to plot.ly",
        "plotlyServerURL": "https://plot.ly",
        "showLink": true
       },
       "data": [
        {
         "colorscale": [
          [
           0,
           "rgb(255,255,229)"
          ],
          [
           0.125,
           "rgb(247,252,185)"
          ],
          [
           0.25,
           "rgb(217,240,163)"
          ],
          [
           0.375,
           "rgb(173,221,142)"
          ],
          [
           0.5,
           "rgb(120,198,121)"
          ],
          [
           0.625,
           "rgb(65,171,93)"
          ],
          [
           0.75,
           "rgb(35,132,67)"
          ],
          [
           0.875,
           "rgb(0,104,55)"
          ],
          [
           1,
           "rgb(0,69,41)"
          ]
         ],
         "type": "heatmap",
         "uid": "9593a5a1-4618-4e5e-bced-6948493b8df7",
         "x": [
          "FINISHING POSITION",
          "TOTAL RAIDS",
          "SUCCESS RAID %",
          "SUCCESSFUL TACKLE %",
          "NO. OF SUPER TACKLES",
          "TOTAL DEFENCE POINTS",
          "WIN%",
          "DRAW%",
          "LOSS%",
          "WIN-LOSS%",
          "UNSUCCESSFUL RAID%",
          "EMPTY RAID%",
          "AVG_RAID_TOUCH_POINT",
          "AVG_RAID_BONUS_POINT",
          "UNSUCCESSFUL TACKLE%",
          "AVG_ALL_OUTS"
         ],
         "y": [
          "FINISHING POSITION",
          "TOTAL RAIDS",
          "SUCCESS RAID %",
          "SUCCESSFUL TACKLE %",
          "NO. OF SUPER TACKLES",
          "TOTAL DEFENCE POINTS",
          "WIN%",
          "DRAW%",
          "LOSS%",
          "WIN-LOSS%",
          "UNSUCCESSFUL RAID%",
          "EMPTY RAID%",
          "AVG_RAID_TOUCH_POINT",
          "AVG_RAID_BONUS_POINT",
          "UNSUCCESSFUL TACKLE%",
          "AVG_ALL_OUTS"
         ],
         "z": [
          [
           1,
           -0.9932872798215601,
           -0.2357022603955155,
           0.19245008972987548,
           -0.9852901162085834,
           -0.9801127437360213,
           0.3259116079094663,
           -0.3304668244010328,
           -0.32363188902232487,
           0.38070181922605995,
           0.20443998718591833,
           0.3470980607798427,
           -0.2131065406216077,
           -0.3422949234832193,
           -0.2358123739871454,
           0.33253496704058433
          ],
          [
           -0.9932872798215601,
           1,
           0.12639876921916848,
           -0.10675069770851618,
           0.9905640036954384,
           0.9947042141315966,
           -0.21449438658713194,
           0.2190742668802782,
           0.2122720407652802,
           -0.27118541935292906,
           -0.11552317100700223,
           -0.237389304169928,
           0.12037708876548676,
           0.24146698624715382,
           0.1397305478788006,
           -0.22123335062124325
          ],
          [
           -0.2357022603955155,
           0.12639876921916848,
           1,
           -0.907218423253029,
           0.09859037584063701,
           0.039264204269473475,
           -0.9689158501486788,
           0.9576491941030294,
           0.9734610490492858,
           -0.9491681102278948,
           -0.9254910365306063,
           -0.9092139311533082,
           0.9452670297543397,
           0.7637154855071093,
           0.9626083566372091,
           -0.9512833482225771
          ],
          [
           0.19245008972987548,
           -0.10675069770851618,
           -0.907218423253029,
           1,
           -0.025044041489058887,
           -0.004749494598351844,
           0.7818215506797223,
           -0.7542616010549554,
           -0.7939181346679652,
           0.7440579414792128,
           0.9989374837447361,
           0.6566441130489236,
           -0.9947915779869435,
           -0.42722613667251225,
           -0.9868280855456831,
           0.7398088236819685
          ],
          [
           -0.9852901162085834,
           0.9905640036954384,
           0.09859037584063701,
           -0.025044041489058887,
           1,
           0.9949762746707087,
           -0.21781947241574484,
           0.22820170067044782,
           0.21294692893356743,
           -0.28089379753250726,
           -0.03888971065917318,
           -0.2648061084142461,
           0.050231450092249955,
           0.3038674391975877,
           0.07652735120728345,
           -0.23328529317401103
          ],
          [
           -0.9801127437360213,
           0.9947042141315966,
           0.039264204269473475,
           -0.004749494598351844,
           0.9949762746707087,
           1,
           -0.1430928679055677,
           0.15092822197873246,
           0.1394287285210896,
           -0.204356916265186,
           -0.014244731606882973,
           -0.18053053784664952,
           0.02024669075211913,
           0.2100078198029536,
           0.04123926358111562,
           -0.15477975588006837
          ],
          [
           0.3259116079094663,
           -0.21449438658713194,
           -0.9689158501486788,
           0.7818215506797223,
           -0.21781947241574484,
           -0.1430928679055677,
           1,
           -0.9990731896596832,
           -0.9998070214936895,
           0.9969643010317991,
           0.8097209101105683,
           0.983590371192348,
           -0.841135759859272,
           -0.8977384288267211,
           -0.8723886518207091,
           0.9979011235829504
          ],
          [
           -0.3304668244010328,
           0.2190742668802782,
           0.9576491941030294,
           -0.7542616010549554,
           0.22820170067044782,
           0.15092822197873246,
           -0.9990731896596832,
           1,
           0.9980348030082284,
           -0.9985146051643863,
           -0.7837136458021178,
           -0.9904393627970707,
           0.8170771091462941,
           0.9158683976171151,
           0.8505419954557398,
           -0.999763600202981
          ],
          [
           -0.32363188902232487,
           0.2122720407652802,
           0.9734610490492858,
           -0.7939181346679652,
           0.21294692893356743,
           0.1394287285210896,
           -0.9998070214936895,
           0.9980348030082284,
           1,
           -0.9956426553449378,
           -0.8210916746718979,
           -0.9798586808981353,
           0.8515978407699138,
           0.8889110644392281,
           0.8818219437768439,
           -0.996436427584889
          ],
          [
           0.38070181922605995,
           -0.27118541935292906,
           -0.9491681102278948,
           0.7440579414792128,
           -0.28089379753250726,
           -0.204356916265186,
           0.9969643010317991,
           -0.9985146051643863,
           -0.9956426553449378,
           1,
           0.7739112549942159,
           0.9913147637532701,
           -0.807493899799356,
           -0.920336281345579,
           -0.8420164274882833,
           0.9985941972879281
          ],
          [
           0.20443998718591833,
           -0.11552317100700223,
           -0.9254910365306063,
           0.9989374837447361,
           -0.03888971065917318,
           -0.014244731606882973,
           0.8097209101105683,
           -0.7837136458021178,
           -0.8210916746718979,
           0.7739112549942159,
           1,
           0.6906889179775288,
           -0.998425081603522,
           -0.46842798471805036,
           -0.9932334486896482,
           0.7700244255282864
          ],
          [
           0.3470980607798427,
           -0.237389304169928,
           -0.9092139311533082,
           0.6566441130489236,
           -0.2648061084142461,
           -0.18053053784664952,
           0.983590371192348,
           -0.9904393627970707,
           -0.9798586808981353,
           0.9913147637532701,
           0.6906889179775288,
           1,
           -0.7298248374652682,
           -0.9624322999558305,
           -0.7699981853862794,
           0.9932011700064649
          ],
          [
           -0.2131065406216077,
           0.12037708876548676,
           0.9452670297543397,
           -0.9947915779869435,
           0.050231450092249955,
           0.02024669075211913,
           -0.841135759859272,
           0.8170771091462941,
           0.8515978407699138,
           -0.807493899799356,
           -0.998425081603522,
           -0.7298248374652682,
           1,
           0.5168712785907131,
           0.9981313209022876,
           -0.804348685366125
          ],
          [
           -0.3422949234832193,
           0.24146698624715382,
           0.7637154855071093,
           -0.42722613667251225,
           0.3038674391975877,
           0.2100078198029536,
           -0.8977384288267211,
           0.9158683976171151,
           0.8889110644392281,
           -0.920336281345579,
           -0.46842798471805036,
           -0.9624322999558305,
           0.5168712785907131,
           1,
           0.5678631983586729,
           -0.9243811036467434
          ],
          [
           -0.2358123739871454,
           0.1397305478788006,
           0.9626083566372091,
           -0.9868280855456831,
           0.07652735120728345,
           0.04123926358111562,
           -0.8723886518207091,
           0.8505419954557398,
           0.8818219437768439,
           -0.8420164274882833,
           -0.9932334486896482,
           -0.7699981853862794,
           0.9981313209022876,
           0.5678631983586729,
           1,
           -0.8389073382101168
          ],
          [
           0.33253496704058433,
           -0.22123335062124325,
           -0.9512833482225771,
           0.7398088236819685,
           -0.23328529317401103,
           -0.15477975588006837,
           0.9979011235829504,
           -0.999763600202981,
           -0.996436427584889,
           0.9985941972879281,
           0.7700244255282864,
           0.9932011700064649,
           -0.804348685366125,
           -0.9243811036467434,
           -0.8389073382101168,
           1
          ]
         ],
         "zmax": 1,
         "zmin": -0.9998070214936895
        }
       ],
       "layout": {
        "legend": {
         "bgcolor": "#F5F6F9",
         "font": {
          "color": "#4D5663"
         }
        },
        "paper_bgcolor": "#F5F6F9",
        "plot_bgcolor": "#F5F6F9",
        "title": {
         "font": {
          "color": "#4D5663"
         }
        },
        "xaxis": {
         "gridcolor": "#E1E5ED",
         "showgrid": true,
         "tickfont": {
          "color": "#4D5663"
         },
         "title": {
          "font": {
           "color": "#4D5663"
          },
          "text": ""
         },
         "zerolinecolor": "#E1E5ED"
        },
        "yaxis": {
         "gridcolor": "#E1E5ED",
         "showgrid": true,
         "tickfont": {
          "color": "#4D5663"
         },
         "title": {
          "font": {
           "color": "#4D5663"
          },
          "text": ""
         },
         "zerolinecolor": "#E1E5ED"
        }
       }
      },
      "text/html": [
       "<div>\n",
       "        \n",
       "        \n",
       "            <div id=\"4b8b9add-1f5e-44f6-afa3-00bc004654b7\" class=\"plotly-graph-div\" style=\"height:525px; width:100%;\"></div>\n",
       "            <script type=\"text/javascript\">\n",
       "                require([\"plotly\"], function(Plotly) {\n",
       "                    window.PLOTLYENV=window.PLOTLYENV || {};\n",
       "                    window.PLOTLYENV.BASE_URL='https://plot.ly';\n",
       "                    \n",
       "                if (document.getElementById(\"4b8b9add-1f5e-44f6-afa3-00bc004654b7\")) {\n",
       "                    Plotly.newPlot(\n",
       "                        '4b8b9add-1f5e-44f6-afa3-00bc004654b7',\n",
       "                        [{\"colorscale\": [[0.0, \"rgb(255,255,229)\"], [0.125, \"rgb(247,252,185)\"], [0.25, \"rgb(217,240,163)\"], [0.375, \"rgb(173,221,142)\"], [0.5, \"rgb(120,198,121)\"], [0.625, \"rgb(65,171,93)\"], [0.75, \"rgb(35,132,67)\"], [0.875, \"rgb(0,104,55)\"], [1.0, \"rgb(0,69,41)\"]], \"type\": \"heatmap\", \"uid\": \"9593a5a1-4618-4e5e-bced-6948493b8df7\", \"x\": [\"FINISHING POSITION\", \"TOTAL RAIDS\", \"SUCCESS RAID %\", \"SUCCESSFUL TACKLE %\", \"NO. OF SUPER TACKLES\", \"TOTAL DEFENCE POINTS\", \"WIN%\", \"DRAW%\", \"LOSS%\", \"WIN-LOSS%\", \"UNSUCCESSFUL RAID%\", \"EMPTY RAID%\", \"AVG_RAID_TOUCH_POINT\", \"AVG_RAID_BONUS_POINT\", \"UNSUCCESSFUL TACKLE%\", \"AVG_ALL_OUTS\"], \"y\": [\"FINISHING POSITION\", \"TOTAL RAIDS\", \"SUCCESS RAID %\", \"SUCCESSFUL TACKLE %\", \"NO. OF SUPER TACKLES\", \"TOTAL DEFENCE POINTS\", \"WIN%\", \"DRAW%\", \"LOSS%\", \"WIN-LOSS%\", \"UNSUCCESSFUL RAID%\", \"EMPTY RAID%\", \"AVG_RAID_TOUCH_POINT\", \"AVG_RAID_BONUS_POINT\", \"UNSUCCESSFUL TACKLE%\", \"AVG_ALL_OUTS\"], \"z\": [[1.0, -0.9932872798215601, -0.2357022603955155, 0.19245008972987548, -0.9852901162085834, -0.9801127437360213, 0.3259116079094663, -0.3304668244010328, -0.32363188902232487, 0.38070181922605995, 0.20443998718591833, 0.3470980607798427, -0.2131065406216077, -0.3422949234832193, -0.2358123739871454, 0.33253496704058433], [-0.9932872798215601, 1.0, 0.12639876921916848, -0.10675069770851618, 0.9905640036954384, 0.9947042141315966, -0.21449438658713194, 0.2190742668802782, 0.2122720407652802, -0.27118541935292906, -0.11552317100700223, -0.237389304169928, 0.12037708876548676, 0.24146698624715382, 0.1397305478788006, -0.22123335062124325], [-0.2357022603955155, 0.12639876921916848, 1.0, -0.907218423253029, 0.09859037584063701, 0.039264204269473475, -0.9689158501486788, 0.9576491941030294, 0.9734610490492858, -0.9491681102278948, -0.9254910365306063, -0.9092139311533082, 0.9452670297543397, 0.7637154855071093, 0.9626083566372091, -0.9512833482225771], [0.19245008972987548, -0.10675069770851618, -0.907218423253029, 1.0, -0.025044041489058887, -0.004749494598351844, 0.7818215506797223, -0.7542616010549554, -0.7939181346679652, 0.7440579414792128, 0.9989374837447361, 0.6566441130489236, -0.9947915779869435, -0.42722613667251225, -0.9868280855456831, 0.7398088236819685], [-0.9852901162085834, 0.9905640036954384, 0.09859037584063701, -0.025044041489058887, 1.0, 0.9949762746707087, -0.21781947241574484, 0.22820170067044782, 0.21294692893356743, -0.28089379753250726, -0.03888971065917318, -0.2648061084142461, 0.050231450092249955, 0.3038674391975877, 0.07652735120728345, -0.23328529317401103], [-0.9801127437360213, 0.9947042141315966, 0.039264204269473475, -0.004749494598351844, 0.9949762746707087, 1.0, -0.1430928679055677, 0.15092822197873246, 0.1394287285210896, -0.204356916265186, -0.014244731606882973, -0.18053053784664952, 0.02024669075211913, 0.2100078198029536, 0.04123926358111562, -0.15477975588006837], [0.3259116079094663, -0.21449438658713194, -0.9689158501486788, 0.7818215506797223, -0.21781947241574484, -0.1430928679055677, 1.0, -0.9990731896596832, -0.9998070214936895, 0.9969643010317991, 0.8097209101105683, 0.983590371192348, -0.841135759859272, -0.8977384288267211, -0.8723886518207091, 0.9979011235829504], [-0.3304668244010328, 0.2190742668802782, 0.9576491941030294, -0.7542616010549554, 0.22820170067044782, 0.15092822197873246, -0.9990731896596832, 1.0, 0.9980348030082284, -0.9985146051643863, -0.7837136458021178, -0.9904393627970707, 0.8170771091462941, 0.9158683976171151, 0.8505419954557398, -0.999763600202981], [-0.32363188902232487, 0.2122720407652802, 0.9734610490492858, -0.7939181346679652, 0.21294692893356743, 0.1394287285210896, -0.9998070214936895, 0.9980348030082284, 1.0, -0.9956426553449378, -0.8210916746718979, -0.9798586808981353, 0.8515978407699138, 0.8889110644392281, 0.8818219437768439, -0.996436427584889], [0.38070181922605995, -0.27118541935292906, -0.9491681102278948, 0.7440579414792128, -0.28089379753250726, -0.204356916265186, 0.9969643010317991, -0.9985146051643863, -0.9956426553449378, 1.0, 0.7739112549942159, 0.9913147637532701, -0.807493899799356, -0.920336281345579, -0.8420164274882833, 0.9985941972879281], [0.20443998718591833, -0.11552317100700223, -0.9254910365306063, 0.9989374837447361, -0.03888971065917318, -0.014244731606882973, 0.8097209101105683, -0.7837136458021178, -0.8210916746718979, 0.7739112549942159, 1.0, 0.6906889179775288, -0.998425081603522, -0.46842798471805036, -0.9932334486896482, 0.7700244255282864], [0.3470980607798427, -0.237389304169928, -0.9092139311533082, 0.6566441130489236, -0.2648061084142461, -0.18053053784664952, 0.983590371192348, -0.9904393627970707, -0.9798586808981353, 0.9913147637532701, 0.6906889179775288, 1.0, -0.7298248374652682, -0.9624322999558305, -0.7699981853862794, 0.9932011700064649], [-0.2131065406216077, 0.12037708876548676, 0.9452670297543397, -0.9947915779869435, 0.050231450092249955, 0.02024669075211913, -0.841135759859272, 0.8170771091462941, 0.8515978407699138, -0.807493899799356, -0.998425081603522, -0.7298248374652682, 1.0, 0.5168712785907131, 0.9981313209022876, -0.804348685366125], [-0.3422949234832193, 0.24146698624715382, 0.7637154855071093, -0.42722613667251225, 0.3038674391975877, 0.2100078198029536, -0.8977384288267211, 0.9158683976171151, 0.8889110644392281, -0.920336281345579, -0.46842798471805036, -0.9624322999558305, 0.5168712785907131, 1.0, 0.5678631983586729, -0.9243811036467434], [-0.2358123739871454, 0.1397305478788006, 0.9626083566372091, -0.9868280855456831, 0.07652735120728345, 0.04123926358111562, -0.8723886518207091, 0.8505419954557398, 0.8818219437768439, -0.8420164274882833, -0.9932334486896482, -0.7699981853862794, 0.9981313209022876, 0.5678631983586729, 1.0, -0.8389073382101168], [0.33253496704058433, -0.22123335062124325, -0.9512833482225771, 0.7398088236819685, -0.23328529317401103, -0.15477975588006837, 0.9979011235829504, -0.999763600202981, -0.996436427584889, 0.9985941972879281, 0.7700244255282864, 0.9932011700064649, -0.804348685366125, -0.9243811036467434, -0.8389073382101168, 1.0]], \"zmax\": 1.0, \"zmin\": -0.9998070214936895}],\n",
       "                        {\"legend\": {\"bgcolor\": \"#F5F6F9\", \"font\": {\"color\": \"#4D5663\"}}, \"paper_bgcolor\": \"#F5F6F9\", \"plot_bgcolor\": \"#F5F6F9\", \"title\": {\"font\": {\"color\": \"#4D5663\"}}, \"xaxis\": {\"gridcolor\": \"#E1E5ED\", \"showgrid\": true, \"tickfont\": {\"color\": \"#4D5663\"}, \"title\": {\"font\": {\"color\": \"#4D5663\"}, \"text\": \"\"}, \"zerolinecolor\": \"#E1E5ED\"}, \"yaxis\": {\"gridcolor\": \"#E1E5ED\", \"showgrid\": true, \"tickfont\": {\"color\": \"#4D5663\"}, \"title\": {\"font\": {\"color\": \"#4D5663\"}, \"text\": \"\"}, \"zerolinecolor\": \"#E1E5ED\"}},\n",
       "                        {\"showLink\": true, \"linkText\": \"Export to plot.ly\", \"plotlyServerURL\": \"https://plot.ly\", \"responsive\": true}\n",
       "                    ).then(function(){\n",
       "                            \n",
       "var gd = document.getElementById('4b8b9add-1f5e-44f6-afa3-00bc004654b7');\n",
       "var x = new MutationObserver(function (mutations, observer) {{\n",
       "        var display = window.getComputedStyle(gd).display;\n",
       "        if (!display || display === 'none') {{\n",
       "            console.log([gd, 'removed!']);\n",
       "            Plotly.purge(gd);\n",
       "            observer.disconnect();\n",
       "        }}\n",
       "}});\n",
       "\n",
       "// Listen for the removal of the full notebook cells\n",
       "var notebookContainer = gd.closest('#notebook-container');\n",
       "if (notebookContainer) {{\n",
       "    x.observe(notebookContainer, {childList: true});\n",
       "}}\n",
       "\n",
       "// Listen for the clearing of the current output cell\n",
       "var outputEl = gd.closest('.output');\n",
       "if (outputEl) {{\n",
       "    x.observe(outputEl, {childList: true});\n",
       "}}\n",
       "\n",
       "                        })\n",
       "                };\n",
       "                });\n",
       "            </script>\n",
       "        </div>"
      ]
     },
     "metadata": {},
     "output_type": "display_data"
    }
   ],
   "source": [
    "df6.corr().iplot(kind='heatmap',colorscale='ylgn')"
   ]
  },
  {
   "cell_type": "code",
   "execution_count": 15,
   "metadata": {},
   "outputs": [],
   "source": [
    "df3= df2.loc['SEASON 5',:]"
   ]
  },
  {
   "cell_type": "code",
   "execution_count": 16,
   "metadata": {},
   "outputs": [
    {
     "data": {
      "text/plain": [
       "SEASONS\n",
       "MATCHES PLAYED            23.000000\n",
       "WINS                       8.000000\n",
       "DRAWS                      4.000000\n",
       "LOSSES                    11.000000\n",
       "FINISHING POSITION         3.000000\n",
       "TOTAL RAIDS             1002.000000\n",
       "SUCCESSFUL RAIDS         358.000000\n",
       "UNSUCCESSFUL RAID        221.000000\n",
       "EMPTY RAIDS              423.000000\n",
       "SUCCESS RAID %             0.460000\n",
       "NO. OF SUPER RAIDS        23.000000\n",
       "RAID TOUCH POINTS        347.000000\n",
       "RAID BONUS POINTS        114.000000\n",
       "TOTAL RAID POINTS        461.000000\n",
       "TOTAL TACKLES            551.000000\n",
       "SUCCESSFUL TACKLES       183.000000\n",
       "UNSUCCESFUL TACKLES      368.000000\n",
       "SUCCESSFUL TACKLE %        0.360000\n",
       "NO. OF SUPER TACKLES      19.000000\n",
       "ALL OUTS INFLICTED        23.000000\n",
       "TOTAL ALL OUT POINTS      46.000000\n",
       "TOTAL DEFENCE POINTS     201.000000\n",
       "WIN%                       0.347826\n",
       "DRAW%                      0.173913\n",
       "LOSS%                      0.478261\n",
       "WIN-LOSS%                  0.727273\n",
       "UNSUCCESSFUL RAID%         0.220559\n",
       "EMPTY RAID%                0.422156\n",
       "AVG_RAID_TOUCH_POINT      15.086957\n",
       "AVG_RAID_BONUS_POINT       4.956522\n",
       "UNSUCCESSFUL TACKLE%       0.667877\n",
       "AVG_ALL_OUTS               1.000000\n",
       "Name: SEASON 5, dtype: float64"
      ]
     },
     "execution_count": 16,
     "metadata": {},
     "output_type": "execute_result"
    }
   ],
   "source": [
    "df3 "
   ]
  },
  {
   "cell_type": "code",
   "execution_count": 17,
   "metadata": {
    "scrolled": true
   },
   "outputs": [
    {
     "data": {
      "application/vnd.plotly.v1+json": {
       "config": {
        "linkText": "Export to plot.ly",
        "plotlyServerURL": "https://plot.ly",
        "showLink": true
       },
       "data": [
        {
         "marker": {
          "color": "rgba(255, 153, 51, 0.6)",
          "line": {
           "color": "rgba(255, 153, 51, 1.0)",
           "width": 1
          }
         },
         "name": "SEASON 5",
         "orientation": "v",
         "text": "",
         "type": "bar",
         "uid": "f09f4018-5b01-49bb-9e94-d24a3310df97",
         "x": [
          "MATCHES PLAYED",
          "WINS",
          "DRAWS",
          "LOSSES",
          "FINISHING POSITION",
          "TOTAL RAIDS",
          "SUCCESSFUL RAIDS",
          "UNSUCCESSFUL RAID",
          "EMPTY RAIDS",
          "SUCCESS RAID %",
          "NO. OF SUPER RAIDS",
          "RAID TOUCH POINTS",
          "RAID BONUS POINTS",
          "TOTAL RAID POINTS",
          "TOTAL TACKLES",
          "SUCCESSFUL TACKLES",
          "UNSUCCESFUL TACKLES",
          "SUCCESSFUL TACKLE %",
          "NO. OF SUPER TACKLES",
          "ALL OUTS INFLICTED",
          "TOTAL ALL OUT POINTS",
          "TOTAL DEFENCE POINTS",
          "WIN%",
          "DRAW%",
          "LOSS%",
          "WIN-LOSS%",
          "UNSUCCESSFUL RAID%",
          "EMPTY RAID%",
          "AVG_RAID_TOUCH_POINT",
          "AVG_RAID_BONUS_POINT",
          "UNSUCCESSFUL TACKLE%",
          "AVG_ALL_OUTS"
         ],
         "y": [
          23,
          8,
          4,
          11,
          3,
          1002,
          358,
          221,
          423,
          0.46,
          23,
          347,
          114,
          461,
          551,
          183,
          368,
          0.36,
          19,
          23,
          46,
          201,
          0.34782608695652173,
          0.17391304347826086,
          0.4782608695652174,
          0.7272727272727273,
          0.22055888223552894,
          0.4221556886227545,
          15.08695652173913,
          4.956521739130435,
          0.6678765880217786,
          1
         ]
        }
       ],
       "layout": {
        "legend": {
         "bgcolor": "#F5F6F9",
         "font": {
          "color": "#4D5663"
         }
        },
        "paper_bgcolor": "#F5F6F9",
        "plot_bgcolor": "#F5F6F9",
        "title": {
         "font": {
          "color": "#4D5663"
         }
        },
        "xaxis": {
         "gridcolor": "#E1E5ED",
         "showgrid": true,
         "tickfont": {
          "color": "#4D5663"
         },
         "title": {
          "font": {
           "color": "#4D5663"
          },
          "text": ""
         },
         "zerolinecolor": "#E1E5ED"
        },
        "yaxis": {
         "gridcolor": "#E1E5ED",
         "showgrid": true,
         "tickfont": {
          "color": "#4D5663"
         },
         "title": {
          "font": {
           "color": "#4D5663"
          },
          "text": ""
         },
         "zerolinecolor": "#E1E5ED"
        }
       }
      },
      "text/html": [
       "<div>\n",
       "        \n",
       "        \n",
       "            <div id=\"e6bf79f6-f8e1-43ed-b5e6-7c1db1921267\" class=\"plotly-graph-div\" style=\"height:525px; width:100%;\"></div>\n",
       "            <script type=\"text/javascript\">\n",
       "                require([\"plotly\"], function(Plotly) {\n",
       "                    window.PLOTLYENV=window.PLOTLYENV || {};\n",
       "                    window.PLOTLYENV.BASE_URL='https://plot.ly';\n",
       "                    \n",
       "                if (document.getElementById(\"e6bf79f6-f8e1-43ed-b5e6-7c1db1921267\")) {\n",
       "                    Plotly.newPlot(\n",
       "                        'e6bf79f6-f8e1-43ed-b5e6-7c1db1921267',\n",
       "                        [{\"marker\": {\"color\": \"rgba(255, 153, 51, 0.6)\", \"line\": {\"color\": \"rgba(255, 153, 51, 1.0)\", \"width\": 1}}, \"name\": \"SEASON 5\", \"orientation\": \"v\", \"text\": \"\", \"type\": \"bar\", \"uid\": \"f09f4018-5b01-49bb-9e94-d24a3310df97\", \"x\": [\"MATCHES PLAYED\", \"WINS\", \"DRAWS\", \"LOSSES\", \"FINISHING POSITION\", \"TOTAL RAIDS\", \"SUCCESSFUL RAIDS\", \"UNSUCCESSFUL RAID\", \"EMPTY RAIDS\", \"SUCCESS RAID %\", \"NO. OF SUPER RAIDS\", \"RAID TOUCH POINTS\", \"RAID BONUS POINTS\", \"TOTAL RAID POINTS\", \"TOTAL TACKLES\", \"SUCCESSFUL TACKLES\", \"UNSUCCESFUL TACKLES\", \"SUCCESSFUL TACKLE %\", \"NO. OF SUPER TACKLES\", \"ALL OUTS INFLICTED\", \"TOTAL ALL OUT POINTS\", \"TOTAL DEFENCE POINTS\", \"WIN%\", \"DRAW%\", \"LOSS%\", \"WIN-LOSS%\", \"UNSUCCESSFUL RAID%\", \"EMPTY RAID%\", \"AVG_RAID_TOUCH_POINT\", \"AVG_RAID_BONUS_POINT\", \"UNSUCCESSFUL TACKLE%\", \"AVG_ALL_OUTS\"], \"y\": [23.0, 8.0, 4.0, 11.0, 3.0, 1002.0, 358.0, 221.0, 423.0, 0.46, 23.0, 347.0, 114.0, 461.0, 551.0, 183.0, 368.0, 0.36, 19.0, 23.0, 46.0, 201.0, 0.34782608695652173, 0.17391304347826086, 0.4782608695652174, 0.7272727272727273, 0.22055888223552894, 0.4221556886227545, 15.08695652173913, 4.956521739130435, 0.6678765880217786, 1.0]}],\n",
       "                        {\"legend\": {\"bgcolor\": \"#F5F6F9\", \"font\": {\"color\": \"#4D5663\"}}, \"paper_bgcolor\": \"#F5F6F9\", \"plot_bgcolor\": \"#F5F6F9\", \"title\": {\"font\": {\"color\": \"#4D5663\"}}, \"xaxis\": {\"gridcolor\": \"#E1E5ED\", \"showgrid\": true, \"tickfont\": {\"color\": \"#4D5663\"}, \"title\": {\"font\": {\"color\": \"#4D5663\"}, \"text\": \"\"}, \"zerolinecolor\": \"#E1E5ED\"}, \"yaxis\": {\"gridcolor\": \"#E1E5ED\", \"showgrid\": true, \"tickfont\": {\"color\": \"#4D5663\"}, \"title\": {\"font\": {\"color\": \"#4D5663\"}, \"text\": \"\"}, \"zerolinecolor\": \"#E1E5ED\"}},\n",
       "                        {\"showLink\": true, \"linkText\": \"Export to plot.ly\", \"plotlyServerURL\": \"https://plot.ly\", \"responsive\": true}\n",
       "                    ).then(function(){\n",
       "                            \n",
       "var gd = document.getElementById('e6bf79f6-f8e1-43ed-b5e6-7c1db1921267');\n",
       "var x = new MutationObserver(function (mutations, observer) {{\n",
       "        var display = window.getComputedStyle(gd).display;\n",
       "        if (!display || display === 'none') {{\n",
       "            console.log([gd, 'removed!']);\n",
       "            Plotly.purge(gd);\n",
       "            observer.disconnect();\n",
       "        }}\n",
       "}});\n",
       "\n",
       "// Listen for the removal of the full notebook cells\n",
       "var notebookContainer = gd.closest('#notebook-container');\n",
       "if (notebookContainer) {{\n",
       "    x.observe(notebookContainer, {childList: true});\n",
       "}}\n",
       "\n",
       "// Listen for the clearing of the current output cell\n",
       "var outputEl = gd.closest('.output');\n",
       "if (outputEl) {{\n",
       "    x.observe(outputEl, {childList: true});\n",
       "}}\n",
       "\n",
       "                        })\n",
       "                };\n",
       "                });\n",
       "            </script>\n",
       "        </div>"
      ]
     },
     "metadata": {},
     "output_type": "display_data"
    }
   ],
   "source": [
    "df3.iplot(kind='bar')"
   ]
  },
  {
   "cell_type": "code",
   "execution_count": 18,
   "metadata": {},
   "outputs": [
    {
     "data": {
      "text/html": [
       "<div>\n",
       "<style scoped>\n",
       "    .dataframe tbody tr th:only-of-type {\n",
       "        vertical-align: middle;\n",
       "    }\n",
       "\n",
       "    .dataframe tbody tr th {\n",
       "        vertical-align: top;\n",
       "    }\n",
       "\n",
       "    .dataframe thead th {\n",
       "        text-align: right;\n",
       "    }\n",
       "</style>\n",
       "<table border=\"1\" class=\"dataframe\">\n",
       "  <thead>\n",
       "    <tr style=\"text-align: right;\">\n",
       "      <th>SEASONS</th>\n",
       "      <th>TOTAL RAIDS</th>\n",
       "      <th>SUCCESS RAID %</th>\n",
       "      <th>SUCCESSFUL TACKLE %</th>\n",
       "      <th>NO. OF SUPER TACKLES</th>\n",
       "      <th>TOTAL DEFENCE POINTS</th>\n",
       "      <th>WIN%</th>\n",
       "      <th>DRAW%</th>\n",
       "      <th>LOSS%</th>\n",
       "      <th>WIN-LOSS%</th>\n",
       "      <th>UNSUCCESSFUL RAID%</th>\n",
       "      <th>EMPTY RAID%</th>\n",
       "      <th>AVG_RAID_TOUCH_POINT</th>\n",
       "      <th>AVG_RAID_BONUS_POINT</th>\n",
       "      <th>UNSUCCESSFUL TACKLE%</th>\n",
       "      <th>AVG_ALL_OUTS</th>\n",
       "    </tr>\n",
       "  </thead>\n",
       "  <tbody>\n",
       "    <tr>\n",
       "      <th>OVERALL</th>\n",
       "      <td>2781.0</td>\n",
       "      <td>0.42</td>\n",
       "      <td>0.42</td>\n",
       "      <td>60.0</td>\n",
       "      <td>646.0</td>\n",
       "      <td>0.415385</td>\n",
       "      <td>0.153846</td>\n",
       "      <td>0.430769</td>\n",
       "      <td>0.964286</td>\n",
       "      <td>0.233010</td>\n",
       "      <td>0.435095</td>\n",
       "      <td>13.400000</td>\n",
       "      <td>4.738462</td>\n",
       "      <td>0.615385</td>\n",
       "      <td>1.061538</td>\n",
       "    </tr>\n",
       "    <tr>\n",
       "      <th>SEASON 6</th>\n",
       "      <td>1068.0</td>\n",
       "      <td>0.42</td>\n",
       "      <td>0.45</td>\n",
       "      <td>27.0</td>\n",
       "      <td>265.0</td>\n",
       "      <td>0.400000</td>\n",
       "      <td>0.160000</td>\n",
       "      <td>0.440000</td>\n",
       "      <td>0.909091</td>\n",
       "      <td>0.238764</td>\n",
       "      <td>0.426966</td>\n",
       "      <td>12.720000</td>\n",
       "      <td>5.240000</td>\n",
       "      <td>0.595960</td>\n",
       "      <td>1.040000</td>\n",
       "    </tr>\n",
       "    <tr>\n",
       "      <th>SEASON 5</th>\n",
       "      <td>1002.0</td>\n",
       "      <td>0.46</td>\n",
       "      <td>0.36</td>\n",
       "      <td>19.0</td>\n",
       "      <td>201.0</td>\n",
       "      <td>0.347826</td>\n",
       "      <td>0.173913</td>\n",
       "      <td>0.478261</td>\n",
       "      <td>0.727273</td>\n",
       "      <td>0.220559</td>\n",
       "      <td>0.422156</td>\n",
       "      <td>15.086957</td>\n",
       "      <td>4.956522</td>\n",
       "      <td>0.667877</td>\n",
       "      <td>1.000000</td>\n",
       "    </tr>\n",
       "  </tbody>\n",
       "</table>\n",
       "</div>"
      ],
      "text/plain": [
       "SEASONS   TOTAL RAIDS  SUCCESS RAID %  SUCCESSFUL TACKLE %  \\\n",
       "OVERALL        2781.0            0.42                 0.42   \n",
       "SEASON 6       1068.0            0.42                 0.45   \n",
       "SEASON 5       1002.0            0.46                 0.36   \n",
       "\n",
       "SEASONS   NO. OF SUPER TACKLES  TOTAL DEFENCE POINTS      WIN%     DRAW%  \\\n",
       "OVERALL                   60.0                 646.0  0.415385  0.153846   \n",
       "SEASON 6                  27.0                 265.0  0.400000  0.160000   \n",
       "SEASON 5                  19.0                 201.0  0.347826  0.173913   \n",
       "\n",
       "SEASONS      LOSS%  WIN-LOSS%  UNSUCCESSFUL RAID%  EMPTY RAID%  \\\n",
       "OVERALL   0.430769   0.964286            0.233010     0.435095   \n",
       "SEASON 6  0.440000   0.909091            0.238764     0.426966   \n",
       "SEASON 5  0.478261   0.727273            0.220559     0.422156   \n",
       "\n",
       "SEASONS   AVG_RAID_TOUCH_POINT  AVG_RAID_BONUS_POINT  UNSUCCESSFUL TACKLE%  \\\n",
       "OVERALL              13.400000              4.738462              0.615385   \n",
       "SEASON 6             12.720000              5.240000              0.595960   \n",
       "SEASON 5             15.086957              4.956522              0.667877   \n",
       "\n",
       "SEASONS   AVG_ALL_OUTS  \n",
       "OVERALL       1.061538  \n",
       "SEASON 6      1.040000  \n",
       "SEASON 5      1.000000  "
      ]
     },
     "execution_count": 18,
     "metadata": {},
     "output_type": "execute_result"
    }
   ],
   "source": [
    "df4 =df6.drop('FINISHING POSITION',axis=1)\n",
    "df4 =df4.drop(['SEASON 7'])\n",
    "df4"
   ]
  },
  {
   "cell_type": "code",
   "execution_count": 19,
   "metadata": {},
   "outputs": [
    {
     "data": {
      "text/plain": [
       "OVERALL     0.0\n",
       "SEASON 6    3.0\n",
       "SEASON 5    3.0\n",
       "Name: FINISHING POSITION, dtype: float64"
      ]
     },
     "execution_count": 19,
     "metadata": {},
     "output_type": "execute_result"
    }
   ],
   "source": [
    "df5 = df6['FINISHING POSITION']\n",
    "df5 = df5.drop(['SEASON 7'],axis=0)\n",
    "#df5['FINISHING POSITION'] = df['FINISHING POSITION'].fillna(0)\n",
    "df5"
   ]
  },
  {
   "cell_type": "code",
   "execution_count": 20,
   "metadata": {},
   "outputs": [
    {
     "data": {
      "text/html": [
       "<div>\n",
       "<style scoped>\n",
       "    .dataframe tbody tr th:only-of-type {\n",
       "        vertical-align: middle;\n",
       "    }\n",
       "\n",
       "    .dataframe tbody tr th {\n",
       "        vertical-align: top;\n",
       "    }\n",
       "\n",
       "    .dataframe thead th {\n",
       "        text-align: right;\n",
       "    }\n",
       "</style>\n",
       "<table border=\"1\" class=\"dataframe\">\n",
       "  <thead>\n",
       "    <tr style=\"text-align: right;\">\n",
       "      <th>SEASONS</th>\n",
       "      <th>TOTAL RAIDS</th>\n",
       "      <th>SUCCESS RAID %</th>\n",
       "      <th>SUCCESSFUL TACKLE %</th>\n",
       "      <th>NO. OF SUPER TACKLES</th>\n",
       "      <th>TOTAL DEFENCE POINTS</th>\n",
       "      <th>WIN%</th>\n",
       "      <th>DRAW%</th>\n",
       "      <th>LOSS%</th>\n",
       "      <th>WIN-LOSS%</th>\n",
       "      <th>UNSUCCESSFUL RAID%</th>\n",
       "      <th>EMPTY RAID%</th>\n",
       "      <th>AVG_RAID_TOUCH_POINT</th>\n",
       "      <th>AVG_RAID_BONUS_POINT</th>\n",
       "      <th>UNSUCCESSFUL TACKLE%</th>\n",
       "      <th>AVG_ALL_OUTS</th>\n",
       "    </tr>\n",
       "  </thead>\n",
       "  <tbody>\n",
       "    <tr>\n",
       "      <th>OVERALL</th>\n",
       "      <td>2781.0</td>\n",
       "      <td>0.42</td>\n",
       "      <td>0.42</td>\n",
       "      <td>60.0</td>\n",
       "      <td>646.0</td>\n",
       "      <td>0.415385</td>\n",
       "      <td>0.153846</td>\n",
       "      <td>0.430769</td>\n",
       "      <td>0.964286</td>\n",
       "      <td>0.233010</td>\n",
       "      <td>0.435095</td>\n",
       "      <td>13.400000</td>\n",
       "      <td>4.738462</td>\n",
       "      <td>0.615385</td>\n",
       "      <td>1.061538</td>\n",
       "    </tr>\n",
       "    <tr>\n",
       "      <th>SEASON 6</th>\n",
       "      <td>1068.0</td>\n",
       "      <td>0.42</td>\n",
       "      <td>0.45</td>\n",
       "      <td>27.0</td>\n",
       "      <td>265.0</td>\n",
       "      <td>0.400000</td>\n",
       "      <td>0.160000</td>\n",
       "      <td>0.440000</td>\n",
       "      <td>0.909091</td>\n",
       "      <td>0.238764</td>\n",
       "      <td>0.426966</td>\n",
       "      <td>12.720000</td>\n",
       "      <td>5.240000</td>\n",
       "      <td>0.595960</td>\n",
       "      <td>1.040000</td>\n",
       "    </tr>\n",
       "    <tr>\n",
       "      <th>SEASON 5</th>\n",
       "      <td>1002.0</td>\n",
       "      <td>0.46</td>\n",
       "      <td>0.36</td>\n",
       "      <td>19.0</td>\n",
       "      <td>201.0</td>\n",
       "      <td>0.347826</td>\n",
       "      <td>0.173913</td>\n",
       "      <td>0.478261</td>\n",
       "      <td>0.727273</td>\n",
       "      <td>0.220559</td>\n",
       "      <td>0.422156</td>\n",
       "      <td>15.086957</td>\n",
       "      <td>4.956522</td>\n",
       "      <td>0.667877</td>\n",
       "      <td>1.000000</td>\n",
       "    </tr>\n",
       "  </tbody>\n",
       "</table>\n",
       "</div>"
      ],
      "text/plain": [
       "SEASONS   TOTAL RAIDS  SUCCESS RAID %  SUCCESSFUL TACKLE %  \\\n",
       "OVERALL        2781.0            0.42                 0.42   \n",
       "SEASON 6       1068.0            0.42                 0.45   \n",
       "SEASON 5       1002.0            0.46                 0.36   \n",
       "\n",
       "SEASONS   NO. OF SUPER TACKLES  TOTAL DEFENCE POINTS      WIN%     DRAW%  \\\n",
       "OVERALL                   60.0                 646.0  0.415385  0.153846   \n",
       "SEASON 6                  27.0                 265.0  0.400000  0.160000   \n",
       "SEASON 5                  19.0                 201.0  0.347826  0.173913   \n",
       "\n",
       "SEASONS      LOSS%  WIN-LOSS%  UNSUCCESSFUL RAID%  EMPTY RAID%  \\\n",
       "OVERALL   0.430769   0.964286            0.233010     0.435095   \n",
       "SEASON 6  0.440000   0.909091            0.238764     0.426966   \n",
       "SEASON 5  0.478261   0.727273            0.220559     0.422156   \n",
       "\n",
       "SEASONS   AVG_RAID_TOUCH_POINT  AVG_RAID_BONUS_POINT  UNSUCCESSFUL TACKLE%  \\\n",
       "OVERALL              13.400000              4.738462              0.615385   \n",
       "SEASON 6             12.720000              5.240000              0.595960   \n",
       "SEASON 5             15.086957              4.956522              0.667877   \n",
       "\n",
       "SEASONS   AVG_ALL_OUTS  \n",
       "OVERALL       1.061538  \n",
       "SEASON 6      1.040000  \n",
       "SEASON 5      1.000000  "
      ]
     },
     "execution_count": 20,
     "metadata": {},
     "output_type": "execute_result"
    }
   ],
   "source": [
    "df4"
   ]
  },
  {
   "cell_type": "code",
   "execution_count": 21,
   "metadata": {},
   "outputs": [
    {
     "data": {
      "text/plain": [
       "(3, 6)"
      ]
     },
     "execution_count": 21,
     "metadata": {},
     "output_type": "execute_result"
    }
   ],
   "source": [
    "from sklearn.ensemble import ExtraTreesClassifier\n",
    "from sklearn.feature_selection import SelectFromModel\n",
    "X = df4\n",
    "y= df5\n",
    "clf = ExtraTreesClassifier(n_estimators=50)\n",
    "clf = clf.fit(X, y)\n",
    "clf.feature_importances_  \n",
    "model = SelectFromModel(clf, prefit=True)\n",
    "X_new = model.transform(X)\n",
    "X_new.shape\n"
   ]
  },
  {
   "cell_type": "code",
   "execution_count": 22,
   "metadata": {},
   "outputs": [
    {
     "name": "stdout",
     "output_type": "stream",
     "text": [
      "                FEATURES        Score\n",
      "0            TOTAL RAIDS  1256.860853\n",
      "4   TOTAL DEFENCE POINTS   306.778777\n",
      "3   NO. OF SUPER TACKLES    25.830189\n",
      "12  AVG_RAID_BONUS_POINT     0.017336\n",
      "8              WIN-LOSS%     0.016416\n"
     ]
    }
   ],
   "source": [
    "from sklearn.feature_selection import SelectKBest\n",
    "from sklearn.feature_selection import chi2\n",
    "\n",
    "#apply SelectKBest class to extract top 10 best features\n",
    "bestfeatures = SelectKBest(score_func=chi2, k=10)\n",
    "fit = bestfeatures.fit(X,y)\n",
    "dfscores = pd.DataFrame(fit.scores_)\n",
    "dfcolumns = pd.DataFrame(X.columns)\n",
    "\n",
    "#concat two dataframes for better visualization \n",
    "featureScores = pd.concat([dfcolumns,dfscores],axis=1)\n",
    "featureScores.columns = ['FEATURES','Score']  #naming the dataframe columns\n",
    "print(featureScores.nlargest(5,'Score'))  #print 10 best features"
   ]
  },
  {
   "cell_type": "code",
   "execution_count": 23,
   "metadata": {},
   "outputs": [
    {
     "name": "stderr",
     "output_type": "stream",
     "text": [
      "D:\\anaconda\\lib\\site-packages\\sklearn\\ensemble\\forest.py:245: FutureWarning:\n",
      "\n",
      "The default value of n_estimators will change from 10 in version 0.20 to 100 in 0.22.\n",
      "\n"
     ]
    },
    {
     "name": "stdout",
     "output_type": "stream",
     "text": [
      "[0.1   0.    0.    0.3   0.1   0.025 0.2   0.    0.175 0.    0.    0.\n",
      " 0.1   0.    0.   ]\n"
     ]
    },
    {
     "data": {
      "image/png": "[encoded data removed]",
      "text/plain": [
       "<Figure size 432x288 with 1 Axes>"
      ]
     },
     "metadata": {
      "needs_background": "light"
     },
     "output_type": "display_data"
    }
   ],
   "source": [
    "#Feature Importance \n",
    "from sklearn.ensemble import ExtraTreesClassifier\n",
    "import matplotlib.pyplot as plt\n",
    "%matplotlib inline\n",
    "\n",
    "model = ExtraTreesClassifier()\n",
    "model.fit(X,y)\n",
    "print(model.feature_importances_) #use inbuilt class feature_importances of tree based classifiers\n",
    "\n",
    "#plot graph of feature importances for better visualization\n",
    "feat_importances = pd.Series(model.feature_importances_, index=X.columns)\n",
    "feat_importances.nlargest(10).plot(kind='barh')\n",
    "plt.show()"
   ]
  },
  {
   "cell_type": "code",
   "execution_count": 24,
   "metadata": {},
   "outputs": [
    {
     "name": "stdout",
     "output_type": "stream",
     "text": [
      "Index(['TOTAL RAIDS', 'SUCCESS RAID %', 'SUCCESSFUL TACKLE %',\n",
      "       'NO. OF SUPER TACKLES', 'TOTAL DEFENCE POINTS', 'WIN%', 'LOSS%',\n",
      "       'WIN-LOSS%', 'AVG_RAID_TOUCH_POINT', 'AVG_RAID_BONUS_POINT',\n",
      "       'UNSUCCESSFUL TACKLE%', 'AVG_ALL_OUTS'],\n",
      "      dtype='object')\n"
     ]
    }
   ],
   "source": [
    "cols = list(X.columns)\n",
    "model = LinearRegression()\n",
    "#Initializing RFE model\n",
    "rfe = RFE(model,12)             \n",
    "#Transforming data using RFE\n",
    "X_rfe = rfe.fit_transform(X,y)  \n",
    "#Fitting the data to model\n",
    "model.fit(X_rfe,y)              \n",
    "temp = pd.Series(rfe.support_,index = cols)\n",
    "selected_features_rfe = temp[temp==True].index\n",
    "print(selected_features_rfe)"
   ]
  },
  {
   "cell_type": "code",
   "execution_count": 25,
   "metadata": {},
   "outputs": [
    {
     "data": {
      "text/plain": [
       "(3, 12)"
      ]
     },
     "execution_count": 25,
     "metadata": {},
     "output_type": "execute_result"
    }
   ],
   "source": [
    "X_features = df4.filter(['TOTAL RAIDS', 'SUCCESS RAID %', 'SUCCESSFUL TACKLE %',\n",
    "       'NO. OF SUPER TACKLES', 'TOTAL DEFENCE POINTS', 'WIN%', 'LOSS%',\n",
    "       'WIN-LOSS%', 'AVG_RAID_TOUCH_POINT', 'AVG_RAID_BONUS_POINT',\n",
    "       'UNSUCCESSFUL TACKLE%', 'AVG_ALL_OUTS'],axis=1)\n",
    "X_features.shape"
   ]
  },
  {
   "cell_type": "code",
   "execution_count": 60,
   "metadata": {},
   "outputs": [
    {
     "name": "stderr",
     "output_type": "stream",
     "text": [
      "Using Theano backend.\n"
     ]
    },
    {
     "name": "stdout",
     "output_type": "stream",
     "text": [
      "\n",
      "You can find the C code in this temporary file: C:\\Users\\ANINDA~1.BHA\\AppData\\Local\\Temp\\theano_compilation_error_8zu6v22h\n"
     ]
    },
    {
     "ename": "AttributeError",
     "evalue": "module 'theano' has no attribute 'gof'",
     "output_type": "error",
     "traceback": [
      "\u001b[1;31m---------------------------------------------------------------------------\u001b[0m",
      "\u001b[1;31mImportError\u001b[0m                               Traceback (most recent call last)",
      "\u001b[1;32mD:\\anaconda\\lib\\site-packages\\theano\\gof\\lazylinker_c.py\u001b[0m in \u001b[0;36m<module>\u001b[1;34m()\u001b[0m\n\u001b[0;32m     80\u001b[0m                     \u001b[0mversion\u001b[0m\u001b[1;33m,\u001b[0m\u001b[1;33m\u001b[0m\u001b[1;33m\u001b[0m\u001b[0m\n\u001b[1;32m---> 81\u001b[1;33m                     actual_version, force_compile, _need_reload))\n\u001b[0m\u001b[0;32m     82\u001b[0m \u001b[1;32mexcept\u001b[0m \u001b[0mImportError\u001b[0m\u001b[1;33m:\u001b[0m\u001b[1;33m\u001b[0m\u001b[1;33m\u001b[0m\u001b[0m\n",
      "\u001b[1;31mImportError\u001b[0m: Version check of the existing lazylinker compiled file. Looking for version 0.211, but found None. Extra debug information: force_compile=False, _need_reload=True",
      "\nDuring handling of the above exception, another exception occurred:\n",
      "\u001b[1;31mImportError\u001b[0m                               Traceback (most recent call last)",
      "\u001b[1;32mD:\\anaconda\\lib\\site-packages\\theano\\gof\\lazylinker_c.py\u001b[0m in \u001b[0;36m<module>\u001b[1;34m()\u001b[0m\n\u001b[0;32m    104\u001b[0m                         \u001b[0mversion\u001b[0m\u001b[1;33m,\u001b[0m\u001b[1;33m\u001b[0m\u001b[1;33m\u001b[0m\u001b[0m\n\u001b[1;32m--> 105\u001b[1;33m                         actual_version, force_compile, _need_reload))\n\u001b[0m\u001b[0;32m    106\u001b[0m         \u001b[1;32mexcept\u001b[0m \u001b[0mImportError\u001b[0m\u001b[1;33m:\u001b[0m\u001b[1;33m\u001b[0m\u001b[1;33m\u001b[0m\u001b[0m\n",
      "\u001b[1;31mImportError\u001b[0m: Version check of the existing lazylinker compiled file. Looking for version 0.211, but found None. Extra debug information: force_compile=False, _need_reload=True",
      "\nDuring handling of the above exception, another exception occurred:\n",
      "\u001b[1;31mException\u001b[0m                                 Traceback (most recent call last)",
      "\u001b[1;32mD:\\anaconda\\lib\\site-packages\\theano\\gof\\vm.py\u001b[0m in \u001b[0;36m<module>\u001b[1;34m()\u001b[0m\n\u001b[0;32m    673\u001b[0m         \u001b[1;32mraise\u001b[0m \u001b[0mtheano\u001b[0m\u001b[1;33m.\u001b[0m\u001b[0mgof\u001b[0m\u001b[1;33m.\u001b[0m\u001b[0mcmodule\u001b[0m\u001b[1;33m.\u001b[0m\u001b[0mMissingGXX\u001b[0m\u001b[1;33m(\u001b[0m\u001b[1;34m'lazylinker will not be imported if theano.config.cxx is not set.'\u001b[0m\u001b[1;33m)\u001b[0m\u001b[1;33m\u001b[0m\u001b[1;33m\u001b[0m\u001b[0m\n\u001b[1;32m--> 674\u001b[1;33m     \u001b[1;32mfrom\u001b[0m \u001b[1;33m.\u001b[0m \u001b[1;32mimport\u001b[0m \u001b[0mlazylinker_c\u001b[0m\u001b[1;33m\u001b[0m\u001b[1;33m\u001b[0m\u001b[0m\n\u001b[0m\u001b[0;32m    675\u001b[0m \u001b[1;33m\u001b[0m\u001b[0m\n",
      "\u001b[1;32mD:\\anaconda\\lib\\site-packages\\theano\\gof\\lazylinker_c.py\u001b[0m in \u001b[0;36m<module>\u001b[1;34m()\u001b[0m\n\u001b[0;32m    139\u001b[0m             cmodule.GCC_compiler.compile_str(dirname, code, location=loc,\n\u001b[1;32m--> 140\u001b[1;33m                                              preargs=args)\n\u001b[0m\u001b[0;32m    141\u001b[0m             \u001b[1;31m# Save version into the __init__.py file.\u001b[0m\u001b[1;33m\u001b[0m\u001b[1;33m\u001b[0m\u001b[1;33m\u001b[0m\u001b[0m\n",
      "\u001b[1;32mD:\\anaconda\\lib\\site-packages\\theano\\gof\\cmodule.py\u001b[0m in \u001b[0;36mcompile_str\u001b[1;34m(module_name, src_code, location, include_dirs, lib_dirs, libs, preargs, py_module, hide_symbols)\u001b[0m\n\u001b[0;32m   2395\u001b[0m             raise Exception('Compilation failed (return status=%s): %s' %\n\u001b[1;32m-> 2396\u001b[1;33m                             (status, compile_stderr.replace('\\n', '. ')))\n\u001b[0m\u001b[0;32m   2397\u001b[0m         \u001b[1;32melif\u001b[0m \u001b[0mconfig\u001b[0m\u001b[1;33m.\u001b[0m\u001b[0mcmodule\u001b[0m\u001b[1;33m.\u001b[0m\u001b[0mcompilation_warning\u001b[0m \u001b[1;32mand\u001b[0m \u001b[0mcompile_stderr\u001b[0m\u001b[1;33m:\u001b[0m\u001b[1;33m\u001b[0m\u001b[1;33m\u001b[0m\u001b[0m\n",
      "\u001b[1;31mException\u001b[0m: Compilation failed (return status=1): C:\\Users\\ANINDA~1.BHA\\AppData\\Local\\Temp\\cctKXJGZ.o: In function `_import_array':\r. D:/anaconda/lib/site-packages/numpy/core/include/numpy/__multiarray_api.h:1470: undefined reference to `__imp_PyExc_ImportError'\r. D:/anaconda/lib/site-packages/numpy/core/include/numpy/__multiarray_api.h:1476: undefined reference to `__imp_PyExc_AttributeError'\r. D:/anaconda/lib/site-packages/numpy/core/include/numpy/__multiarray_api.h:1481: undefined reference to `__imp_PyCapsule_Type'\r. D:/anaconda/lib/site-packages/numpy/core/include/numpy/__multiarray_api.h:1482: undefined reference to `__imp_PyExc_RuntimeError'\r. D:/anaconda/lib/site-packages/numpy/core/include/numpy/__multiarray_api.h:1497: undefined reference to `__imp_PyExc_RuntimeError'\r. D:/anaconda/lib/site-packages/numpy/core/include/numpy/__multiarray_api.h:1505: undefined reference to `__imp_PyExc_RuntimeError'\r. D:/anaconda/lib/site-packages/numpy/core/include/numpy/__multiarray_api.h:1511: undefined reference to `__imp_PyExc_RuntimeError'\r. D:/anaconda/lib/site-packages/numpy/core/include/numpy/__multiarray_api.h:1521: undefined reference to `__imp_PyExc_RuntimeError'\r. C:\\Users\\ANINDA~1.BHA\\AppData\\Local\\Temp\\cctKXJGZ.o:D:/anaconda/lib/site-packages/numpy/core/include/numpy/__multiarray_api.h:1533: more undefined references to `__imp_PyExc_RuntimeError' follow\r. C:\\Users\\ANINDA~1.BHA\\AppData\\Local\\Temp\\cctKXJGZ.o: In function `NpyCapsule_Check':\r. D:/anaconda/lib/site-packages/numpy/core/include/numpy/npy_3kcompat.h:468: undefined reference to `__imp_PyCapsule_Type'\r. C:\\Users\\ANINDA~1.BHA\\AppData\\Local\\Temp\\cctKXJGZ.o: In function `unpack_list_of_ssize_t':\r. C:/Users/aninda.bhattacharjee/AppData/Local/Theano/compiledir_Windows-10-10.0.18362-SP0-Intel64_Family_6_Model_142_Stepping_9_GenuineIntel-3.6.9-64/lazylinker_ext/mod.cpp:48: undefined reference to `__imp_PyExc_TypeError'\r. C:/Users/aninda.bhattacharjee/AppData/Local/Theano/compiledir_Windows-10-10.0.18362-SP0-Intel64_Family_6_Model_142_Stepping_9_GenuineIntel-3.6.9-64/lazylinker_ext/mod.cpp:58: undefined reference to `__imp_PyExc_IndexError'\r. C:\\Users\\ANINDA~1.BHA\\AppData\\Local\\Temp\\cctKXJGZ.o: In function `CLazyLinker_init':\r. C:/Users/aninda.bhattacharjee/AppData/Local/Theano/compiledir_Windows-10-10.0.18362-SP0-Intel64_Family_6_Model_142_Stepping_9_GenuineIntel-3.6.9-64/lazylinker_ext/mod.cpp:352: undefined reference to `__imp_PyExc_IndexError'\r. C:/Users/aninda.bhattacharjee/AppData/Local/Theano/compiledir_Windows-10-10.0.18362-SP0-Intel64_Family_6_Model_142_Stepping_9_GenuineIntel-3.6.9-64/lazylinker_ext/mod.cpp:370: undefined reference to `__imp_PyExc_IndexError'\r. C:/Users/aninda.bhattacharjee/AppData/Local/Theano/compiledir_Windows-10-10.0.18362-SP0-Intel64_Family_6_Model_142_Stepping_9_GenuineIntel-3.6.9-64/lazylinker_ext/mod.cpp:385: undefined reference to `__imp_PyExc_IndexError'\r. C:/Users/aninda.bhattacharjee/AppData/Local/Theano/compiledir_Windows-10-10.0.18362-SP0-Intel64_Family_6_Model_142_Stepping_9_GenuineIntel-3.6.9-64/lazylinker_ext/mod.cpp:389: undefined reference to `__imp_PyExc_IndexError'\r. C:\\Users\\ANINDA~1.BHA\\AppData\\Local\\Temp\\cctKXJGZ.o:C:/Users/aninda.bhattacharjee/AppData/Local/Theano/compiledir_Windows-10-10.0.18362-SP0-Intel64_Family_6_Model_142_Stepping_9_GenuineIntel-3.6.9-64/lazylinker_ext/mod.cpp:393: more undefined references to `__imp_PyExc_IndexError' follow\r. C:\\Users\\ANINDA~1.BHA\\AppData\\Local\\Temp\\cctKXJGZ.o: In function `CLazyLinker_init':\r. C:/Users/aninda.bhattacharjee/AppData/Local/Theano/compiledir_Windows-10-10.0.18362-SP0-Intel64_Family_6_Model_142_Stepping_9_GenuineIntel-3.6.9-64/lazylinker_ext/mod.cpp:405: undefined reference to `__imp_PyExc_TypeError'\r. C:/Users/aninda.bhattacharjee/AppData/Local/Theano/compiledir_Windows-10-10.0.18362-SP0-Intel64_Family_6_Model_142_Stepping_9_GenuineIntel-3.6.9-64/lazylinker_ext/mod.cpp:420: undefined reference to `__imp__Py_NoneStruct'\r. C:/Users/aninda.bhattacharjee/AppData/Local/Theano/compiledir_Windows-10-10.0.18362-SP0-Intel64_Family_6_Model_142_Stepping_9_GenuineIntel-3.6.9-64/lazylinker_ext/mod.cpp:426: undefined reference to `__imp_PyExc_IndexError'\r. C:/Users/aninda.bhattacharjee/AppData/Local/Theano/compiledir_Windows-10-10.0.18362-SP0-Intel64_Family_6_Model_142_Stepping_9_GenuineIntel-3.6.9-64/lazylinker_ext/mod.cpp:440: undefined reference to `__imp_PyExc_TypeError'\r. C:/Users/aninda.bhattacharjee/AppData/Local/Theano/compiledir_Windows-10-10.0.18362-SP0-Intel64_Family_6_Model_142_Stepping_9_GenuineIntel-3.6.9-64/lazylinker_ext/mod.cpp:444: undefined reference to `__imp__Py_NoneStruct'\r. C:\\Users\\ANINDA~1.BHA\\AppData\\Local\\Temp\\cctKXJGZ.o: In function `c_call':\r. C:/Users/aninda.bhattacharjee/AppData/Local/Theano/compiledir_Windows-10-10.0.18362-SP0-Intel64_Family_6_Model_142_Stepping_9_GenuineIntel-3.6.9-64/lazylinker_ext/mod.cpp:545: undefined reference to `__imp__Py_NoneStruct'\r. C:/Users/aninda.bhattacharjee/AppData/Local/Theano/compiledir_Windows-10-10.0.18362-SP0-Intel64_Family_6_Model_142_Stepping_9_GenuineIntel-3.6.9-64/lazylinker_ext/mod.cpp:545: undefined reference to `__imp__Py_NoneStruct'\r. C:/Users/aninda.bhattacharjee/AppData/Local/Theano/compiledir_Windows-10-10.0.18362-SP0-Intel64_Family_6_Model_142_Stepping_9_GenuineIntel-3.6.9-64/lazylinker_ext/mod.cpp:545: undefined reference to `__imp__Py_NoneStruct'\r. C:/Users/aninda.bhattacharjee/AppData/Local/Theano/compiledir_Windows-10-10.0.18362-SP0-Intel64_Family_6_Model_142_Stepping_9_GenuineIntel-3.6.9-64/lazylinker_ext/mod.cpp:546: undefined reference to `__imp__Py_NoneStruct'\r. C:\\Users\\ANINDA~1.BHA\\AppData\\Local\\Temp\\cctKXJGZ.o:C:/Users/aninda.bhattacharjee/AppData/Local/Theano/compiledir_Windows-10-10.0.18362-SP0-Intel64_Family_6_Model_142_Stepping_9_GenuineIntel-3.6.9-64/lazylinker_ext/mod.cpp:546: more undefined references to `__imp__Py_NoneStruct' follow\r. C:\\Users\\ANINDA~1.BHA\\AppData\\Local\\Temp\\cctKXJGZ.o: In function `lazy_rec_eval':\r. C:/Users/aninda.bhattacharjee/AppData/Local/Theano/compiledir_Windows-10-10.0.18362-SP0-Intel64_Family_6_Model_142_Stepping_9_GenuineIntel-3.6.9-64/lazylinker_ext/mod.cpp:618: undefined reference to `__imp_PyExc_IndexError'\r. C:/Users/aninda.bhattacharjee/AppData/Local/Theano/compiledir_Windows-10-10.0.18362-SP0-Intel64_Family_6_Model_142_Stepping_9_GenuineIntel-3.6.9-64/lazylinker_ext/mod.cpp:641: undefined reference to `__imp_PyExc_TypeError'\r. C:/Users/aninda.bhattacharjee/AppData/Local/Theano/compiledir_Windows-10-10.0.18362-SP0-Intel64_Family_6_Model_142_Stepping_9_GenuineIntel-3.6.9-64/lazylinker_ext/mod.cpp:649: undefined reference to `__imp_PyExc_ValueError'\r. C:/Users/aninda.bhattacharjee/AppData/Local/Theano/compiledir_Windows-10-10.0.18362-SP0-Intel64_Family_6_Model_142_Stepping_9_GenuineIntel-3.6.9-64/lazylinker_ext/mod.cpp:657: undefined reference to `__imp_PyExc_IndexError'\r. C:/Users/aninda.bhattacharjee/AppData/Local/Theano/compiledir_Windows-10-10.0.18362-SP0-Intel64_Family_6_Model_142_Stepping_9_GenuineIntel-3.6.9-64/lazylinker_ext/mod.cpp:708: undefined reference to `__imp__Py_NoneStruct'\r. C:/Users/aninda.bhattacharjee/AppData/Local/Theano/compiledir_Windows-10-10.0.18362-SP0-Intel64_Family_6_Model_142_Stepping_9_GenuineIntel-3.6.9-64/lazylinker_ext/mod.cpp:715: undefined reference to `__imp_PyExc_TypeError'\r. C:/Users/aninda.bhattacharjee/AppData/Local/Theano/compiledir_Windows-10-10.0.18362-SP0-Intel64_Family_6_Model_142_Stepping_9_GenuineIntel-3.6.9-64/lazylinker_ext/mod.cpp:721: undefined reference to `__imp_PyExc_TypeError'\r. C:/Users/aninda.bhattacharjee/AppData/Local/Theano/compiledir_Windows-10-10.0.18362-SP0-Intel64_Family_6_Model_142_Stepping_9_GenuineIntel-3.6.9-64/lazylinker_ext/mod.cpp:771: undefined reference to `__imp__Py_NoneStruct'\r. C:/Users/aninda.bhattacharjee/AppData/Local/Theano/compiledir_Windows-10-10.0.18362-SP0-Intel64_Family_6_Model_142_Stepping_9_GenuineIntel-3.6.9-64/lazylinker_ext/mod.cpp:771: undefined reference to `__imp__Py_NoneStruct'\r. C:/Users/aninda.bhattacharjee/AppData/Local/Theano/compiledir_Windows-10-10.0.18362-SP0-Intel64_Family_6_Model_142_Stepping_9_GenuineIntel-3.6.9-64/lazylinker_ext/mod.cpp:772: undefined reference to `__imp__Py_NoneStruct'\r. C:\\Users\\ANINDA~1.BHA\\AppData\\Local\\Temp\\cctKXJGZ.o: In function `CLazyLinker_call':\r. C:/Users/aninda.bhattacharjee/AppData/Local/Theano/compiledir_Windows-10-10.0.18362-SP0-Intel64_Family_6_Model_142_Stepping_9_GenuineIntel-3.6.9-64/lazylinker_ext/mod.cpp:814: undefined reference to `__imp_PyExc_RuntimeError'\r. C:/Users/aninda.bhattacharjee/AppData/Local/Theano/compiledir_Windows-10-10.0.18362-SP0-Intel64_Family_6_Model_142_Stepping_9_GenuineIntel-3.6.9-64/lazylinker_ext/mod.cpp:826: undefined reference to `__imp_PyExc_RuntimeError'\r. C:/Users/aninda.bhattacharjee/AppData/Local/Theano/compiledir_Windows-10-10.0.18362-SP0-Intel64_Family_6_Model_142_Stepping_9_GenuineIntel-3.6.9-64/lazylinker_ext/mod.cpp:839: undefined reference to `__imp__Py_NoneStruct'\r. C:/Users/aninda.bhattacharjee/AppData/Local/Theano/compiledir_Windows-10-10.0.18362-SP0-Intel64_Family_6_Model_142_Stepping_9_GenuineIntel-3.6.9-64/lazylinker_ext/mod.cpp:839: undefined reference to `__imp__Py_NoneStruct'\r. C:/Users/aninda.bhattacharjee/AppData/Local/Theano/compiledir_Windows-10-10.0.18362-SP0-Intel64_Family_6_Model_142_Stepping_9_GenuineIntel-3.6.9-64/lazylinker_ext/mod.cpp:840: undefined reference to `__imp__Py_NoneStruct'\r. C:/Users/aninda.bhattacharjee/AppData/Local/Theano/compiledir_Windows-10-10.0.18362-SP0-Intel64_Family_6_Model_142_Stepping_9_GenuineIntel-3.6.9-64/lazylinker_ext/mod.cpp:849: undefined reference to `__imp__Py_NoneStruct'\r. C:/Users/aninda.bhattacharjee/AppData/Local/Theano/compiledir_Windows-10-10.0.18362-SP0-Intel64_Family_6_Model_142_Stepping_9_GenuineIntel-3.6.9-64/lazylinker_ext/mod.cpp:849: undefined reference to `__imp__Py_NoneStruct'\r. C:\\Users\\ANINDA~1.BHA\\AppData\\Local\\Temp\\cctKXJGZ.o:C:/Users/aninda.bhattacharjee/AppData/Local/Theano/compiledir_Windows-10-10.0.18362-SP0-Intel64_Family_6_Model_142_Stepping_9_GenuineIntel-3.6.9-64/lazylinker_ext/mod.cpp:850: more undefined references to `__imp__Py_NoneStruct' follow\r. C:\\Users\\ANINDA~1.BHA\\AppData\\Local\\Temp\\cctKXJGZ.o: In function `CLazyLinker_call':\r. C:/Users/aninda.bhattacharjee/AppData/Local/Theano/compiledir_Windows-10-10.0.18362-SP0-Intel64_Family_6_Model_142_Stepping_9_GenuineIntel-3.6.9-64/lazylinker_ext/mod.cpp:894: undefined reference to `__imp_PyExc_AssertionError'\r. C:/Users/aninda.bhattacharjee/AppData/Local/Theano/compiledir_Windows-10-10.0.18362-SP0-Intel64_Family_6_Model_142_Stepping_9_GenuineIntel-3.6.9-64/lazylinker_ext/mod.cpp:937: undefined reference to `__imp__Py_NoneStruct'\r. C:/Users/aninda.bhattacharjee/AppData/Local/Theano/compiledir_Windows-10-10.0.18362-SP0-Intel64_Family_6_Model_142_Stepping_9_GenuineIntel-3.6.9-64/lazylinker_ext/mod.cpp:937: undefined reference to `__imp__Py_NoneStruct'\r. C:/Users/aninda.bhattacharjee/AppData/Local/Theano/compiledir_Windows-10-10.0.18362-SP0-Intel64_Family_6_Model_142_Stepping_9_GenuineIntel-3.6.9-64/lazylinker_ext/mod.cpp:938: undefined reference to `__imp__Py_NoneStruct'\r. C:\\Users\\ANINDA~1.BHA\\AppData\\Local\\Temp\\cctKXJGZ.o: In function `CLazyLinker_set_allow_gc':\r. C:/Users/aninda.bhattacharjee/AppData/Local/Theano/compiledir_Windows-10-10.0.18362-SP0-Intel64_Family_6_Model_142_Stepping_9_GenuineIntel-3.6.9-64/lazylinker_ext/mod.cpp:973: undefined reference to `__imp_PyBool_Type'\r. C:/Users/aninda.bhattacharjee/AppData/Local/Theano/compiledir_Windows-10-10.0.18362-SP0-Intel64_Family_6_Model_142_Stepping_9_GenuineIntel-3.6.9-64/lazylinker_ext/mod.cpp:976: undefined reference to `__imp__Py_TrueStruct'\r. collect2.exe: error: ld returned 1 exit status\r. ",
      "\nDuring handling of the above exception, another exception occurred:\n",
      "\u001b[1;31mAttributeError\u001b[0m                            Traceback (most recent call last)",
      "\u001b[1;32m<ipython-input-60-e42f4e18d2a5>\u001b[0m in \u001b[0;36m<module>\u001b[1;34m()\u001b[0m\n\u001b[0;32m      1\u001b[0m \u001b[1;32mimport\u001b[0m \u001b[0mos\u001b[0m\u001b[1;33m\u001b[0m\u001b[1;33m\u001b[0m\u001b[0m\n\u001b[0;32m      2\u001b[0m \u001b[0mos\u001b[0m\u001b[1;33m.\u001b[0m\u001b[0menviron\u001b[0m\u001b[1;33m[\u001b[0m\u001b[1;34m'KERAS_BACKEND'\u001b[0m\u001b[1;33m]\u001b[0m \u001b[1;33m=\u001b[0m \u001b[1;34m'theano'\u001b[0m\u001b[1;33m\u001b[0m\u001b[1;33m\u001b[0m\u001b[0m\n\u001b[1;32m----> 3\u001b[1;33m \u001b[1;32mimport\u001b[0m \u001b[0mkeras\u001b[0m \u001b[1;32mas\u001b[0m \u001b[0mks\u001b[0m\u001b[1;33m\u001b[0m\u001b[1;33m\u001b[0m\u001b[0m\n\u001b[0m",
      "\u001b[1;32mD:\\anaconda\\lib\\site-packages\\keras\\__init__.py\u001b[0m in \u001b[0;36m<module>\u001b[1;34m()\u001b[0m\n\u001b[0;32m      1\u001b[0m \u001b[1;32mfrom\u001b[0m \u001b[0m__future__\u001b[0m \u001b[1;32mimport\u001b[0m \u001b[0mabsolute_import\u001b[0m\u001b[1;33m\u001b[0m\u001b[1;33m\u001b[0m\u001b[0m\n\u001b[0;32m      2\u001b[0m \u001b[1;33m\u001b[0m\u001b[0m\n\u001b[1;32m----> 3\u001b[1;33m \u001b[1;32mfrom\u001b[0m \u001b[1;33m.\u001b[0m \u001b[1;32mimport\u001b[0m \u001b[0mutils\u001b[0m\u001b[1;33m\u001b[0m\u001b[1;33m\u001b[0m\u001b[0m\n\u001b[0m\u001b[0;32m      4\u001b[0m \u001b[1;32mfrom\u001b[0m \u001b[1;33m.\u001b[0m \u001b[1;32mimport\u001b[0m \u001b[0mactivations\u001b[0m\u001b[1;33m\u001b[0m\u001b[1;33m\u001b[0m\u001b[0m\n\u001b[0;32m      5\u001b[0m \u001b[1;32mfrom\u001b[0m \u001b[1;33m.\u001b[0m \u001b[1;32mimport\u001b[0m \u001b[0mapplications\u001b[0m\u001b[1;33m\u001b[0m\u001b[1;33m\u001b[0m\u001b[0m\n",
      "\u001b[1;32mD:\\anaconda\\lib\\site-packages\\keras\\utils\\__init__.py\u001b[0m in \u001b[0;36m<module>\u001b[1;34m()\u001b[0m\n\u001b[0;32m      4\u001b[0m \u001b[1;32mfrom\u001b[0m \u001b[1;33m.\u001b[0m \u001b[1;32mimport\u001b[0m \u001b[0mdata_utils\u001b[0m\u001b[1;33m\u001b[0m\u001b[1;33m\u001b[0m\u001b[0m\n\u001b[0;32m      5\u001b[0m \u001b[1;32mfrom\u001b[0m \u001b[1;33m.\u001b[0m \u001b[1;32mimport\u001b[0m \u001b[0mio_utils\u001b[0m\u001b[1;33m\u001b[0m\u001b[1;33m\u001b[0m\u001b[0m\n\u001b[1;32m----> 6\u001b[1;33m \u001b[1;32mfrom\u001b[0m \u001b[1;33m.\u001b[0m \u001b[1;32mimport\u001b[0m \u001b[0mconv_utils\u001b[0m\u001b[1;33m\u001b[0m\u001b[1;33m\u001b[0m\u001b[0m\n\u001b[0m\u001b[0;32m      7\u001b[0m \u001b[1;33m\u001b[0m\u001b[0m\n\u001b[0;32m      8\u001b[0m \u001b[1;31m# Globally-importable utils.\u001b[0m\u001b[1;33m\u001b[0m\u001b[1;33m\u001b[0m\u001b[1;33m\u001b[0m\u001b[0m\n",
      "\u001b[1;32mD:\\anaconda\\lib\\site-packages\\keras\\utils\\conv_utils.py\u001b[0m in \u001b[0;36m<module>\u001b[1;34m()\u001b[0m\n\u001b[0;32m      7\u001b[0m \u001b[1;32mfrom\u001b[0m \u001b[0msix\u001b[0m\u001b[1;33m.\u001b[0m\u001b[0mmoves\u001b[0m \u001b[1;32mimport\u001b[0m \u001b[0mrange\u001b[0m\u001b[1;33m\u001b[0m\u001b[1;33m\u001b[0m\u001b[0m\n\u001b[0;32m      8\u001b[0m \u001b[1;32mimport\u001b[0m \u001b[0mnumpy\u001b[0m \u001b[1;32mas\u001b[0m \u001b[0mnp\u001b[0m\u001b[1;33m\u001b[0m\u001b[1;33m\u001b[0m\u001b[0m\n\u001b[1;32m----> 9\u001b[1;33m \u001b[1;32mfrom\u001b[0m \u001b[1;33m.\u001b[0m\u001b[1;33m.\u001b[0m \u001b[1;32mimport\u001b[0m \u001b[0mbackend\u001b[0m \u001b[1;32mas\u001b[0m \u001b[0mK\u001b[0m\u001b[1;33m\u001b[0m\u001b[1;33m\u001b[0m\u001b[0m\n\u001b[0m\u001b[0;32m     10\u001b[0m \u001b[1;33m\u001b[0m\u001b[0m\n\u001b[0;32m     11\u001b[0m \u001b[1;33m\u001b[0m\u001b[0m\n",
      "\u001b[1;32mD:\\anaconda\\lib\\site-packages\\keras\\backend\\__init__.py\u001b[0m in \u001b[0;36m<module>\u001b[1;34m()\u001b[0m\n\u001b[0;32m     84\u001b[0m \u001b[1;32melif\u001b[0m \u001b[0m_BACKEND\u001b[0m \u001b[1;33m==\u001b[0m \u001b[1;34m'theano'\u001b[0m\u001b[1;33m:\u001b[0m\u001b[1;33m\u001b[0m\u001b[1;33m\u001b[0m\u001b[0m\n\u001b[0;32m     85\u001b[0m     \u001b[0msys\u001b[0m\u001b[1;33m.\u001b[0m\u001b[0mstderr\u001b[0m\u001b[1;33m.\u001b[0m\u001b[0mwrite\u001b[0m\u001b[1;33m(\u001b[0m\u001b[1;34m'Using Theano backend.\\n'\u001b[0m\u001b[1;33m)\u001b[0m\u001b[1;33m\u001b[0m\u001b[1;33m\u001b[0m\u001b[0m\n\u001b[1;32m---> 86\u001b[1;33m     \u001b[1;32mfrom\u001b[0m \u001b[1;33m.\u001b[0m\u001b[0mtheano_backend\u001b[0m \u001b[1;32mimport\u001b[0m \u001b[1;33m*\u001b[0m\u001b[1;33m\u001b[0m\u001b[1;33m\u001b[0m\u001b[0m\n\u001b[0m\u001b[0;32m     87\u001b[0m \u001b[1;32melif\u001b[0m \u001b[0m_BACKEND\u001b[0m \u001b[1;33m==\u001b[0m \u001b[1;34m'tensorflow'\u001b[0m\u001b[1;33m:\u001b[0m\u001b[1;33m\u001b[0m\u001b[1;33m\u001b[0m\u001b[0m\n\u001b[0;32m     88\u001b[0m     \u001b[0msys\u001b[0m\u001b[1;33m.\u001b[0m\u001b[0mstderr\u001b[0m\u001b[1;33m.\u001b[0m\u001b[0mwrite\u001b[0m\u001b[1;33m(\u001b[0m\u001b[1;34m'Using TensorFlow backend.\\n'\u001b[0m\u001b[1;33m)\u001b[0m\u001b[1;33m\u001b[0m\u001b[1;33m\u001b[0m\u001b[0m\n",
      "\u001b[1;32mD:\\anaconda\\lib\\site-packages\\keras\\backend\\theano_backend.py\u001b[0m in \u001b[0;36m<module>\u001b[1;34m()\u001b[0m\n\u001b[0;32m      5\u001b[0m \u001b[1;32mfrom\u001b[0m \u001b[0mcollections\u001b[0m \u001b[1;32mimport\u001b[0m \u001b[0mdefaultdict\u001b[0m\u001b[1;33m\u001b[0m\u001b[1;33m\u001b[0m\u001b[0m\n\u001b[0;32m      6\u001b[0m \u001b[1;32mfrom\u001b[0m \u001b[0mcontextlib\u001b[0m \u001b[1;32mimport\u001b[0m \u001b[0mcontextmanager\u001b[0m\u001b[1;33m\u001b[0m\u001b[1;33m\u001b[0m\u001b[0m\n\u001b[1;32m----> 7\u001b[1;33m \u001b[1;32mimport\u001b[0m \u001b[0mtheano\u001b[0m\u001b[1;33m\u001b[0m\u001b[1;33m\u001b[0m\u001b[0m\n\u001b[0m\u001b[0;32m      8\u001b[0m \u001b[1;32mfrom\u001b[0m \u001b[0mtheano\u001b[0m \u001b[1;32mimport\u001b[0m \u001b[0mtensor\u001b[0m \u001b[1;32mas\u001b[0m \u001b[0mT\u001b[0m\u001b[1;33m\u001b[0m\u001b[1;33m\u001b[0m\u001b[0m\n\u001b[0;32m      9\u001b[0m \u001b[1;32mfrom\u001b[0m \u001b[0mtheano\u001b[0m\u001b[1;33m.\u001b[0m\u001b[0msandbox\u001b[0m\u001b[1;33m.\u001b[0m\u001b[0mrng_mrg\u001b[0m \u001b[1;32mimport\u001b[0m \u001b[0mMRG_RandomStreams\u001b[0m \u001b[1;32mas\u001b[0m \u001b[0mRandomStreams\u001b[0m\u001b[1;33m\u001b[0m\u001b[1;33m\u001b[0m\u001b[0m\n",
      "\u001b[1;32mD:\\anaconda\\lib\\site-packages\\theano\\__init__.py\u001b[0m in \u001b[0;36m<module>\u001b[1;34m()\u001b[0m\n\u001b[0;32m    108\u001b[0m     object2, utils)\n\u001b[0;32m    109\u001b[0m \u001b[1;33m\u001b[0m\u001b[0m\n\u001b[1;32m--> 110\u001b[1;33m from theano.compile import (\n\u001b[0m\u001b[0;32m    111\u001b[0m     \u001b[0mSymbolicInput\u001b[0m\u001b[1;33m,\u001b[0m \u001b[0mIn\u001b[0m\u001b[1;33m,\u001b[0m\u001b[1;33m\u001b[0m\u001b[1;33m\u001b[0m\u001b[0m\n\u001b[0;32m    112\u001b[0m     \u001b[0mSymbolicOutput\u001b[0m\u001b[1;33m,\u001b[0m \u001b[0mOut\u001b[0m\u001b[1;33m,\u001b[0m\u001b[1;33m\u001b[0m\u001b[1;33m\u001b[0m\u001b[0m\n",
      "\u001b[1;32mD:\\anaconda\\lib\\site-packages\\theano\\compile\\__init__.py\u001b[0m in \u001b[0;36m<module>\u001b[1;34m()\u001b[0m\n\u001b[0;32m     10\u001b[0m \u001b[1;32mfrom\u001b[0m \u001b[0mtheano\u001b[0m\u001b[1;33m.\u001b[0m\u001b[0mcompile\u001b[0m\u001b[1;33m.\u001b[0m\u001b[0mfunction_module\u001b[0m \u001b[1;32mimport\u001b[0m \u001b[1;33m*\u001b[0m\u001b[1;33m\u001b[0m\u001b[1;33m\u001b[0m\u001b[0m\n\u001b[0;32m     11\u001b[0m \u001b[1;33m\u001b[0m\u001b[0m\n\u001b[1;32m---> 12\u001b[1;33m \u001b[1;32mfrom\u001b[0m \u001b[0mtheano\u001b[0m\u001b[1;33m.\u001b[0m\u001b[0mcompile\u001b[0m\u001b[1;33m.\u001b[0m\u001b[0mmode\u001b[0m \u001b[1;32mimport\u001b[0m \u001b[1;33m*\u001b[0m\u001b[1;33m\u001b[0m\u001b[1;33m\u001b[0m\u001b[0m\n\u001b[0m\u001b[0;32m     13\u001b[0m \u001b[1;33m\u001b[0m\u001b[0m\n\u001b[0;32m     14\u001b[0m \u001b[1;32mfrom\u001b[0m \u001b[0mtheano\u001b[0m\u001b[1;33m.\u001b[0m\u001b[0mcompile\u001b[0m\u001b[1;33m.\u001b[0m\u001b[0mio\u001b[0m \u001b[1;32mimport\u001b[0m \u001b[1;33m*\u001b[0m\u001b[1;33m\u001b[0m\u001b[1;33m\u001b[0m\u001b[0m\n",
      "\u001b[1;32mD:\\anaconda\\lib\\site-packages\\theano\\compile\\mode.py\u001b[0m in \u001b[0;36m<module>\u001b[1;34m()\u001b[0m\n\u001b[0;32m      9\u001b[0m \u001b[1;32mimport\u001b[0m \u001b[0mtheano\u001b[0m\u001b[1;33m\u001b[0m\u001b[1;33m\u001b[0m\u001b[0m\n\u001b[0;32m     10\u001b[0m \u001b[1;32mfrom\u001b[0m \u001b[0mtheano\u001b[0m \u001b[1;32mimport\u001b[0m \u001b[0mgof\u001b[0m\u001b[1;33m\u001b[0m\u001b[1;33m\u001b[0m\u001b[0m\n\u001b[1;32m---> 11\u001b[1;33m \u001b[1;32mimport\u001b[0m \u001b[0mtheano\u001b[0m\u001b[1;33m.\u001b[0m\u001b[0mgof\u001b[0m\u001b[1;33m.\u001b[0m\u001b[0mvm\u001b[0m\u001b[1;33m\u001b[0m\u001b[1;33m\u001b[0m\u001b[0m\n\u001b[0m\u001b[0;32m     12\u001b[0m \u001b[1;32mfrom\u001b[0m \u001b[0mtheano\u001b[0m \u001b[1;32mimport\u001b[0m \u001b[0mconfig\u001b[0m\u001b[1;33m\u001b[0m\u001b[1;33m\u001b[0m\u001b[0m\n\u001b[0;32m     13\u001b[0m \u001b[1;32mfrom\u001b[0m \u001b[0msix\u001b[0m \u001b[1;32mimport\u001b[0m \u001b[0mstring_types\u001b[0m\u001b[1;33m\u001b[0m\u001b[1;33m\u001b[0m\u001b[0m\n",
      "\u001b[1;32mD:\\anaconda\\lib\\site-packages\\theano\\gof\\vm.py\u001b[0m in \u001b[0;36m<module>\u001b[1;34m()\u001b[0m\n\u001b[0;32m    681\u001b[0m \u001b[1;32mexcept\u001b[0m \u001b[0mImportError\u001b[0m\u001b[1;33m:\u001b[0m\u001b[1;33m\u001b[0m\u001b[1;33m\u001b[0m\u001b[0m\n\u001b[0;32m    682\u001b[0m     \u001b[1;32mpass\u001b[0m\u001b[1;33m\u001b[0m\u001b[1;33m\u001b[0m\u001b[0m\n\u001b[1;32m--> 683\u001b[1;33m \u001b[1;32mexcept\u001b[0m \u001b[1;33m(\u001b[0m\u001b[0mOSError\u001b[0m\u001b[1;33m,\u001b[0m \u001b[0mtheano\u001b[0m\u001b[1;33m.\u001b[0m\u001b[0mgof\u001b[0m\u001b[1;33m.\u001b[0m\u001b[0mcmodule\u001b[0m\u001b[1;33m.\u001b[0m\u001b[0mMissingGXX\u001b[0m\u001b[1;33m)\u001b[0m \u001b[1;32mas\u001b[0m \u001b[0me\u001b[0m\u001b[1;33m:\u001b[0m\u001b[1;33m\u001b[0m\u001b[1;33m\u001b[0m\u001b[0m\n\u001b[0m\u001b[0;32m    684\u001b[0m     \u001b[1;31m# OSError happens when g++ is not installed.  In that case, we\u001b[0m\u001b[1;33m\u001b[0m\u001b[1;33m\u001b[0m\u001b[1;33m\u001b[0m\u001b[0m\n\u001b[0;32m    685\u001b[0m     \u001b[1;31m# already changed the default linker to something else then CVM.\u001b[0m\u001b[1;33m\u001b[0m\u001b[1;33m\u001b[0m\u001b[1;33m\u001b[0m\u001b[0m\n",
      "\u001b[1;31mAttributeError\u001b[0m: module 'theano' has no attribute 'gof'"
     ]
    }
   ],
   "source": [
    "import os\n",
    "os.environ['KERAS_BACKEND'] = 'theano'\n",
    "import keras as ks\n"
   ]
  },
  {
   "cell_type": "code",
   "execution_count": null,
   "metadata": {},
   "outputs": [],
   "source": [
    "import keras\n",
    "from keras.models import Sequential\n",
    "from keras.layers import Dense"
   ]
  },
  {
   "cell_type": "code",
   "execution_count": null,
   "metadata": {},
   "outputs": [],
   "source": [
    "# define the keras model\n",
    "model = Sequential()\n",
    "model.add(Dense(12, input_dim=12, activation='relu'))\n",
    "model.add(Dense(8, activation='relu'))\n",
    "model.add(Dense(1, activation='sigmoid'))"
   ]
  },
  {
   "cell_type": "code",
   "execution_count": null,
   "metadata": {},
   "outputs": [],
   "source": [
    "# compile the keras model\n",
    "model.compile(loss='binary_crossentropy', optimizer='adam', metrics=['accuracy'])"
   ]
  },
  {
   "cell_type": "code",
   "execution_count": null,
   "metadata": {},
   "outputs": [],
   "source": [
    "# fit the keras model on the dataset\n",
    "model.fit(X_features, y, epochs=150, batch_size=10)"
   ]
  },
  {
   "cell_type": "code",
   "execution_count": null,
   "metadata": {},
   "outputs": [],
   "source": [
    "# evaluate the keras model\n",
    "_, accuracy = model.evaluate(X_features, y)\n",
    "print('Accuracy: %.2f' % (accuracy*100))"
   ]
  },
  {
   "cell_type": "code",
   "execution_count": 26,
   "metadata": {},
   "outputs": [
    {
     "data": {
      "text/plain": [
       "['TOTAL RAIDS',\n",
       " 'SUCCESS RAID %',\n",
       " 'SUCCESSFUL TACKLE %',\n",
       " 'NO. OF SUPER TACKLES',\n",
       " 'TOTAL DEFENCE POINTS',\n",
       " 'WIN%',\n",
       " 'LOSS%',\n",
       " 'WIN-LOSS%',\n",
       " 'AVG_RAID_TOUCH_POINT',\n",
       " 'AVG_RAID_BONUS_POINT',\n",
       " 'UNSUCCESSFUL TACKLE%',\n",
       " 'AVG_ALL_OUTS']"
      ]
     },
     "execution_count": 26,
     "metadata": {},
     "output_type": "execute_result"
    }
   ],
   "source": [
    "f_select =['TOTAL RAIDS', 'SUCCESS RAID %', 'SUCCESSFUL TACKLE %',\n",
    "       'NO. OF SUPER TACKLES', 'TOTAL DEFENCE POINTS', 'WIN%', 'LOSS%',\n",
    "       'WIN-LOSS%', 'AVG_RAID_TOUCH_POINT', 'AVG_RAID_BONUS_POINT',\n",
    "       'UNSUCCESSFUL TACKLE%', 'AVG_ALL_OUTS']\n",
    "f_select"
   ]
  },
  {
   "cell_type": "code",
   "execution_count": 27,
   "metadata": {},
   "outputs": [
    {
     "data": {
      "text/plain": [
       "array([[ 1.19637451e+03, -1.04767951e+00,  2.61793535e-15],\n",
       "       [-5.58612195e+02,  2.42777586e+01,  2.61793535e-15],\n",
       "       [-6.37762317e+02, -2.32300791e+01,  2.61793535e-15]])"
      ]
     },
     "execution_count": 27,
     "metadata": {},
     "output_type": "execute_result"
    }
   ],
   "source": [
    "#Using PCA to transform and decouple the dataset defined by the selected features\n",
    "from sklearn.decomposition import PCA\n",
    "pca = PCA()  \n",
    "XX = pca.fit_transform(X[f_select]) # XX is out new training matrix that has two basis vectors\n",
    "XX"
   ]
  },
  {
   "cell_type": "code",
   "execution_count": 28,
   "metadata": {},
   "outputs": [],
   "source": [
    "#X_train, X_test, y_train, y_test = train_test_split(X, y, test_size = 0.3, random_state = 0)"
   ]
  },
  {
   "cell_type": "code",
   "execution_count": 29,
   "metadata": {},
   "outputs": [
    {
     "data": {
      "text/html": [
       "<div>\n",
       "<style scoped>\n",
       "    .dataframe tbody tr th:only-of-type {\n",
       "        vertical-align: middle;\n",
       "    }\n",
       "\n",
       "    .dataframe tbody tr th {\n",
       "        vertical-align: top;\n",
       "    }\n",
       "\n",
       "    .dataframe thead th {\n",
       "        text-align: right;\n",
       "    }\n",
       "</style>\n",
       "<table border=\"1\" class=\"dataframe\">\n",
       "  <thead>\n",
       "    <tr style=\"text-align: right;\">\n",
       "      <th>SEASONS</th>\n",
       "      <th>FINISHING POSITION</th>\n",
       "      <th>TOTAL RAIDS</th>\n",
       "      <th>SUCCESS RAID %</th>\n",
       "      <th>SUCCESSFUL TACKLE %</th>\n",
       "      <th>NO. OF SUPER TACKLES</th>\n",
       "      <th>TOTAL DEFENCE POINTS</th>\n",
       "      <th>WIN%</th>\n",
       "      <th>DRAW%</th>\n",
       "      <th>LOSS%</th>\n",
       "      <th>WIN-LOSS%</th>\n",
       "      <th>UNSUCCESSFUL RAID%</th>\n",
       "      <th>EMPTY RAID%</th>\n",
       "      <th>AVG_RAID_TOUCH_POINT</th>\n",
       "      <th>AVG_RAID_BONUS_POINT</th>\n",
       "      <th>UNSUCCESSFUL TACKLE%</th>\n",
       "      <th>AVG_ALL_OUTS</th>\n",
       "    </tr>\n",
       "  </thead>\n",
       "  <tbody>\n",
       "    <tr>\n",
       "      <th>OVERALL</th>\n",
       "      <td>0.0</td>\n",
       "      <td>2781.0</td>\n",
       "      <td>0.42</td>\n",
       "      <td>0.42</td>\n",
       "      <td>60.0</td>\n",
       "      <td>646.0</td>\n",
       "      <td>0.415385</td>\n",
       "      <td>0.153846</td>\n",
       "      <td>0.430769</td>\n",
       "      <td>0.964286</td>\n",
       "      <td>0.233010</td>\n",
       "      <td>0.435095</td>\n",
       "      <td>13.400000</td>\n",
       "      <td>4.738462</td>\n",
       "      <td>0.615385</td>\n",
       "      <td>1.061538</td>\n",
       "    </tr>\n",
       "    <tr>\n",
       "      <th>SEASON 7</th>\n",
       "      <td>4.0</td>\n",
       "      <td>711.0</td>\n",
       "      <td>0.38</td>\n",
       "      <td>0.46</td>\n",
       "      <td>14.0</td>\n",
       "      <td>180.0</td>\n",
       "      <td>0.529412</td>\n",
       "      <td>0.117647</td>\n",
       "      <td>0.352941</td>\n",
       "      <td>1.500000</td>\n",
       "      <td>0.241913</td>\n",
       "      <td>0.465541</td>\n",
       "      <td>12.117647</td>\n",
       "      <td>3.705882</td>\n",
       "      <td>0.570694</td>\n",
       "      <td>1.176471</td>\n",
       "    </tr>\n",
       "    <tr>\n",
       "      <th>SEASON 6</th>\n",
       "      <td>3.0</td>\n",
       "      <td>1068.0</td>\n",
       "      <td>0.42</td>\n",
       "      <td>0.45</td>\n",
       "      <td>27.0</td>\n",
       "      <td>265.0</td>\n",
       "      <td>0.400000</td>\n",
       "      <td>0.160000</td>\n",
       "      <td>0.440000</td>\n",
       "      <td>0.909091</td>\n",
       "      <td>0.238764</td>\n",
       "      <td>0.426966</td>\n",
       "      <td>12.720000</td>\n",
       "      <td>5.240000</td>\n",
       "      <td>0.595960</td>\n",
       "      <td>1.040000</td>\n",
       "    </tr>\n",
       "    <tr>\n",
       "      <th>SEASON 5</th>\n",
       "      <td>3.0</td>\n",
       "      <td>1002.0</td>\n",
       "      <td>0.46</td>\n",
       "      <td>0.36</td>\n",
       "      <td>19.0</td>\n",
       "      <td>201.0</td>\n",
       "      <td>0.347826</td>\n",
       "      <td>0.173913</td>\n",
       "      <td>0.478261</td>\n",
       "      <td>0.727273</td>\n",
       "      <td>0.220559</td>\n",
       "      <td>0.422156</td>\n",
       "      <td>15.086957</td>\n",
       "      <td>4.956522</td>\n",
       "      <td>0.667877</td>\n",
       "      <td>1.000000</td>\n",
       "    </tr>\n",
       "  </tbody>\n",
       "</table>\n",
       "</div>"
      ],
      "text/plain": [
       "SEASONS   FINISHING POSITION  TOTAL RAIDS  SUCCESS RAID %  \\\n",
       "OVERALL                  0.0       2781.0            0.42   \n",
       "SEASON 7                 4.0        711.0            0.38   \n",
       "SEASON 6                 3.0       1068.0            0.42   \n",
       "SEASON 5                 3.0       1002.0            0.46   \n",
       "\n",
       "SEASONS   SUCCESSFUL TACKLE %  NO. OF SUPER TACKLES  TOTAL DEFENCE POINTS  \\\n",
       "OVERALL                  0.42                  60.0                 646.0   \n",
       "SEASON 7                 0.46                  14.0                 180.0   \n",
       "SEASON 6                 0.45                  27.0                 265.0   \n",
       "SEASON 5                 0.36                  19.0                 201.0   \n",
       "\n",
       "SEASONS       WIN%     DRAW%     LOSS%  WIN-LOSS%  UNSUCCESSFUL RAID%  \\\n",
       "OVERALL   0.415385  0.153846  0.430769   0.964286            0.233010   \n",
       "SEASON 7  0.529412  0.117647  0.352941   1.500000            0.241913   \n",
       "SEASON 6  0.400000  0.160000  0.440000   0.909091            0.238764   \n",
       "SEASON 5  0.347826  0.173913  0.478261   0.727273            0.220559   \n",
       "\n",
       "SEASONS   EMPTY RAID%  AVG_RAID_TOUCH_POINT  AVG_RAID_BONUS_POINT  \\\n",
       "OVERALL      0.435095             13.400000              4.738462   \n",
       "SEASON 7     0.465541             12.117647              3.705882   \n",
       "SEASON 6     0.426966             12.720000              5.240000   \n",
       "SEASON 5     0.422156             15.086957              4.956522   \n",
       "\n",
       "SEASONS   UNSUCCESSFUL TACKLE%  AVG_ALL_OUTS  \n",
       "OVERALL               0.615385      1.061538  \n",
       "SEASON 7              0.570694      1.176471  \n",
       "SEASON 6              0.595960      1.040000  \n",
       "SEASON 5              0.667877      1.000000  "
      ]
     },
     "execution_count": 29,
     "metadata": {},
     "output_type": "execute_result"
    }
   ],
   "source": [
    "df6"
   ]
  },
  {
   "cell_type": "code",
   "execution_count": 30,
   "metadata": {},
   "outputs": [],
   "source": [
    "X_train = X\n",
    "y_train =y \n",
    "X_test = df6.drop(['SEASON 6','SEASON 5','OVERALL'],axis=0)\n",
    "X_test = X_test.drop(['FINISHING POSITION'], axis=1)\n",
    "y_test = df6['FINISHING POSITION']\n",
    "y_test = y_test.drop(['SEASON 6','SEASON 5','OVERALL'],axis=0)"
   ]
  },
  {
   "cell_type": "code",
   "execution_count": 31,
   "metadata": {},
   "outputs": [
    {
     "data": {
      "text/html": [
       "<div>\n",
       "<style scoped>\n",
       "    .dataframe tbody tr th:only-of-type {\n",
       "        vertical-align: middle;\n",
       "    }\n",
       "\n",
       "    .dataframe tbody tr th {\n",
       "        vertical-align: top;\n",
       "    }\n",
       "\n",
       "    .dataframe thead th {\n",
       "        text-align: right;\n",
       "    }\n",
       "</style>\n",
       "<table border=\"1\" class=\"dataframe\">\n",
       "  <thead>\n",
       "    <tr style=\"text-align: right;\">\n",
       "      <th>SEASONS</th>\n",
       "      <th>TOTAL RAIDS</th>\n",
       "      <th>SUCCESS RAID %</th>\n",
       "      <th>SUCCESSFUL TACKLE %</th>\n",
       "      <th>NO. OF SUPER TACKLES</th>\n",
       "      <th>TOTAL DEFENCE POINTS</th>\n",
       "      <th>WIN%</th>\n",
       "      <th>DRAW%</th>\n",
       "      <th>LOSS%</th>\n",
       "      <th>WIN-LOSS%</th>\n",
       "      <th>UNSUCCESSFUL RAID%</th>\n",
       "      <th>EMPTY RAID%</th>\n",
       "      <th>AVG_RAID_TOUCH_POINT</th>\n",
       "      <th>AVG_RAID_BONUS_POINT</th>\n",
       "      <th>UNSUCCESSFUL TACKLE%</th>\n",
       "      <th>AVG_ALL_OUTS</th>\n",
       "    </tr>\n",
       "  </thead>\n",
       "  <tbody>\n",
       "    <tr>\n",
       "      <th>SEASON 7</th>\n",
       "      <td>711.0</td>\n",
       "      <td>0.38</td>\n",
       "      <td>0.46</td>\n",
       "      <td>14.0</td>\n",
       "      <td>180.0</td>\n",
       "      <td>0.529412</td>\n",
       "      <td>0.117647</td>\n",
       "      <td>0.352941</td>\n",
       "      <td>1.5</td>\n",
       "      <td>0.241913</td>\n",
       "      <td>0.465541</td>\n",
       "      <td>12.117647</td>\n",
       "      <td>3.705882</td>\n",
       "      <td>0.570694</td>\n",
       "      <td>1.176471</td>\n",
       "    </tr>\n",
       "  </tbody>\n",
       "</table>\n",
       "</div>"
      ],
      "text/plain": [
       "SEASONS   TOTAL RAIDS  SUCCESS RAID %  SUCCESSFUL TACKLE %  \\\n",
       "SEASON 7        711.0            0.38                 0.46   \n",
       "\n",
       "SEASONS   NO. OF SUPER TACKLES  TOTAL DEFENCE POINTS      WIN%     DRAW%  \\\n",
       "SEASON 7                  14.0                 180.0  0.529412  0.117647   \n",
       "\n",
       "SEASONS      LOSS%  WIN-LOSS%  UNSUCCESSFUL RAID%  EMPTY RAID%  \\\n",
       "SEASON 7  0.352941        1.5            0.241913     0.465541   \n",
       "\n",
       "SEASONS   AVG_RAID_TOUCH_POINT  AVG_RAID_BONUS_POINT  UNSUCCESSFUL TACKLE%  \\\n",
       "SEASON 7             12.117647              3.705882              0.570694   \n",
       "\n",
       "SEASONS   AVG_ALL_OUTS  \n",
       "SEASON 7      1.176471  "
      ]
     },
     "execution_count": 31,
     "metadata": {},
     "output_type": "execute_result"
    }
   ],
   "source": [
    "X_test"
   ]
  },
  {
   "cell_type": "code",
   "execution_count": 32,
   "metadata": {},
   "outputs": [
    {
     "data": {
      "text/plain": [
       "SEASON 7    4.0\n",
       "Name: FINISHING POSITION, dtype: float64"
      ]
     },
     "execution_count": 32,
     "metadata": {},
     "output_type": "execute_result"
    }
   ],
   "source": [
    "y_test"
   ]
  },
  {
   "cell_type": "code",
   "execution_count": 33,
   "metadata": {},
   "outputs": [],
   "source": [
    "# machine learning\n",
    "from sklearn.svm import SVC\n",
    "from sklearn import preprocessing\n",
    "#import fancyimpute\n",
    "from sklearn.model_selection import train_test_split\n",
    "from sklearn.model_selection import RandomizedSearchCV\n",
    "from sklearn.metrics import classification_report\n",
    "from sklearn.model_selection import cross_val_score\n",
    "\n",
    "#  Metrics\n",
    "from sklearn.metrics import classification_report, accuracy_score, confusion_matrix\n",
    "from sklearn.model_selection import cross_val_score\n",
    "\n",
    "# Models\n",
    "import xgboost as xgb\n",
    "from sklearn.model_selection import train_test_split\n",
    "from sklearn.linear_model import LogisticRegression\n",
    "from sklearn.ensemble import RandomForestClassifier\n",
    "from sklearn.svm import SVC\n",
    "from sklearn.naive_bayes import GaussianNB\n",
    "from sklearn.ensemble import AdaBoostClassifier\n",
    "from sklearn.discriminant_analysis import LinearDiscriminantAnalysis\n",
    "from sklearn.neighbors import KNeighborsClassifier\n",
    "from xgboost import XGBClassifier"
   ]
  },
  {
   "cell_type": "code",
   "execution_count": 34,
   "metadata": {
    "scrolled": true
   },
   "outputs": [
    {
     "name": "stdout",
     "output_type": "stream",
     "text": [
      "[14:33:32] WARNING: C:/Jenkins/workspace/xgboost-win64_release_0.90/src/objective/regression_obj.cu:152: reg:linear is now deprecated in favor of reg:squarederror.\n",
      "[0]\tvalidation_0-rmse:1.9248\tvalidation_1-rmse:3.33333\n",
      "Multiple eval metrics have been passed: 'validation_1-rmse' will be used for early stopping.\n",
      "\n",
      "Will train until validation_1-rmse hasn't improved in 50 rounds.\n",
      "[1]\tvalidation_0-rmse:1.79713\tvalidation_1-rmse:3.17778\n",
      "[2]\tvalidation_0-rmse:1.67796\tvalidation_1-rmse:3.03259\n",
      "[3]\tvalidation_0-rmse:1.56671\tvalidation_1-rmse:2.89709\n",
      "[4]\tvalidation_0-rmse:1.46286\tvalidation_1-rmse:2.77061\n",
      "[5]\tvalidation_0-rmse:1.3659\tvalidation_1-rmse:2.65257\n",
      "[6]\tvalidation_0-rmse:1.2754\tvalidation_1-rmse:2.5424\n",
      "[7]\tvalidation_0-rmse:1.19091\tvalidation_1-rmse:2.43958\n",
      "[8]\tvalidation_0-rmse:1.11203\tvalidation_1-rmse:2.3436\n",
      "[9]\tvalidation_0-rmse:1.0384\tvalidation_1-rmse:2.25403\n",
      "[10]\tvalidation_0-rmse:0.969654\tvalidation_1-rmse:2.17043\n",
      "[11]\tvalidation_0-rmse:0.905477\tvalidation_1-rmse:2.0924\n",
      "[12]\tvalidation_0-rmse:0.845564\tvalidation_1-rmse:2.01957\n",
      "[13]\tvalidation_0-rmse:0.78963\tvalidation_1-rmse:1.9516\n",
      "[14]\tvalidation_0-rmse:0.73741\tvalidation_1-rmse:1.88816\n",
      "[15]\tvalidation_0-rmse:0.688657\tvalidation_1-rmse:1.82895\n",
      "[16]\tvalidation_0-rmse:0.64314\tvalidation_1-rmse:1.77369\n",
      "[17]\tvalidation_0-rmse:0.600645\tvalidation_1-rmse:1.72211\n",
      "[18]\tvalidation_0-rmse:0.56097\tvalidation_1-rmse:1.67397\n",
      "[19]\tvalidation_0-rmse:0.523928\tvalidation_1-rmse:1.62904\n",
      "[20]\tvalidation_0-rmse:0.489343\tvalidation_1-rmse:1.5871\n",
      "[21]\tvalidation_0-rmse:0.457052\tvalidation_1-rmse:1.54796\n",
      "[22]\tvalidation_0-rmse:0.426903\tvalidation_1-rmse:1.51143\n",
      "[23]\tvalidation_0-rmse:0.398752\tvalidation_1-rmse:1.47733\n",
      "[24]\tvalidation_0-rmse:0.372468\tvalidation_1-rmse:1.44551\n",
      "[25]\tvalidation_0-rmse:0.347927\tvalidation_1-rmse:1.41581\n",
      "[26]\tvalidation_0-rmse:0.325011\tvalidation_1-rmse:1.38809\n",
      "[27]\tvalidation_0-rmse:0.303614\tvalidation_1-rmse:1.36222\n",
      "[28]\tvalidation_0-rmse:0.283634\tvalidation_1-rmse:1.33807\n",
      "[29]\tvalidation_0-rmse:0.264977\tvalidation_1-rmse:1.31553\n",
      "[30]\tvalidation_0-rmse:0.247556\tvalidation_1-rmse:1.2945\n",
      "[31]\tvalidation_0-rmse:0.231287\tvalidation_1-rmse:1.27486\n",
      "[32]\tvalidation_0-rmse:0.216095\tvalidation_1-rmse:1.25654\n",
      "[33]\tvalidation_0-rmse:0.201908\tvalidation_1-rmse:1.23944\n",
      "[34]\tvalidation_0-rmse:0.18866\tvalidation_1-rmse:1.22348\n",
      "[35]\tvalidation_0-rmse:0.176287\tvalidation_1-rmse:1.20858\n",
      "[36]\tvalidation_0-rmse:0.164733\tvalidation_1-rmse:1.19467\n",
      "[37]\tvalidation_0-rmse:0.153941\tvalidation_1-rmse:1.18169\n",
      "[38]\tvalidation_0-rmse:0.143863\tvalidation_1-rmse:1.16958\n",
      "[39]\tvalidation_0-rmse:0.13445\tvalidation_1-rmse:1.15827\n",
      "[40]\tvalidation_0-rmse:0.125659\tvalidation_1-rmse:1.14772\n",
      "[41]\tvalidation_0-rmse:0.117448\tvalidation_1-rmse:1.13787\n",
      "[42]\tvalidation_0-rmse:0.109778\tvalidation_1-rmse:1.12868\n",
      "[43]\tvalidation_0-rmse:0.102615\tvalidation_1-rmse:1.1201\n",
      "[44]\tvalidation_0-rmse:0.095923\tvalidation_1-rmse:1.1121\n",
      "[45]\tvalidation_0-rmse:0.089673\tvalidation_1-rmse:1.10462\n",
      "[46]\tvalidation_0-rmse:0.083834\tvalidation_1-rmse:1.09765\n",
      "[47]\tvalidation_0-rmse:0.078379\tvalidation_1-rmse:1.09114\n",
      "[48]\tvalidation_0-rmse:0.073284\tvalidation_1-rmse:1.08506\n",
      "[49]\tvalidation_0-rmse:0.068524\tvalidation_1-rmse:1.07939\n",
      "[50]\tvalidation_0-rmse:0.064076\tvalidation_1-rmse:1.0741\n",
      "[51]\tvalidation_0-rmse:0.059921\tvalidation_1-rmse:1.06916\n",
      "[52]\tvalidation_0-rmse:0.056039\tvalidation_1-rmse:1.06455\n",
      "[53]\tvalidation_0-rmse:0.052412\tvalidation_1-rmse:1.06025\n",
      "[54]\tvalidation_0-rmse:0.049023\tvalidation_1-rmse:1.05623\n",
      "[55]\tvalidation_0-rmse:0.045856\tvalidation_1-rmse:1.05248\n",
      "[56]\tvalidation_0-rmse:0.042896\tvalidation_1-rmse:1.04898\n",
      "[57]\tvalidation_0-rmse:0.040131\tvalidation_1-rmse:1.04572\n",
      "[58]\tvalidation_0-rmse:0.037547\tvalidation_1-rmse:1.04267\n",
      "[59]\tvalidation_0-rmse:0.035131\tvalidation_1-rmse:1.03982\n",
      "[60]\tvalidation_0-rmse:0.032874\tvalidation_1-rmse:1.03717\n",
      "[61]\tvalidation_0-rmse:0.030764\tvalidation_1-rmse:1.03469\n",
      "[62]\tvalidation_0-rmse:0.028791\tvalidation_1-rmse:1.03238\n",
      "[63]\tvalidation_0-rmse:0.026948\tvalidation_1-rmse:1.03022\n",
      "[64]\tvalidation_0-rmse:0.025224\tvalidation_1-rmse:1.02821\n",
      "[65]\tvalidation_0-rmse:0.023613\tvalidation_1-rmse:1.02632\n",
      "[66]\tvalidation_0-rmse:0.022107\tvalidation_1-rmse:1.02457\n",
      "[67]\tvalidation_0-rmse:0.020699\tvalidation_1-rmse:1.02293\n",
      "[68]\tvalidation_0-rmse:0.019382\tvalidation_1-rmse:1.0214\n",
      "[69]\tvalidation_0-rmse:0.018151\tvalidation_1-rmse:1.01998\n",
      "[70]\tvalidation_0-rmse:0.016999\tvalidation_1-rmse:1.01865\n",
      "[71]\tvalidation_0-rmse:0.015923\tvalidation_1-rmse:1.0174\n",
      "[72]\tvalidation_0-rmse:0.014916\tvalidation_1-rmse:1.01624\n",
      "[73]\tvalidation_0-rmse:0.013974\tvalidation_1-rmse:1.01516\n",
      "[74]\tvalidation_0-rmse:0.013092\tvalidation_1-rmse:1.01415\n",
      "[75]\tvalidation_0-rmse:0.012268\tvalidation_1-rmse:1.0132\n",
      "[76]\tvalidation_0-rmse:0.011497\tvalidation_1-rmse:1.01232\n",
      "[77]\tvalidation_0-rmse:0.010776\tvalidation_1-rmse:1.0115\n"
     ]
    },
    {
     "name": "stderr",
     "output_type": "stream",
     "text": [
      "D:\\anaconda\\lib\\site-packages\\xgboost\\core.py:587: FutureWarning:\n",
      "\n",
      "Series.base is deprecated and will be removed in a future version\n",
      "\n"
     ]
    },
    {
     "name": "stdout",
     "output_type": "stream",
     "text": [
      "[78]\tvalidation_0-rmse:0.010101\tvalidation_1-rmse:1.01074\n",
      "[79]\tvalidation_0-rmse:0.009469\tvalidation_1-rmse:1.01002\n",
      "[80]\tvalidation_0-rmse:0.008878\tvalidation_1-rmse:1.00935\n",
      "[81]\tvalidation_0-rmse:0.008325\tvalidation_1-rmse:1.00873\n",
      "[82]\tvalidation_0-rmse:0.007808\tvalidation_1-rmse:1.00815\n",
      "[83]\tvalidation_0-rmse:0.007323\tvalidation_1-rmse:1.0076\n",
      "[84]\tvalidation_0-rmse:0.006869\tvalidation_1-rmse:1.0071\n",
      "[85]\tvalidation_0-rmse:0.006445\tvalidation_1-rmse:1.00662\n",
      "[86]\tvalidation_0-rmse:0.006047\tvalidation_1-rmse:1.00618\n",
      "[87]\tvalidation_0-rmse:0.005675\tvalidation_1-rmse:1.00577\n",
      "[88]\tvalidation_0-rmse:0.005326\tvalidation_1-rmse:1.00539\n",
      "[89]\tvalidation_0-rmse:0.004999\tvalidation_1-rmse:1.00503\n",
      "[90]\tvalidation_0-rmse:0.004693\tvalidation_1-rmse:1.00469\n",
      "[91]\tvalidation_0-rmse:0.004407\tvalidation_1-rmse:1.00438\n",
      "[92]\tvalidation_0-rmse:0.004138\tvalidation_1-rmse:1.00409\n",
      "[93]\tvalidation_0-rmse:0.003886\tvalidation_1-rmse:1.00381\n",
      "[94]\tvalidation_0-rmse:0.003651\tvalidation_1-rmse:1.00356\n",
      "[95]\tvalidation_0-rmse:0.00343\tvalidation_1-rmse:1.00332\n",
      "[96]\tvalidation_0-rmse:0.003223\tvalidation_1-rmse:1.0031\n",
      "[97]\tvalidation_0-rmse:0.003028\tvalidation_1-rmse:1.00289\n",
      "[98]\tvalidation_0-rmse:0.002846\tvalidation_1-rmse:1.0027\n",
      "[99]\tvalidation_0-rmse:0.002676\tvalidation_1-rmse:1.00252\n",
      "[100]\tvalidation_0-rmse:0.002516\tvalidation_1-rmse:1.00235\n",
      "[101]\tvalidation_0-rmse:0.002366\tvalidation_1-rmse:1.0022\n",
      "[102]\tvalidation_0-rmse:0.002225\tvalidation_1-rmse:1.00205\n",
      "[103]\tvalidation_0-rmse:0.002093\tvalidation_1-rmse:1.00191\n",
      "[104]\tvalidation_0-rmse:0.001969\tvalidation_1-rmse:1.00179\n",
      "[105]\tvalidation_0-rmse:0.001852\tvalidation_1-rmse:1.00167\n",
      "[106]\tvalidation_0-rmse:0.001743\tvalidation_1-rmse:1.00156\n",
      "[107]\tvalidation_0-rmse:0.001641\tvalidation_1-rmse:1.00145\n",
      "[108]\tvalidation_0-rmse:0.001544\tvalidation_1-rmse:1.00135\n",
      "[109]\tvalidation_0-rmse:0.001454\tvalidation_1-rmse:1.00127\n",
      "[110]\tvalidation_0-rmse:0.001369\tvalidation_1-rmse:1.00118\n",
      "[111]\tvalidation_0-rmse:0.001289\tvalidation_1-rmse:1.0011\n",
      "[112]\tvalidation_0-rmse:0.001215\tvalidation_1-rmse:1.00103\n",
      "[113]\tvalidation_0-rmse:0.001144\tvalidation_1-rmse:1.00096\n",
      "[114]\tvalidation_0-rmse:0.001078\tvalidation_1-rmse:1.0009\n",
      "[115]\tvalidation_0-rmse:0.001016\tvalidation_1-rmse:1.00084\n",
      "[116]\tvalidation_0-rmse:0.000957\tvalidation_1-rmse:1.00078\n",
      "[117]\tvalidation_0-rmse:0.000903\tvalidation_1-rmse:1.00073\n",
      "[118]\tvalidation_0-rmse:0.000851\tvalidation_1-rmse:1.00068\n",
      "[119]\tvalidation_0-rmse:0.000802\tvalidation_1-rmse:1.00063\n",
      "[120]\tvalidation_0-rmse:0.000757\tvalidation_1-rmse:1.00059\n",
      "[121]\tvalidation_0-rmse:0.000756\tvalidation_1-rmse:1.00059\n",
      "[122]\tvalidation_0-rmse:0.000756\tvalidation_1-rmse:1.00058\n",
      "[123]\tvalidation_0-rmse:0.000756\tvalidation_1-rmse:1.00058\n",
      "[124]\tvalidation_0-rmse:0.000756\tvalidation_1-rmse:1.00058\n",
      "[125]\tvalidation_0-rmse:0.000755\tvalidation_1-rmse:1.00057\n",
      "[126]\tvalidation_0-rmse:0.000755\tvalidation_1-rmse:1.00057\n",
      "[127]\tvalidation_0-rmse:0.000755\tvalidation_1-rmse:1.00057\n",
      "[128]\tvalidation_0-rmse:0.000755\tvalidation_1-rmse:1.00056\n",
      "[129]\tvalidation_0-rmse:0.000755\tvalidation_1-rmse:1.00056\n",
      "[130]\tvalidation_0-rmse:0.000755\tvalidation_1-rmse:1.00056\n",
      "[131]\tvalidation_0-rmse:0.000755\tvalidation_1-rmse:1.00056\n",
      "[132]\tvalidation_0-rmse:0.000755\tvalidation_1-rmse:1.00056\n",
      "[133]\tvalidation_0-rmse:0.000755\tvalidation_1-rmse:1.00056\n",
      "[134]\tvalidation_0-rmse:0.000755\tvalidation_1-rmse:1.00055\n",
      "[135]\tvalidation_0-rmse:0.000755\tvalidation_1-rmse:1.00055\n",
      "[136]\tvalidation_0-rmse:0.000755\tvalidation_1-rmse:1.00055\n",
      "[137]\tvalidation_0-rmse:0.000755\tvalidation_1-rmse:1.00055\n",
      "[138]\tvalidation_0-rmse:0.000755\tvalidation_1-rmse:1.00055\n",
      "[139]\tvalidation_0-rmse:0.000754\tvalidation_1-rmse:1.00055\n",
      "[140]\tvalidation_0-rmse:0.000754\tvalidation_1-rmse:1.00055\n",
      "[141]\tvalidation_0-rmse:0.000754\tvalidation_1-rmse:1.00055\n",
      "[142]\tvalidation_0-rmse:0.000754\tvalidation_1-rmse:1.00054\n",
      "[143]\tvalidation_0-rmse:0.000754\tvalidation_1-rmse:1.00054\n",
      "[144]\tvalidation_0-rmse:0.000754\tvalidation_1-rmse:1.00054\n",
      "[145]\tvalidation_0-rmse:0.000754\tvalidation_1-rmse:1.00054\n",
      "[146]\tvalidation_0-rmse:0.000754\tvalidation_1-rmse:1.00054\n",
      "[147]\tvalidation_0-rmse:0.000754\tvalidation_1-rmse:1.00054\n",
      "[148]\tvalidation_0-rmse:0.000754\tvalidation_1-rmse:1.00054\n",
      "[149]\tvalidation_0-rmse:0.000754\tvalidation_1-rmse:1.00054\n",
      "[150]\tvalidation_0-rmse:0.000754\tvalidation_1-rmse:1.00054\n",
      "[151]\tvalidation_0-rmse:0.000754\tvalidation_1-rmse:1.00054\n",
      "[152]\tvalidation_0-rmse:0.000754\tvalidation_1-rmse:1.00054\n",
      "[153]\tvalidation_0-rmse:0.000754\tvalidation_1-rmse:1.00054\n",
      "[154]\tvalidation_0-rmse:0.000754\tvalidation_1-rmse:1.00054\n",
      "[155]\tvalidation_0-rmse:0.000754\tvalidation_1-rmse:1.00054\n",
      "[156]\tvalidation_0-rmse:0.000754\tvalidation_1-rmse:1.00054\n",
      "[157]\tvalidation_0-rmse:0.000754\tvalidation_1-rmse:1.00054\n",
      "[158]\tvalidation_0-rmse:0.000754\tvalidation_1-rmse:1.00054\n",
      "[159]\tvalidation_0-rmse:0.000754\tvalidation_1-rmse:1.00054\n",
      "[160]\tvalidation_0-rmse:0.000754\tvalidation_1-rmse:1.00054\n",
      "[161]\tvalidation_0-rmse:0.000754\tvalidation_1-rmse:1.00054\n",
      "[162]\tvalidation_0-rmse:0.000754\tvalidation_1-rmse:1.00054\n",
      "[163]\tvalidation_0-rmse:0.000754\tvalidation_1-rmse:1.00053\n",
      "[164]\tvalidation_0-rmse:0.000754\tvalidation_1-rmse:1.00053\n",
      "[165]\tvalidation_0-rmse:0.000754\tvalidation_1-rmse:1.00053\n",
      "[166]\tvalidation_0-rmse:0.000754\tvalidation_1-rmse:1.00053\n",
      "[167]\tvalidation_0-rmse:0.000754\tvalidation_1-rmse:1.00053\n",
      "[168]\tvalidation_0-rmse:0.000754\tvalidation_1-rmse:1.00053\n",
      "[169]\tvalidation_0-rmse:0.000754\tvalidation_1-rmse:1.00053\n",
      "[170]\tvalidation_0-rmse:0.000754\tvalidation_1-rmse:1.00053\n",
      "[171]\tvalidation_0-rmse:0.000755\tvalidation_1-rmse:1.00053\n",
      "[172]\tvalidation_0-rmse:0.000755\tvalidation_1-rmse:1.00053\n",
      "[173]\tvalidation_0-rmse:0.000755\tvalidation_1-rmse:1.00053\n",
      "[174]\tvalidation_0-rmse:0.000755\tvalidation_1-rmse:1.00053\n",
      "[175]\tvalidation_0-rmse:0.000755\tvalidation_1-rmse:1.00053\n",
      "[176]\tvalidation_0-rmse:0.000755\tvalidation_1-rmse:1.00053\n",
      "[177]\tvalidation_0-rmse:0.000755\tvalidation_1-rmse:1.00053\n",
      "[178]\tvalidation_0-rmse:0.000755\tvalidation_1-rmse:1.00053\n",
      "[179]\tvalidation_0-rmse:0.000755\tvalidation_1-rmse:1.00053\n",
      "[180]\tvalidation_0-rmse:0.000755\tvalidation_1-rmse:1.00053\n",
      "[181]\tvalidation_0-rmse:0.000755\tvalidation_1-rmse:1.00053\n",
      "[182]\tvalidation_0-rmse:0.000755\tvalidation_1-rmse:1.00053\n",
      "[183]\tvalidation_0-rmse:0.000755\tvalidation_1-rmse:1.00053\n",
      "[184]\tvalidation_0-rmse:0.000755\tvalidation_1-rmse:1.00053\n",
      "[185]\tvalidation_0-rmse:0.000755\tvalidation_1-rmse:1.00053\n",
      "[186]\tvalidation_0-rmse:0.000755\tvalidation_1-rmse:1.00053\n",
      "[187]\tvalidation_0-rmse:0.000755\tvalidation_1-rmse:1.00053\n",
      "[188]\tvalidation_0-rmse:0.000755\tvalidation_1-rmse:1.00053\n",
      "[189]\tvalidation_0-rmse:0.000755\tvalidation_1-rmse:1.00053\n",
      "[190]\tvalidation_0-rmse:0.000755\tvalidation_1-rmse:1.00053\n",
      "[191]\tvalidation_0-rmse:0.000755\tvalidation_1-rmse:1.00053\n",
      "[192]\tvalidation_0-rmse:0.000755\tvalidation_1-rmse:1.00053\n",
      "[193]\tvalidation_0-rmse:0.000755\tvalidation_1-rmse:1.00053\n",
      "[194]\tvalidation_0-rmse:0.000755\tvalidation_1-rmse:1.00053\n",
      "[195]\tvalidation_0-rmse:0.000755\tvalidation_1-rmse:1.00053\n",
      "[196]\tvalidation_0-rmse:0.000755\tvalidation_1-rmse:1.00053\n",
      "[197]\tvalidation_0-rmse:0.000755\tvalidation_1-rmse:1.00053\n",
      "[198]\tvalidation_0-rmse:0.000755\tvalidation_1-rmse:1.00053\n",
      "[199]\tvalidation_0-rmse:0.000755\tvalidation_1-rmse:1.00053\n",
      "[200]\tvalidation_0-rmse:0.000755\tvalidation_1-rmse:1.00053\n",
      "[201]\tvalidation_0-rmse:0.000755\tvalidation_1-rmse:1.00053\n",
      "[202]\tvalidation_0-rmse:0.000755\tvalidation_1-rmse:1.00053\n",
      "[203]\tvalidation_0-rmse:0.000755\tvalidation_1-rmse:1.00053\n",
      "[204]\tvalidation_0-rmse:0.000756\tvalidation_1-rmse:1.00053\n",
      "[205]\tvalidation_0-rmse:0.000756\tvalidation_1-rmse:1.00053\n",
      "[206]\tvalidation_0-rmse:0.000756\tvalidation_1-rmse:1.00053\n",
      "[207]\tvalidation_0-rmse:0.000756\tvalidation_1-rmse:1.00053\n",
      "[208]\tvalidation_0-rmse:0.000756\tvalidation_1-rmse:1.00053\n",
      "[209]\tvalidation_0-rmse:0.000756\tvalidation_1-rmse:1.00053\n",
      "[210]\tvalidation_0-rmse:0.000756\tvalidation_1-rmse:1.00053\n",
      "[211]\tvalidation_0-rmse:0.000756\tvalidation_1-rmse:1.00053\n",
      "[212]\tvalidation_0-rmse:0.000756\tvalidation_1-rmse:1.00053\n",
      "[213]\tvalidation_0-rmse:0.000756\tvalidation_1-rmse:1.00053\n",
      "Stopping. Best iteration:\n",
      "[163]\tvalidation_0-rmse:0.000754\tvalidation_1-rmse:1.00053\n",
      "\n"
     ]
    },
    {
     "data": {
      "text/plain": [
       "XGBRegressor(base_score=0.5, booster='gbtree', colsample_bylevel=1,\n",
       "             colsample_bynode=1, colsample_bytree=1, gamma=0,\n",
       "             importance_type='gain', learning_rate=0.1, max_delta_step=0,\n",
       "             max_depth=3, min_child_weight=1, missing=None, n_estimators=1000,\n",
       "             n_jobs=1, nthread=None, objective='reg:linear', random_state=0,\n",
       "             reg_alpha=0, reg_lambda=1, scale_pos_weight=1, seed=None,\n",
       "             silent=None, subsample=1, verbosity=1)"
      ]
     },
     "execution_count": 34,
     "metadata": {},
     "output_type": "execute_result"
    }
   ],
   "source": [
    "reg = xgb.XGBRegressor(n_estimators=1000)\n",
    "reg.fit(X_train, y_train,\n",
    "        eval_set=[(X_train, y_train), (X_test, y_test)],\n",
    "        early_stopping_rounds=50,\n",
    "       verbose=True) # Change verbose to True if you want to see it train"
   ]
  },
  {
   "cell_type": "code",
   "execution_count": 35,
   "metadata": {},
   "outputs": [],
   "source": [
    "pred  = pd.DataFrame()\n",
    "pred['MW_Prediction'] = reg.predict(X_test)\n"
   ]
  },
  {
   "cell_type": "code",
   "execution_count": 36,
   "metadata": {},
   "outputs": [
    {
     "data": {
      "text/plain": [
       "0    2.999464\n",
       "Name: MW_Prediction, dtype: float32"
      ]
     },
     "execution_count": 36,
     "metadata": {},
     "output_type": "execute_result"
    }
   ],
   "source": [
    "pred['MW_Prediction']"
   ]
  },
  {
   "cell_type": "code",
   "execution_count": 37,
   "metadata": {},
   "outputs": [
    {
     "data": {
      "text/plain": [
       "[3.0]"
      ]
     },
     "execution_count": 37,
     "metadata": {},
     "output_type": "execute_result"
    }
   ],
   "source": [
    "predict = reg.predict(X_test)\n",
    "predictions = [round(value) for value in predict]\n",
    "predictions"
   ]
  },
  {
   "cell_type": "markdown",
   "metadata": {},
   "source": [
    "## Finding the win-loss% of a team for Season 7"
   ]
  },
  {
   "cell_type": "code",
   "execution_count": 38,
   "metadata": {},
   "outputs": [
    {
     "data": {
      "text/plain": [
       "1.5"
      ]
     },
     "execution_count": 38,
     "metadata": {},
     "output_type": "execute_result"
    }
   ],
   "source": [
    "df6.loc['SEASON 7','WIN-LOSS%']"
   ]
  },
  {
   "cell_type": "markdown",
   "metadata": {},
   "source": [
    "## Finding the successful Raid %(successful raid/ total raid) for season 7"
   ]
  },
  {
   "cell_type": "code",
   "execution_count": 39,
   "metadata": {},
   "outputs": [
    {
     "data": {
      "text/plain": [
       "0.29254571026722925"
      ]
     },
     "execution_count": 39,
     "metadata": {},
     "output_type": "execute_result"
    }
   ],
   "source": [
    "SUCC_RAID =df2.loc['SEASON 7','SUCCESSFUL RAIDS']\n",
    "TOT_RAID = df2.loc['SEASON 7','TOTAL RAIDS']\n",
    "\n",
    "SUCC_RAID_PERC = SUCC_RAID/TOT_RAID\n",
    "SUCC_RAID_PERC"
   ]
  },
  {
   "cell_type": "markdown",
   "metadata": {},
   "source": [
    "## Finding the OVERALL successful Raid %(successful raid/ total raid) of a team"
   ]
  },
  {
   "cell_type": "code",
   "execution_count": 40,
   "metadata": {},
   "outputs": [
    {
     "data": {
      "text/plain": [
       "0.3318950017979144"
      ]
     },
     "execution_count": 40,
     "metadata": {},
     "output_type": "execute_result"
    }
   ],
   "source": [
    "SUCC_RAID_OV =df2.loc['OVERALL','SUCCESSFUL RAIDS']\n",
    "TOT_RAID_OV = df2.loc['OVERALL','TOTAL RAIDS']\n",
    "\n",
    "SUCC_RAID_PERC_OV = SUCC_RAID_OV/TOT_RAID_OV\n",
    "SUCC_RAID_PERC_OV"
   ]
  },
  {
   "cell_type": "markdown",
   "metadata": {},
   "source": [
    "## Finding the Super-performance total of the team"
   ]
  },
  {
   "cell_type": "code",
   "execution_count": 41,
   "metadata": {},
   "outputs": [
    {
     "data": {
      "text/plain": [
       "16.0"
      ]
     },
     "execution_count": 41,
     "metadata": {},
     "output_type": "execute_result"
    }
   ],
   "source": [
    "SUPER_RAIDS = df2.loc['SEASON 7','NO. OF SUPER RAIDS']\n",
    "SUPER_TACKLES = df2.loc['SEASON 7','NO. OF SUPER TACKLES']\n",
    "All_OUTS_INFLICTED = df2.loc['SEASON 7','ALL OUTS INFLICTED']\n",
    "All_OUTS_CONCEDED = 22\n",
    "\n",
    "SPT = SUPER_RAIDS+SUPER_TACKLES+All_OUTS_INFLICTED-All_OUTS_CONCEDED\n",
    "SPT"
   ]
  },
  {
   "cell_type": "code",
   "execution_count": null,
   "metadata": {},
   "outputs": [],
   "source": []
  }
 ],
 "metadata": {
  "kernelspec": {
   "display_name": "Python 3",
   "language": "python",
   "name": "python3"
  },
  "language_info": {
   "codemirror_mode": {
    "name": "ipython",
    "version": 3
   },
   "file_extension": ".py",
   "mimetype": "text/x-python",
   "name": "python",
   "nbconvert_exporter": "python",
   "pygments_lexer": "ipython3",
   "version": "3.6.9"
  }
 },
 "nbformat": 4,
 "nbformat_minor": 2
}
